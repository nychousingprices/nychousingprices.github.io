{
 "cells": [
  {
   "cell_type": "code",
   "execution_count": 22,
   "metadata": {
    "collapsed": false
   },
   "outputs": [
    {
     "data": {
      "text/html": [
       "<script>\n",
       "code_show=true;\n",
       "function code_toggle() {\n",
       " if (code_show){\n",
       " $('div.input').hide();\n",
       " } else {\n",
       " $('div.input').show();\n",
       " }\n",
       " code_show = !code_show\n",
       "}\n",
       "$( document ).ready(code_toggle);\n",
       "</script>\n",
       "<form action=\"javascript:code_toggle()\"><input type=\"submit\" value=\"Click here to toggle on/off the raw code.\"></form>"
      ],
      "text/plain": [
       "<IPython.core.display.HTML object>"
      ]
     },
     "execution_count": 22,
     "metadata": {},
     "output_type": "execute_result"
    }
   ],
   "source": [
    "from IPython.display import HTML\n",
    "\n",
    "HTML('''<script>\n",
    "code_show=true;\n",
    "function code_toggle() {\n",
    " if (code_show){\n",
    " $('div.input').hide();\n",
    " } else {\n",
    " $('div.input').show();\n",
    " }\n",
    " code_show = !code_show\n",
    "}\n",
    "$( document ).ready(code_toggle);\n",
    "</script>\n",
    "<form action=\"javascript:code_toggle()\"><input type=\"submit\" value=\"Click here to toggle on/off the raw code.\"></form>''')"
   ]
  },
  {
   "cell_type": "code",
   "execution_count": 1,
   "metadata": {
    "collapsed": false
   },
   "outputs": [
    {
     "data": {
      "text/html": [
       "\n",
       "<a href=\"index.html\" target=\"_self\">Back to home page</a>"
      ],
      "text/plain": [
       "<IPython.core.display.HTML object>"
      ]
     },
     "metadata": {},
     "output_type": "display_data"
    }
   ],
   "source": [
    "%%html\n",
    "\n",
    "<a href=\"index.html\" target=\"_self\">Back to home page</a>"
   ]
  },
  {
   "cell_type": "markdown",
   "metadata": {},
   "source": [
    "### Table of Contents"
   ]
  },
  {
   "cell_type": "code",
   "execution_count": 3,
   "metadata": {
    "collapsed": false
   },
   "outputs": [
    {
     "data": {
      "text/html": [
       "\n",
       "- <a href = '#map'> Mapping latitude/longitude to regions </a>\n",
       "<br>\n",
       "- <a href = '#merge'> Merging in data about precincts and school districts </a>"
      ],
      "text/plain": [
       "<IPython.core.display.HTML object>"
      ]
     },
     "metadata": {},
     "output_type": "display_data"
    }
   ],
   "source": [
    "%%html\n",
    "\n",
    "- <a href = '#map'> Mapping latitude/longitude to regions </a>\n",
    "<br>\n",
    "- <a href = '#merge'> Merging in data about precincts and school districts </a>\n"
   ]
  },
  {
   "cell_type": "markdown",
   "metadata": {},
   "source": [
    "#### To see more on data cleaning: <a href=\"data_cleaning.html\" target=\"_self\">Data Cleaning</a>"
   ]
  },
  {
   "cell_type": "markdown",
   "metadata": {},
   "source": [
    "-------------"
   ]
  },
  {
   "cell_type": "code",
   "execution_count": 23,
   "metadata": {
    "collapsed": true
   },
   "outputs": [],
   "source": [
    "import sys\n",
    "sys.path.append(\"/anaconda/lib/python2.7/site-packages\")\n",
    "\n",
    "\n",
    "import pandas as pd\n",
    "import numpy as np\n",
    "from mpl_toolkits.basemap import Basemap\n",
    "from matplotlib.patches import Polygon\n",
    "import string\n",
    "import matplotlib.pyplot as plt\n",
    "%matplotlib inline\n",
    "import math\n",
    "import shapefile\n",
    "from sklearn.neighbors import KNeighborsClassifier as KNN\n",
    "import warnings\n",
    "warnings.filterwarnings('ignore')"
   ]
  },
  {
   "cell_type": "markdown",
   "metadata": {},
   "source": [
    "# Data collection"
   ]
  },
  {
   "cell_type": "markdown",
   "metadata": {},
   "source": [
    "<a id='map'></a>\n",
    "### Mapping latitude/longitude to regions"
   ]
  },
  {
   "cell_type": "markdown",
   "metadata": {},
   "source": [
    "We found shapefiles for the neighborhoods within Manhattan, the school districts within Manhattan, and the precincts within Manhattan.  Our goal was to map each home in our dataset to a neighborhood, a school district, and a precinct, and to combine this information with data specific to each school district (test scores) and each precinct (crime rates), as we expected each of these things to be significantly affect the price of homes.  The shapefiles contained polygons for each neighborhood, school district, and precinct, so we used the latitude/longitude values for each home in our dataset to find the polygon in which that latitude/longitude pair was contained."
   ]
  },
  {
   "cell_type": "code",
   "execution_count": 2,
   "metadata": {
    "collapsed": true
   },
   "outputs": [],
   "source": [
    "########### Example use of this code:\n",
    "\n",
    "# path_to_shape_file = '/Users/nbw/Dropbox/CS_109_Project/crime_UNFORMATTED/nypp_16b/nypd_pres'\n",
    "# regions_dict = generate_regions_to_points_dict(path_to_shape_file, \"Precinct\")\n",
    "# get_region_from_latlong_and_shapefile(40.768814, -73.931085, regions_dict)\n",
    "# #\t--> returns 114\n",
    "\n",
    "#################################################################################################\n",
    "####### Inputs:\n",
    "#######     - path to shapefile\n",
    "#######\t\t- name of the attribute we want as our name of each region\n",
    "####### Returns:\n",
    "#######\t\t- dict mapping region names to shape polygons \n",
    "\n",
    "def generate_regions_to_points_dict(shapefile_path, region_attribute_name):\n",
    "    sf = shapefile.Reader(shapefile_path)\n",
    "    shapes = sf.shapes()\n",
    "    records = sf.records()\n",
    "    fields = sf.fields\n",
    "    \n",
    "    # Make sure region_attribute_name exists in the shapefile\n",
    "    found = False\n",
    "    for i in range(1, len(fields)):\n",
    "        if fields[i][0] == region_attribute_name:\n",
    "            attribute_key = i-1\n",
    "            found = True\n",
    "    if not found:\n",
    "        print \"Region attribute not found. Available attributes:\"\n",
    "        for i in range(1, len(fields)):\n",
    "            print str(fields[i][0]) + \"\\t\",\n",
    "        return     \n",
    "\n",
    "    \n",
    "    regions_to_points_dict = {}\n",
    "    for i in range(len(records)):\n",
    "        regions_to_points_dict[records[i][attribute_key]] = shapes[i].points\n",
    "    return regions_to_points_dict\n",
    " \n",
    "\n",
    "\n",
    "\n",
    "#################################################################################################\n",
    "####### Code from: http://www.ariel.com.au/a/python-point-int-poly.html\n",
    "####### Inputs:\n",
    "####### \t- x value\n",
    "#######\t\t- y value\n",
    "#######\t\t- polygon: list of (x,y) pairs corresponding to the perimeter/corners of a polygon\n",
    "####### Returns: true if x,y is in the specified polygon\n",
    "\n",
    "def point_inside_polygon(x,y,poly):\n",
    "\n",
    "    n = len(poly)\n",
    "    inside =False\n",
    "\n",
    "    p1x,p1y = poly[0]\n",
    "    for i in range(n+1):\n",
    "        p2x,p2y = poly[i % n]\n",
    "        if y > min(p1y,p2y):\n",
    "            if y <= max(p1y,p2y):\n",
    "                if x <= max(p1x,p2x):\n",
    "                    if p1y != p2y:\n",
    "                        xinters = (y-p1y)*(p2x-p1x)/(p2y-p1y)+p1x\n",
    "                    if p1x == p2x or x <= xinters:\n",
    "                        inside = not inside\n",
    "        p1x,p1y = p2x,p2y\n",
    "\n",
    "    return inside\n",
    "\n",
    "\n",
    "\n",
    "\n",
    "#################################################################################################\n",
    "####### Inputs:\n",
    "#######     - latitude\n",
    "#######\t\t- longitude \n",
    "#######     - regions_to_points_dict - keys are region names, values are lists of points outlining the region\n",
    "#######\t\t\t\t\t\t\t\t- see \"generate_regions_to_points_dict\" method to create one of these dicts\n",
    "####### Returns:\n",
    "#######\t\t- region the latitude,longitude input falls inside \n",
    "\n",
    "def get_region_from_latlong_and_shapefile(latitude, longitude, regions_to_points_dict, print_errors = True):\n",
    "    for key in regions_to_points_dict.keys():\n",
    "        if point_inside_polygon(longitude, latitude, regions_to_points_dict[key]):\n",
    "            return key\n",
    "    if print_errors:\n",
    "        print \"region not found\"\n",
    "    return\n",
    "\n"
   ]
  },
  {
   "cell_type": "code",
   "execution_count": 11,
   "metadata": {
    "collapsed": false
   },
   "outputs": [],
   "source": [
    "# shapefiles:\n",
    "\n",
    "path_to_neighborhood_shape_file = 'ZillowNeighborhoods-NY/ZillowNeighborhoods-NY'\n",
    "neighborhood_dict = generate_regions_to_points_dict(path_to_neighborhood_shape_file, 'NAME')\n",
    "\n",
    "path_to_schooldistrict_shape_file = 'plswork/plswork'\n",
    "school_district_dict = generate_regions_to_points_dict(path_to_schooldistrict_shape_file, 'SchoolDist')\n",
    "\n",
    "path_to_precincts_shape_file = 'nypp_16b/nypd_pres'\n",
    "precincts_dict = generate_regions_to_points_dict(path_to_precincts_shape_file, 'Precinct')\n"
   ]
  },
  {
   "cell_type": "code",
   "execution_count": 13,
   "metadata": {
    "collapsed": false
   },
   "outputs": [],
   "source": [
    "# zillow data\n",
    "df = pd.read_csv(\"mn_df.csv\")\n",
    "\n",
    "# drop rows without long/lat (5 rows)\n",
    "df = df[np.isfinite(df['longitude'])]\n",
    "df = df[np.isfinite(df['latitude'])]"
   ]
  },
  {
   "cell_type": "code",
   "execution_count": 24,
   "metadata": {
    "collapsed": false
   },
   "outputs": [],
   "source": [
    "df[\"neighborhood\"] = None\n",
    "for i in df.index:\n",
    "    df.set_value(i, 'neighborhood', get_region_from_latlong_and_shapefile(df['latitude'].loc[i] , df['longitude'].loc[i] , neighborhood_dict, print_errors=False))\n",
    "    \n",
    "# fill missing values using sklearn's knn functions\n",
    "unknown = df[df[\"neighborhood\"] != df[\"neighborhood\"]]\n",
    "known = df[df[\"neighborhood\"] == df[\"neighborhood\"]]\n",
    "\n",
    "train_x_matrix = known[[\"latitude\", \"longitude\"]].values\n",
    "train_y_matrix = known[\"neighborhood\"]\n",
    "test_x_matrix = unknown[[\"latitude\", \"longitude\"]].values\n",
    "\n",
    "model = KNN(n_neighbors = 1)\n",
    "model.fit(train_x_matrix, train_y_matrix)\n",
    "preds = model.predict(test_x_matrix)\n",
    "\n",
    "unknown[\"neighborhood\"] = preds\n",
    "\n",
    "df.loc[unknown.index, 'neighborhood'] = pd.Series(unknown[\"neighborhood\"])"
   ]
  },
  {
   "cell_type": "code",
   "execution_count": 19,
   "metadata": {
    "collapsed": false
   },
   "outputs": [],
   "source": [
    "df[\"schooldistrict\"] = None\n",
    "for i in df.index.values:\n",
    "    df.set_value(i, 'schooldistrict', get_region_from_latlong_and_shapefile(df['latitude'].loc[i] , df['longitude'].loc[i] , school_district_dict, print_errors=False))\n",
    "\n",
    "# fill missing values using sklearn's knn functions\n",
    "# NOTE: manhattan only has districts 1 through 6, so we're also re-mapping everything assigned to other districts \n",
    "known = df[df[\"schooldistrict\"] == df[\"schooldistrict\"]]\n",
    "known = df[df[\"schooldistrict\"] < 7]\n",
    "unknown = df.drop(known.index)\n",
    "unknown[\"schooldistrict\"] = None \n",
    "\n",
    "\n",
    "\n",
    "train_x_matrix = known[[\"latitude\", \"longitude\"]].values\n",
    "train_y_matrix = known[\"schooldistrict\"].astype(int)\n",
    "test_x_matrix = unknown[[\"latitude\", \"longitude\"]].values\n",
    "\n",
    "model = KNN(n_neighbors = 1)\n",
    "model.fit(train_x_matrix, train_y_matrix)\n",
    "preds = model.predict(test_x_matrix)\n",
    "\n",
    "unknown[\"schooldistrict\"] = preds\n",
    "\n",
    "df.loc[unknown.index, 'schooldistrict'] = pd.Series(unknown[\"schooldistrict\"])"
   ]
  },
  {
   "cell_type": "code",
   "execution_count": 25,
   "metadata": {
    "collapsed": false
   },
   "outputs": [],
   "source": [
    "df[\"precinct\"] = None\n",
    "for i in df.index.values:\n",
    "    df.set_value(i, 'precinct', get_region_from_latlong_and_shapefile(df['latitude'].loc[i] , df['longitude'].loc[i] , precincts_dict, print_errors=False))\n"
   ]
  },
  {
   "cell_type": "code",
   "execution_count": 26,
   "metadata": {
    "collapsed": true
   },
   "outputs": [],
   "source": [
    "# fill missing values using sklearn's knn functions\n",
    "# NOTE: manhattan only has districts 1-34, so we're also re-mapping everything assigned to other districts \n",
    "known = df[df[\"precinct\"] == df[\"precinct\"]]\n",
    "known = df[df[\"precinct\"] < 35]\n",
    "unknown = df.drop(known.index)\n",
    "unknown[\"precinct\"] = None \n",
    "\n",
    "\n",
    "\n",
    "train_x_matrix = known[[\"latitude\", \"longitude\"]].values\n",
    "train_y_matrix = known[\"precinct\"].astype(int)\n",
    "test_x_matrix = unknown[[\"latitude\", \"longitude\"]].values\n",
    "\n",
    "model = KNN(n_neighbors = 1)\n",
    "model.fit(train_x_matrix, train_y_matrix)\n",
    "preds = model.predict(test_x_matrix)\n",
    "\n",
    "unknown[\"precinct\"] = preds\n",
    "\n",
    "df.loc[unknown.index, 'precinct'] = pd.Series(unknown[\"precinct\"])"
   ]
  },
  {
   "cell_type": "markdown",
   "metadata": {},
   "source": [
    "##### Data"
   ]
  },
  {
   "cell_type": "code",
   "execution_count": 27,
   "metadata": {
    "collapsed": false,
    "scrolled": true
   },
   "outputs": [
    {
     "data": {
      "text/html": [
       "<div>\n",
       "<table border=\"1\" class=\"dataframe\">\n",
       "  <thead>\n",
       "    <tr style=\"text-align: right;\">\n",
       "      <th></th>\n",
       "      <th>tax_value</th>\n",
       "      <th>last_sold_price</th>\n",
       "      <th>property_size</th>\n",
       "      <th>zestimate_amount</th>\n",
       "      <th>bathrooms</th>\n",
       "      <th>zestimate_valuation_range_high</th>\n",
       "      <th>tax_year</th>\n",
       "      <th>zestimate_value_change</th>\n",
       "      <th>latitude</th>\n",
       "      <th>zestimate_percentile</th>\n",
       "      <th>...</th>\n",
       "      <th>graph_data_link</th>\n",
       "      <th>home_size</th>\n",
       "      <th>longitude</th>\n",
       "      <th>home_detail_link</th>\n",
       "      <th>home_type</th>\n",
       "      <th>map_this_home_link</th>\n",
       "      <th>Unnamed: 22</th>\n",
       "      <th>neighborhood</th>\n",
       "      <th>schooldistrict</th>\n",
       "      <th>precinct</th>\n",
       "    </tr>\n",
       "  </thead>\n",
       "  <tbody>\n",
       "    <tr>\n",
       "      <th>0</th>\n",
       "      <td>NaN</td>\n",
       "      <td>NaN</td>\n",
       "      <td>NaN</td>\n",
       "      <td>849427.0</td>\n",
       "      <td>1.0</td>\n",
       "      <td>1044795.0</td>\n",
       "      <td>NaN</td>\n",
       "      <td>NaN</td>\n",
       "      <td>40.724448</td>\n",
       "      <td>0.0</td>\n",
       "      <td>...</td>\n",
       "      <td>NaN</td>\n",
       "      <td>400.0</td>\n",
       "      <td>-73.980284</td>\n",
       "      <td>http://www.zillow.com/homedetails/202-E-7th-St...</td>\n",
       "      <td>MultiFamily2To4</td>\n",
       "      <td>http://www.zillow.com/homes/2098748189_zpid/</td>\n",
       "      <td>NaN</td>\n",
       "      <td>East Village</td>\n",
       "      <td>1</td>\n",
       "      <td>9</td>\n",
       "    </tr>\n",
       "    <tr>\n",
       "      <th>1</th>\n",
       "      <td>1642000.0</td>\n",
       "      <td>NaN</td>\n",
       "      <td>2250.0</td>\n",
       "      <td>NaN</td>\n",
       "      <td>2.0</td>\n",
       "      <td>NaN</td>\n",
       "      <td>2015.0</td>\n",
       "      <td>NaN</td>\n",
       "      <td>40.724420</td>\n",
       "      <td>0.0</td>\n",
       "      <td>...</td>\n",
       "      <td>http://www.zillow.com/homedetails/204-E-7th-St...</td>\n",
       "      <td>10800.0</td>\n",
       "      <td>-73.980200</td>\n",
       "      <td>http://www.zillow.com/homedetails/204-E-7th-St...</td>\n",
       "      <td>Apartment</td>\n",
       "      <td>http://www.zillow.com/homes/31495862_zpid/</td>\n",
       "      <td>NaN</td>\n",
       "      <td>East Village</td>\n",
       "      <td>1</td>\n",
       "      <td>9</td>\n",
       "    </tr>\n",
       "    <tr>\n",
       "      <th>2</th>\n",
       "      <td>1674000.0</td>\n",
       "      <td>NaN</td>\n",
       "      <td>2250.0</td>\n",
       "      <td>7332356.0</td>\n",
       "      <td>1.0</td>\n",
       "      <td>7992268.0</td>\n",
       "      <td>2015.0</td>\n",
       "      <td>NaN</td>\n",
       "      <td>40.724385</td>\n",
       "      <td>0.0</td>\n",
       "      <td>...</td>\n",
       "      <td>http://www.zillow.com/homedetails/206-E-7th-St...</td>\n",
       "      <td>10800.0</td>\n",
       "      <td>-73.980120</td>\n",
       "      <td>http://www.zillow.com/homedetails/206-E-7th-St...</td>\n",
       "      <td>Cooperative</td>\n",
       "      <td>http://www.zillow.com/homes/31495863_zpid/</td>\n",
       "      <td>NaN</td>\n",
       "      <td>East Village</td>\n",
       "      <td>1</td>\n",
       "      <td>9</td>\n",
       "    </tr>\n",
       "    <tr>\n",
       "      <th>3</th>\n",
       "      <td>NaN</td>\n",
       "      <td>NaN</td>\n",
       "      <td>NaN</td>\n",
       "      <td>1991289.0</td>\n",
       "      <td>1.0</td>\n",
       "      <td>2708153.0</td>\n",
       "      <td>NaN</td>\n",
       "      <td>NaN</td>\n",
       "      <td>40.724332</td>\n",
       "      <td>0.0</td>\n",
       "      <td>...</td>\n",
       "      <td>NaN</td>\n",
       "      <td>NaN</td>\n",
       "      <td>-73.980007</td>\n",
       "      <td>http://www.zillow.com/homedetails/208-E-7th-St...</td>\n",
       "      <td>MultiFamily2To4</td>\n",
       "      <td>http://www.zillow.com/homes/2098632095_zpid/</td>\n",
       "      <td>NaN</td>\n",
       "      <td>East Village</td>\n",
       "      <td>1</td>\n",
       "      <td>9</td>\n",
       "    </tr>\n",
       "    <tr>\n",
       "      <th>4</th>\n",
       "      <td>NaN</td>\n",
       "      <td>NaN</td>\n",
       "      <td>NaN</td>\n",
       "      <td>NaN</td>\n",
       "      <td>NaN</td>\n",
       "      <td>NaN</td>\n",
       "      <td>NaN</td>\n",
       "      <td>NaN</td>\n",
       "      <td>40.724845</td>\n",
       "      <td>0.0</td>\n",
       "      <td>...</td>\n",
       "      <td>NaN</td>\n",
       "      <td>NaN</td>\n",
       "      <td>-73.980804</td>\n",
       "      <td>http://www.zillow.com/homedetails/190-E-7th-St...</td>\n",
       "      <td>Unknown</td>\n",
       "      <td>http://www.zillow.com/homes/2131860614_zpid/</td>\n",
       "      <td>NaN</td>\n",
       "      <td>East Village</td>\n",
       "      <td>1</td>\n",
       "      <td>9</td>\n",
       "    </tr>\n",
       "  </tbody>\n",
       "</table>\n",
       "<p>5 rows × 26 columns</p>\n",
       "</div>"
      ],
      "text/plain": [
       "   tax_value  last_sold_price  property_size  zestimate_amount  bathrooms  \\\n",
       "0        NaN              NaN            NaN          849427.0        1.0   \n",
       "1  1642000.0              NaN         2250.0               NaN        2.0   \n",
       "2  1674000.0              NaN         2250.0         7332356.0        1.0   \n",
       "3        NaN              NaN            NaN         1991289.0        1.0   \n",
       "4        NaN              NaN            NaN               NaN        NaN   \n",
       "\n",
       "   zestimate_valuation_range_high  tax_year  zestimate_value_change  \\\n",
       "0                       1044795.0       NaN                     NaN   \n",
       "1                             NaN    2015.0                     NaN   \n",
       "2                       7992268.0    2015.0                     NaN   \n",
       "3                       2708153.0       NaN                     NaN   \n",
       "4                             NaN       NaN                     NaN   \n",
       "\n",
       "    latitude  zestimate_percentile   ...     \\\n",
       "0  40.724448                   0.0   ...      \n",
       "1  40.724420                   0.0   ...      \n",
       "2  40.724385                   0.0   ...      \n",
       "3  40.724332                   0.0   ...      \n",
       "4  40.724845                   0.0   ...      \n",
       "\n",
       "                                     graph_data_link home_size  longitude  \\\n",
       "0                                                NaN     400.0 -73.980284   \n",
       "1  http://www.zillow.com/homedetails/204-E-7th-St...   10800.0 -73.980200   \n",
       "2  http://www.zillow.com/homedetails/206-E-7th-St...   10800.0 -73.980120   \n",
       "3                                                NaN       NaN -73.980007   \n",
       "4                                                NaN       NaN -73.980804   \n",
       "\n",
       "                                    home_detail_link        home_type  \\\n",
       "0  http://www.zillow.com/homedetails/202-E-7th-St...  MultiFamily2To4   \n",
       "1  http://www.zillow.com/homedetails/204-E-7th-St...        Apartment   \n",
       "2  http://www.zillow.com/homedetails/206-E-7th-St...      Cooperative   \n",
       "3  http://www.zillow.com/homedetails/208-E-7th-St...  MultiFamily2To4   \n",
       "4  http://www.zillow.com/homedetails/190-E-7th-St...          Unknown   \n",
       "\n",
       "                             map_this_home_link Unnamed: 22  neighborhood  \\\n",
       "0  http://www.zillow.com/homes/2098748189_zpid/         NaN  East Village   \n",
       "1    http://www.zillow.com/homes/31495862_zpid/         NaN  East Village   \n",
       "2    http://www.zillow.com/homes/31495863_zpid/         NaN  East Village   \n",
       "3  http://www.zillow.com/homes/2098632095_zpid/         NaN  East Village   \n",
       "4  http://www.zillow.com/homes/2131860614_zpid/         NaN  East Village   \n",
       "\n",
       "   schooldistrict precinct  \n",
       "0               1        9  \n",
       "1               1        9  \n",
       "2               1        9  \n",
       "3               1        9  \n",
       "4               1        9  \n",
       "\n",
       "[5 rows x 26 columns]"
      ]
     },
     "execution_count": 27,
     "metadata": {},
     "output_type": "execute_result"
    }
   ],
   "source": [
    "df.head()"
   ]
  },
  {
   "cell_type": "code",
   "execution_count": 28,
   "metadata": {
    "collapsed": true
   },
   "outputs": [],
   "source": [
    "#write data to file before we add demographic stuff\n",
    "df.to_csv(\"mn_with_regions.csv\")"
   ]
  },
  {
   "cell_type": "code",
   "execution_count": 29,
   "metadata": {
    "collapsed": true
   },
   "outputs": [],
   "source": [
    "df = pd.read_csv(\"mn_with_regions.csv\")"
   ]
  },
  {
   "cell_type": "markdown",
   "metadata": {},
   "source": [
    "<a id='merge'></a>\n",
    "### Merge in data about precincts/school districts"
   ]
  },
  {
   "cell_type": "markdown",
   "metadata": {},
   "source": [
    "Once each home was mapped (via its latitude/longitude coordinates) to a specific school district and precinct, we added statistics specific to each school district and precinct as additional predictors in our dataset."
   ]
  },
  {
   "cell_type": "markdown",
   "metadata": {},
   "source": [
    "#### Precincts:"
   ]
  },
  {
   "cell_type": "markdown",
   "metadata": {},
   "source": [
    "We acquired data from the New York Police Department on crime rates, for a variety of different crimes, in each precinct.  We merged this data with our original data based on the precinct that each home had been mapped to, and wrote this new dataset to a CSV."
   ]
  },
  {
   "cell_type": "code",
   "execution_count": 32,
   "metadata": {
    "collapsed": false
   },
   "outputs": [],
   "source": [
    "path_to_crime_files = \"/Users/nbw/Dropbox/CS_109_Project/crime_dfs/\""
   ]
  },
  {
   "cell_type": "code",
   "execution_count": 273,
   "metadata": {
    "collapsed": true
   },
   "outputs": [],
   "source": [
    "crime_files = os.listdir(path_to_crime_files)"
   ]
  },
  {
   "cell_type": "code",
   "execution_count": 317,
   "metadata": {
    "collapsed": false,
    "scrolled": true
   },
   "outputs": [],
   "source": [
    "for filename in os.listdir(path_to_crime_files)[1:]:\n",
    "    crime = filename.split(\"(\")[0].split(\".csv\")[0].strip()\n",
    "    crime_df = pd.read_csv(path_to_crime_files+filename)\n",
    "\n",
    "    crime_df.rename(columns={'last_3_years': crime+\"_last_3_years\", 'percent_change': crime+\"_percent_change\"}, inplace=True)\n",
    "\n",
    "    merged = df.merge(crime_df, how=\"outer\", left_on=\"precinct\", right_on=\"PCT\")\n",
    "    merged = merged[merged[\"precinct\"] == merged[\"precinct\"]]\n",
    "    merged = merged.drop(\"PCT\",axis=1)\n",
    "    if len(merged) != len(df):\n",
    "        print \"something weird! \" + filename\n",
    "    df = merged"
   ]
  },
  {
   "cell_type": "code",
   "execution_count": null,
   "metadata": {
    "collapsed": true
   },
   "outputs": [],
   "source": [
    "df.head()"
   ]
  },
  {
   "cell_type": "code",
   "execution_count": 281,
   "metadata": {
    "collapsed": false
   },
   "outputs": [],
   "source": [
    "# write a file containing just crime data\n",
    "df.to_csv(\"mn_crimes_only.csv\")"
   ]
  },
  {
   "cell_type": "markdown",
   "metadata": {},
   "source": [
    "#### School Districts"
   ]
  },
  {
   "cell_type": "markdown",
   "metadata": {},
   "source": [
    "We acquired data from the NYC Education Department on test scores for each school district.  Like with our crime data, we merged this data with our original data based on the school distict that each home had been mapped to, and wrote this new dataset to a CSV."
   ]
  },
  {
   "cell_type": "code",
   "execution_count": 303,
   "metadata": {
    "collapsed": true
   },
   "outputs": [],
   "source": [
    "schools = pd.read_csv('/Users/nbw/Dropbox/CS_109_Project/test_scores/nyctestscores.csv')"
   ]
  },
  {
   "cell_type": "code",
   "execution_count": 304,
   "metadata": {
    "collapsed": false
   },
   "outputs": [],
   "source": [
    "schools = schools.drop([\"Grade\", \"Year\", \"Category\"],axis=1)"
   ]
  },
  {
   "cell_type": "code",
   "execution_count": 305,
   "metadata": {
    "collapsed": false
   },
   "outputs": [],
   "source": [
    "for colname in schools.columns:\n",
    "    schools.rename(columns={colname: \"schools_\" + colname}, inplace=True)\n"
   ]
  },
  {
   "cell_type": "code",
   "execution_count": 315,
   "metadata": {
    "collapsed": false
   },
   "outputs": [],
   "source": [
    "merged = df.merge(schools, how=\"outer\", left_on=\"schooldistrict\", right_on=\"schools_district\")\n",
    "merged = merged[merged[\"schooldistrict\"] == merged[\"schooldistrict\"]]\n",
    "merged = merged.drop(\"schools_district\",axis=1)\n",
    "if len(merged) != len(df):\n",
    "    print \"something weird! \" + filename\n",
    "\n",
    "df = merged"
   ]
  },
  {
   "cell_type": "code",
   "execution_count": 316,
   "metadata": {
    "collapsed": true
   },
   "outputs": [],
   "source": [
    "# if we want just schools, dont run \"Precincts:\" block\n",
    "# write a file containing just crime data\n",
    "df.to_csv(\"mn_schools_only.csv\")"
   ]
  },
  {
   "cell_type": "code",
   "execution_count": 318,
   "metadata": {
    "collapsed": true
   },
   "outputs": [],
   "source": [
    "# Write data\n",
    "df.to_csv(\"mn_crimes_and_schools.csv\")"
   ]
  },
  {
   "cell_type": "code",
   "execution_count": null,
   "metadata": {
    "collapsed": true
   },
   "outputs": [],
   "source": []
  }
 ],
 "metadata": {
  "anaconda-cloud": {},
  "kernelspec": {
   "display_name": "Python [default]",
   "language": "python",
   "name": "python2"
  },
  "language_info": {
   "codemirror_mode": {
    "name": "ipython",
    "version": 2
   },
   "file_extension": ".py",
   "mimetype": "text/x-python",
   "name": "python",
   "nbconvert_exporter": "python",
   "pygments_lexer": "ipython2",
   "version": "2.7.12"
  }
 },
 "nbformat": 4,
 "nbformat_minor": 0
}
