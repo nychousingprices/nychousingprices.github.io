{
 "cells": [
  {
   "cell_type": "code",
   "execution_count": 1,
   "metadata": {
    "collapsed": false
   },
   "outputs": [
    {
     "data": {
      "text/html": [
       "<script>\n",
       "code_show=true;\n",
       "function code_toggle() {\n",
       " if (code_show){\n",
       " $('div.input').hide();\n",
       " } else {\n",
       " $('div.input').show();\n",
       " }\n",
       " code_show = !code_show\n",
       "}\n",
       "$( document ).ready(code_toggle);\n",
       "</script>\n",
       "<form action=\"javascript:code_toggle()\"><input type=\"submit\" value=\"Click here to toggle on/off the raw code.\"></form>"
      ],
      "text/plain": [
       "<IPython.core.display.HTML object>"
      ]
     },
     "execution_count": 1,
     "metadata": {},
     "output_type": "execute_result"
    }
   ],
   "source": [
    "from IPython.display import HTML\n",
    "\n",
    "HTML('''<script>\n",
    "code_show=true;\n",
    "function code_toggle() {\n",
    " if (code_show){\n",
    " $('div.input').hide();\n",
    " } else {\n",
    " $('div.input').show();\n",
    " }\n",
    " code_show = !code_show\n",
    "}\n",
    "$( document ).ready(code_toggle);\n",
    "</script>\n",
    "<form action=\"javascript:code_toggle()\"><input type=\"submit\" value=\"Click here to toggle on/off the raw code.\"></form>''')"
   ]
  },
  {
   "cell_type": "code",
   "execution_count": 1,
   "metadata": {
    "collapsed": false
   },
   "outputs": [],
   "source": [
    "import pandas as pd\n",
    "import numpy as np\n",
    "#from mpl_toolkits.basemap import Basemap\n",
    "from matplotlib.patches import Polygon\n",
    "from sklearn.linear_model import LinearRegression\n",
    "from sklearn.preprocessing import Imputer\n",
    "from sklearn import cross_validation\n",
    "from sklearn import covariance\n",
    "from sklearn import ensemble\n",
    "from sklearn.pipeline import Pipeline\n",
    "from sklearn.neighbors import KNeighborsRegressor as KNN\n",
    "from sklearn.decomposition import PCA \n",
    "import string\n",
    "import matplotlib.pyplot as plt\n",
    "import matplotlib.patches as mpatches\n",
    "%matplotlib inline\n",
    "import math\n",
    "import string\n",
    "import os\n",
    "import datetime"
   ]
  },
  {
   "cell_type": "code",
   "execution_count": 2,
   "metadata": {
    "collapsed": false
   },
   "outputs": [],
   "source": [
    "## Loading Data \n",
    "test_data = pd.read_csv(\"data/test_imputed.csv\")\n",
    "train_data = pd.read_csv(\"data/train_imputed.csv\")"
   ]
  },
  {
   "cell_type": "code",
   "execution_count": 3,
   "metadata": {
    "collapsed": true
   },
   "outputs": [],
   "source": [
    "## Separating our predictor and response variables \n",
    "x_train = train_data.drop(['zestimate_amount'],1)\n",
    "y_train = train_data['zestimate_amount']\n",
    "x_test = test_data.drop(['zestimate_amount'],1)\n",
    "y_test = test_data['zestimate_amount']"
   ]
  },
  {
   "cell_type": "markdown",
   "metadata": {},
   "source": [
    "## Random Forest Model"
   ]
  },
  {
   "cell_type": "markdown",
   "metadata": {},
   "source": [
    "It is likely that at least one of our features will not be linearly related to the house price estimate. Unfortunately, a linear based regression model would not effectively represent those relationships. Tree based models, however, can approximate non-linear relationships. Our implementation using random forests averages multiple decision trees trained on different parts of the training set to produce a housing price prediction. Similar to linear regression, we will use cross validation to prevent over fitting. We will also incorporate all the features in this model, rather than our set of \"best features,\" as we did with linear and KNN regression because we believe random forests can better deal with insignificant features. "
   ]
  },
  {
   "cell_type": "markdown",
   "metadata": {},
   "source": [
    "## Parameter Optimization  \n",
    "\n",
    "We considered applying Principal Component Analysis to reduce the number of features in our model to prevent overfitting. However, after implementing Random Forest with and without PCA, we noticed higher scores for our models without PCA. This is not surprising, given that the Random Forest method tends to do well with high dimensionality. \n",
    "\n",
    "We also tried various parameters for number of trees in the forest and maximum depth of the tree. We decided on ranges that are reasonable for the number of features and datapoints our model works with, and assuming that trees and depth will add accuracy in a decaying fashion. For number of trees in the forest, we explored parameters of 10, 30, 50, 70, and 90 and for maximum depth, we explored parameters of 10, 20, 30, 40, 50. "
   ]
  },
  {
   "cell_type": "code",
   "execution_count": 4,
   "metadata": {
    "collapsed": true
   },
   "outputs": [],
   "source": [
    "# Parameters for tuning\n",
    "n_trees = np.arange(10, 100, 20)  # Trees and depth are explored on an exponentially growing space,\n",
    "depths = np.arange(10, 50, 10)   # since it is assumed that trees and depth will add accuracy in a decaying fashion."
   ]
  },
  {
   "cell_type": "code",
   "execution_count": 5,
   "metadata": {
    "collapsed": false,
    "scrolled": true
   },
   "outputs": [],
   "source": [
    "# To keep track of the best model\n",
    "best_score = 0\n",
    "# Run grid search for model with 5-fold cross validation\n",
    "#print '5-fold cross validation:'\n",
    "for trees in n_trees:\n",
    "    for depth in depths:\n",
    "        # Cross validation for every experiment\n",
    "        k_folds = cross_validation.KFold(x_train.shape[0], n_folds=5, shuffle=True)\n",
    "        scores = []\n",
    "        for train_indices, validation_indices in k_folds:\n",
    "            # Generate training data\n",
    "            x_train_cv = x_train.iloc[train_indices].values\n",
    "            y_train_cv = y_train[train_indices].values\n",
    "            # Generate validation data\n",
    "            x_validate = x_train.iloc[validation_indices].values\n",
    "            y_validate = y_train[validation_indices].values\n",
    "\n",
    "            # Fit random forest on training data\n",
    "            model = ensemble.RandomForestRegressor(n_estimators=trees, max_depth=depth)\n",
    "            #model.fit(x_train_reduced, y_train_cv)\n",
    "            model.fit(x_train_cv, y_train_cv)\n",
    "            # Score on validation data\n",
    "            #scores += [model.score(x_validate_reduced, y_validate)]\n",
    "            scores += [model.score(x_validate, y_validate)]\n",
    "\n",
    "            # Record and report accuracy\n",
    "            average_score = np.mean(scores)\n",
    "            #print \"Trees:\", trees, \"Depth:\", depth, \"Score:\", average_score\n",
    "\n",
    "            # Update our record of the best parameters see so far\n",
    "            if average_score > best_score:\n",
    "                best_score = average_score\n",
    "                best_trees = trees\n",
    "                best_depth = depth\n"
   ]
  },
  {
   "cell_type": "markdown",
   "metadata": {},
   "source": [
    "## Best Model "
   ]
  },
  {
   "cell_type": "markdown",
   "metadata": {},
   "source": [
    "The results of our optimization are as listed: "
   ]
  },
  {
   "cell_type": "code",
   "execution_count": 7,
   "metadata": {
    "collapsed": false
   },
   "outputs": [
    {
     "name": "stdout",
     "output_type": "stream",
     "text": [
      "Chosen number of trees, depth: 70 , 20\n",
      "Test accuracy: 0.505700532846\n"
     ]
    }
   ],
   "source": [
    "# Fit model on entire train set using chosen number of trees and depth\n",
    "model = ensemble.RandomForestRegressor(n_estimators=best_trees, max_depth=best_depth)\n",
    "model.fit(x_train, y_train)\n",
    "print 'Chosen number of trees, depth:', best_trees, ',', best_depth\n",
    "print 'Test accuracy:', model.score(x_test, y_test)"
   ]
  },
  {
   "cell_type": "code",
   "execution_count": 9,
   "metadata": {
    "collapsed": false
   },
   "outputs": [
    {
     "data": {
      "image/png": "[encoded data removed]",
      "text/plain": [
       "<matplotlib.figure.Figure at 0x11a733f90>"
      ]
     },
     "metadata": {},
     "output_type": "display_data"
    }
   ],
   "source": [
    "r2 = model.score(x_test, y_test) \n",
    "\n",
    "fig, ax = plt.subplots(1, 1, figsize=(10, 8))\n",
    "\n",
    "ax = fig.add_subplot(111)\n",
    "\n",
    "ax.plot(np.arange(1*(10)**5, 1*(10)**8), np.arange(1*(10)**5, 1*(10)**8), label=\"$R^2$=\" + str(r2), c=\"r\")\n",
    "ax.scatter(y_test, model.predict(x_test))\n",
    "\n",
    "ax.legend(loc=\"lower right\")\n",
    "ax.set_title(\"RandomForest Regression Performance\")\n",
    "ax.set_xlabel(\"Test Prices\")\n",
    "ax.set_ylabel(\"Predicted Prices\")\n",
    "plt.show()"
   ]
  },
  {
   "cell_type": "markdown",
   "metadata": {},
   "source": [
    "## Most Significant Features"
   ]
  },
  {
   "cell_type": "code",
   "execution_count": 8,
   "metadata": {
    "collapsed": false
   },
   "outputs": [
    {
     "name": "stdout",
     "output_type": "stream",
     "text": [
      "Top 10 Features sorted by their Score:\n"
     ]
    },
    {
     "data": {
      "text/plain": [
       "[(0.3549, 'home_size'),\n",
       " (0.0772, 'property_size'),\n",
       " (0.0624, 'latitude'),\n",
       " (0.0558, 'bathrooms'),\n",
       " (0.0522, 'longitude'),\n",
       " (0.0357, 'bedrooms'),\n",
       " (0.0266, 'year_built'),\n",
       " (0.0033, 'tax_year'),\n",
       " (0.0018, 'schools_Mean ELA Score'),\n",
       " (0.0014, 'schools_Number Tested')]"
      ]
     },
     "execution_count": 8,
     "metadata": {},
     "output_type": "execute_result"
    }
   ],
   "source": [
    "print \"Top 10 Features sorted by their Score:\"\n",
    "#print sorted(zip(map(lambda x: round(x, 4), model.feature_importances_), x_train.columns), \n",
    "#             reverse=True)\n",
    "sorted(zip(map(lambda x: round(x, 4), model.feature_importances_[0:10]), x_train.columns), reverse = True)"
   ]
  },
  {
   "cell_type": "markdown",
   "metadata": {},
   "source": [
    "It is not suprising that these features were found to be the most significant. Home size, property size, bathrooms, and bedrooms are intrinsic characteristics of the property. Location, as represented by latitude and longitude, is also important since some neighborhoods are generally more desirable than others (Tribeca versus Washington Heights). Since quality of education is often cited as one of the top factors in the homebuying process, especially for those with children of the school-attending age, it is not suprising to see academic performance as a significant predictor. "
   ]
  },
  {
   "cell_type": "code",
   "execution_count": 12,
   "metadata": {
    "collapsed": false
   },
   "outputs": [],
   "source": [
    "## Fitting model on whole data set \n",
    "#x = pd.concat([x_train, x_test])\n",
    "#y = pd.concat([y_train, y_test]) \n",
    "#model = ensemble.RandomForestRegressor(n_estimators=best_trees, max_depth=best_depth)\n",
    "#model.fit(x, y)"
   ]
  },
  {
   "cell_type": "code",
   "execution_count": 10,
   "metadata": {
    "collapsed": true
   },
   "outputs": [],
   "source": [
    "## Saving model to pickle file \n",
    "#import pickle\n",
    "#s = pickle.dumps(model)\n",
    "#pickle.dump(model, open(\"model.p\", \"wb\"))"
   ]
  },
  {
   "cell_type": "code",
   "execution_count": 11,
   "metadata": {
    "collapsed": false
   },
   "outputs": [],
   "source": [
    "#model2 = pickle.load(open(\"model.p\",\"rb\"))"
   ]
  },
  {
   "cell_type": "code",
   "execution_count": null,
   "metadata": {
    "collapsed": true
   },
   "outputs": [],
   "source": []
  }
 ],
 "metadata": {
  "anaconda-cloud": {},
  "kernelspec": {
   "display_name": "Python [Root]",
   "language": "python",
   "name": "Python [Root]"
  },
  "language_info": {
   "codemirror_mode": {
    "name": "ipython",
    "version": 2
   },
   "file_extension": ".py",
   "mimetype": "text/x-python",
   "name": "python",
   "nbconvert_exporter": "python",
   "pygments_lexer": "ipython2",
   "version": "2.7.12"
  }
 },
 "nbformat": 4,
 "nbformat_minor": 1
}
