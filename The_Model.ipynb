{
 "cells": [
  {
   "cell_type": "code",
   "execution_count": 1,
   "metadata": {
    "collapsed": false
   },
   "outputs": [
    {
     "data": {
      "text/html": [
       "<script>\n",
       "code_show=true;\n",
       "function code_toggle() {\n",
       " if (code_show){\n",
       " $('div.input').hide();\n",
       " } else {\n",
       " $('div.input').show();\n",
       " }\n",
       " code_show = !code_show\n",
       "}\n",
       "$( document ).ready(code_toggle);\n",
       "</script>\n",
       "<form action=\"javascript:code_toggle()\"><input type=\"submit\" value=\"Click here to toggle on/off the raw code.\"></form>"
      ],
      "text/plain": [
       "<IPython.core.display.HTML object>"
      ]
     },
     "execution_count": 1,
     "metadata": {},
     "output_type": "execute_result"
    }
   ],
   "source": [
    "from IPython.display import HTML\n",
    "\n",
    "HTML('''<script>\n",
    "code_show=true;\n",
    "function code_toggle() {\n",
    " if (code_show){\n",
    " $('div.input').hide();\n",
    " } else {\n",
    " $('div.input').show();\n",
    " }\n",
    " code_show = !code_show\n",
    "}\n",
    "$( document ).ready(code_toggle);\n",
    "</script>\n",
    "<form action=\"javascript:code_toggle()\"><input type=\"submit\" value=\"Click here to toggle on/off the raw code.\"></form>''')"
   ]
  },
  {
   "cell_type": "code",
   "execution_count": 1,
   "metadata": {
    "collapsed": false
   },
   "outputs": [],
   "source": [
    "import pandas as pd\n",
    "import numpy as np\n",
    "#from mpl_toolkits.basemap import Basemap\n",
    "from matplotlib.patches import Polygon\n",
    "from sklearn.linear_model import LinearRegression\n",
    "from sklearn.preprocessing import Imputer\n",
    "from sklearn import cross_validation\n",
    "from sklearn import covariance\n",
    "from sklearn import ensemble\n",
    "from sklearn.pipeline import Pipeline\n",
    "from sklearn.neighbors import KNeighborsRegressor as KNN\n",
    "from sklearn.decomposition import PCA \n",
    "import string\n",
    "import matplotlib.pyplot as plt\n",
    "import matplotlib.patches as mpatches\n",
    "%matplotlib inline\n",
    "import math\n",
    "import string\n",
    "import os\n",
    "import datetime"
   ]
  },
  {
   "cell_type": "code",
   "execution_count": 3,
   "metadata": {
    "collapsed": false
   },
   "outputs": [],
   "source": [
    "## Loading Data \n",
    "test_data = pd.read_csv(\"data/test_imputed.csv\")\n",
    "train_data = pd.read_csv(\"data/train_imputed.csv\")"
   ]
  },
  {
   "cell_type": "code",
   "execution_count": 4,
   "metadata": {
    "collapsed": true
   },
   "outputs": [],
   "source": [
    "## Separating our predictor and response variables \n",
    "x_train = train_data.drop(['zestimate_amount'],1)\n",
    "y_train = train_data['zestimate_amount']\n",
    "x_test = test_data.drop(['zestimate_amount'],1)\n",
    "y_test = test_data['zestimate_amount']"
   ]
  },
  {
   "cell_type": "markdown",
   "metadata": {},
   "source": [
    "## Random Forest Model"
   ]
  },
  {
   "cell_type": "markdown",
   "metadata": {},
   "source": [
    "It is likely that at least one of our features will not be linearly related to the house price estimate. A linear regression model would not be able to effectively represent those relationships. Tree based models, however, can approximate non-linear relationships. Our implementation using random forests seeks to detect the most significant features "
   ]
  },
  {
   "cell_type": "markdown",
   "metadata": {},
   "source": [
    "## Parameter Optimization  \n",
    "We tried: PCA, number of trees, depths "
   ]
  },
  {
   "cell_type": "code",
   "execution_count": 8,
   "metadata": {
    "collapsed": false
   },
   "outputs": [],
   "source": [
    "pca = PCA(n_components=20)\n",
    "pca.fit(x_train)\n",
    "x_train_reduced = pca.transform(x_train)"
   ]
  },
  {
   "cell_type": "code",
   "execution_count": 13,
   "metadata": {
    "collapsed": true
   },
   "outputs": [],
   "source": [
    "# Parameters for tuning\n",
    "n_trees = np.arange(10, 100, 20)  # Trees and depth are explored on an exponentially growing space,\n",
    "depths = np.arange(10, 50, 10)   # since it is assumed that trees and depth will add accuracy in a decaying fashion."
   ]
  },
  {
   "cell_type": "code",
   "execution_count": 14,
   "metadata": {
    "collapsed": false,
    "scrolled": true
   },
   "outputs": [],
   "source": [
    "# To keep track of the best model\n",
    "best_score = 0\n",
    "# Run grid search for model with 5-fold cross validation\n",
    "#print '5-fold cross validation:'\n",
    "for trees in n_trees:\n",
    "    for depth in depths:\n",
    "        # Cross validation for every experiment\n",
    "        k_folds = cross_validation.KFold(x_train.shape[0], n_folds=5, shuffle=True)\n",
    "        scores = []\n",
    "        for train_indices, validation_indices in k_folds:\n",
    "            # Generate training data\n",
    "            x_train_cv = x_train.iloc[train_indices].values\n",
    "            y_train_cv = y_train[train_indices].values\n",
    "            # Generate validation data\n",
    "            x_validate = x_train.iloc[validation_indices].values\n",
    "            y_validate = y_train[validation_indices].values\n",
    "\n",
    "            # Fit random forest on training data\n",
    "            model = ensemble.RandomForestRegressor(n_estimators=trees, max_depth=depth)\n",
    "            #model.fit(x_train_reduced, y_train_cv)\n",
    "            model.fit(x_train_cv, y_train_cv)\n",
    "            # Score on validation data\n",
    "            #scores += [model.score(x_validate_reduced, y_validate)]\n",
    "            scores += [model.score(x_validate, y_validate)]\n",
    "\n",
    "            # Record and report accuracy\n",
    "            average_score = np.mean(scores)\n",
    "            #print \"Trees:\", trees, \"Depth:\", depth, \"Score:\", average_score\n",
    "\n",
    "            # Update our record of the best parameters see so far\n",
    "            if average_score > best_score:\n",
    "                best_score = average_score\n",
    "                best_trees = trees\n",
    "                best_depth = depth\n"
   ]
  },
  {
   "cell_type": "markdown",
   "metadata": {},
   "source": [
    "## Best Model "
   ]
  },
  {
   "cell_type": "code",
   "execution_count": 28,
   "metadata": {
    "collapsed": false
   },
   "outputs": [
    {
     "name": "stdout",
     "output_type": "stream",
     "text": [
      "Chosen number of trees, depth: 50 , 30\n",
      "Chosen number of trees, depth: 70 , 30\n",
      "Test accuracy: 0.554358358253\n"
     ]
    }
   ],
   "source": [
    "# Fit model on entire train set using chosen number of trees and depth\n",
    "model = ensemble.RandomForestRegressor(n_estimators=best_trees, max_depth=best_depth)\n",
    "model.fit(x_train, y_train)\n",
    "print 'Chosen number of trees, depth:', best_trees, ',', best_depth\n",
    "print 'Test accuracy:', model.score(x_test, y_test)"
   ]
  },
  {
   "cell_type": "markdown",
   "metadata": {},
   "source": [
    "## Most Significant Features"
   ]
  },
  {
   "cell_type": "code",
   "execution_count": 29,
   "metadata": {
    "collapsed": false
   },
   "outputs": [
    {
     "name": "stdout",
     "output_type": "stream",
     "text": [
      "Top 10 Features sorted by their Score:\n"
     ]
    },
    {
     "data": {
      "text/plain": [
       "[(0.3375, 'home_size'),\n",
       " (0.0745, 'latitude'),\n",
       " (0.0704, 'property_size'),\n",
       " (0.0603, 'longitude'),\n",
       " (0.0514, 'bathrooms'),\n",
       " (0.0326, 'bedrooms'),\n",
       " (0.0309, 'year_built'),\n",
       " (0.003, 'tax_year'),\n",
       " (0.0008, 'schools_Mean ELA Score'),\n",
       " (0.0007, 'schools_Number Tested')]"
      ]
     },
     "execution_count": 29,
     "metadata": {},
     "output_type": "execute_result"
    }
   ],
   "source": [
    "print \"Top 10 Features sorted by their Score:\"\n",
    "#print sorted(zip(map(lambda x: round(x, 4), model.feature_importances_), x_train.columns), \n",
    "#             reverse=True)\n",
    "sorted(zip(map(lambda x: round(x, 4), model.feature_importances_[0:10]), x_train.columns), reverse = True)"
   ]
  },
  {
   "cell_type": "code",
   "execution_count": 30,
   "metadata": {
    "collapsed": false
   },
   "outputs": [],
   "source": [
    "## To fit model on entire data set \n",
    "x = pd.concat([x_train, x_test])\n",
    "y = pd.concat([y_train, y_test]) "
   ]
  },
  {
   "cell_type": "code",
   "execution_count": 31,
   "metadata": {
    "collapsed": false
   },
   "outputs": [
    {
     "data": {
      "text/plain": [
       "RandomForestRegressor(bootstrap=True, criterion='mse', max_depth=30,\n",
       "           max_features='auto', max_leaf_nodes=None, min_samples_leaf=1,\n",
       "           min_samples_split=2, min_weight_fraction_leaf=0.0,\n",
       "           n_estimators=70, n_jobs=1, oob_score=False, random_state=None,\n",
       "           verbose=0, warm_start=False)"
      ]
     },
     "execution_count": 31,
     "metadata": {},
     "output_type": "execute_result"
    }
   ],
   "source": [
    "#model = ensemble.RandomForestRegressor(n_estimators=best_trees, max_depth=35)\n",
    "model = ensemble.RandomForestRegressor(n_estimators=70, max_depth=30)\n",
    "model.fit(x, y)\n",
    "#predictions = model.predict(df_to_predict)"
   ]
  },
  {
   "cell_type": "code",
   "execution_count": 32,
   "metadata": {
    "collapsed": true
   },
   "outputs": [],
   "source": [
    "## Saving model to pickle file \n",
    "#import pickle\n",
    "#s = pickle.dumps(model)\n",
    "#pickle.dump(model, open(\"model.p\", \"wb\"))"
   ]
  },
  {
   "cell_type": "code",
   "execution_count": 15,
   "metadata": {
    "collapsed": false
   },
   "outputs": [],
   "source": [
    "#model2 = pickle.load(open(\"model.p\",\"rb\"))"
   ]
  },
  {
   "cell_type": "code",
   "execution_count": null,
   "metadata": {
    "collapsed": true
   },
   "outputs": [],
   "source": []
  }
 ],
 "metadata": {
  "anaconda-cloud": {},
  "kernelspec": {
   "display_name": "Python [Root]",
   "language": "python",
   "name": "Python [Root]"
  },
  "language_info": {
   "codemirror_mode": {
    "name": "ipython",
    "version": 2
   },
   "file_extension": ".py",
   "mimetype": "text/x-python",
   "name": "python",
   "nbconvert_exporter": "python",
   "pygments_lexer": "ipython2",
   "version": "2.7.12"
  }
 },
 "nbformat": 4,
 "nbformat_minor": 1
}
