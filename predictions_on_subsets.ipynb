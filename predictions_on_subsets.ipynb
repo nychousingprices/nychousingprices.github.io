{
 "cells": [
  {
   "cell_type": "code",
   "execution_count": 2,
   "metadata": {
    "collapsed": false,
    "scrolled": true
   },
   "outputs": [
    {
     "data": {
      "text/html": [
       "<script>\n",
       "code_show=true;\n",
       "function code_toggle() {\n",
       " if (code_show){\n",
       " $('div.input').hide();\n",
       " } else {\n",
       " $('div.input').show();\n",
       " }\n",
       " code_show = !code_show\n",
       "}\n",
       "$( document ).ready(code_toggle);\n",
       "</script>\n",
       "<form action=\"javascript:code_toggle()\"><input type=\"submit\" value=\"Click here to toggle on/off the raw code.\"></form>"
      ],
      "text/plain": [
       "<IPython.core.display.HTML object>"
      ]
     },
     "execution_count": 2,
     "metadata": {},
     "output_type": "execute_result"
    }
   ],
   "source": [
    "from IPython.display import HTML\n",
    "\n",
    "HTML('''<script>\n",
    "code_show=true;\n",
    "function code_toggle() {\n",
    " if (code_show){\n",
    " $('div.input').hide();\n",
    " } else {\n",
    " $('div.input').show();\n",
    " }\n",
    " code_show = !code_show\n",
    "}\n",
    "$( document ).ready(code_toggle);\n",
    "</script>\n",
    "<form action=\"javascript:code_toggle()\"><input type=\"submit\" value=\"Click here to toggle on/off the raw code.\"></form>''')"
   ]
  },
  {
   "cell_type": "code",
   "execution_count": 12,
   "metadata": {
    "collapsed": false,
    "scrolled": true
   },
   "outputs": [
    {
     "data": {
      "text/html": [
       "\n",
       "<a href=\"index.html\" target=\"_self\">Back to home page</a>"
      ],
      "text/plain": [
       "<IPython.core.display.HTML object>"
      ]
     },
     "metadata": {},
     "output_type": "display_data"
    }
   ],
   "source": [
    "%%html\n",
    "\n",
    "<a href=\"index.html\" target=\"_self\">Back to home page</a>"
   ]
  },
  {
   "cell_type": "markdown",
   "metadata": {},
   "source": [
    "### Table of Contents"
   ]
  },
  {
   "cell_type": "code",
   "execution_count": 13,
   "metadata": {
    "collapsed": false,
    "scrolled": true
   },
   "outputs": [
    {
     "data": {
      "text/html": [
       "\n",
       "- <a href = '#import'> Import data & refit best model </a>\n",
       "<br>\n",
       "- <a href = '#neighborhoods'> Model performance on different neighborhoods </a>\n",
       "<br>\n",
       "- <a href = '#home_types'> Model performance on different home types </a>"
      ],
      "text/plain": [
       "<IPython.core.display.HTML object>"
      ]
     },
     "metadata": {},
     "output_type": "display_data"
    }
   ],
   "source": [
    "%%html\n",
    "\n",
    "- <a href = '#import'> Import data & refit best model </a>\n",
    "<br>\n",
    "- <a href = '#neighborhoods'> Model performance on different neighborhoods </a>\n",
    "<br>\n",
    "- <a href = '#home_types'> Model performance on different home types </a>\n"
   ]
  },
  {
   "cell_type": "markdown",
   "metadata": {},
   "source": [
    "--------------"
   ]
  },
  {
   "cell_type": "code",
   "execution_count": 11,
   "metadata": {
    "collapsed": false
   },
   "outputs": [],
   "source": [
    "import pandas as pd\n",
    "import numpy as np\n",
    "from matplotlib.patches import Polygon\n",
    "from sklearn.linear_model import LinearRegression\n",
    "from sklearn.preprocessing import Imputer\n",
    "from sklearn import cross_validation\n",
    "from sklearn import covariance\n",
    "from sklearn import ensemble\n",
    "from sklearn.pipeline import Pipeline\n",
    "from sklearn.neighbors import KNeighborsRegressor as KNN\n",
    "from sklearn.decomposition import PCA \n",
    "import string\n",
    "import matplotlib.pyplot as plt\n",
    "import matplotlib.patches as mpatches\n",
    "%matplotlib inline\n",
    "import math\n",
    "import string\n",
    "import os\n",
    "import datetime\n",
    "import pickle\n",
    "import seaborn as sns\n",
    "import warnings\n",
    "warnings.filterwarnings('ignore')"
   ]
  },
  {
   "cell_type": "markdown",
   "metadata": {},
   "source": [
    "## Predictions on subsets of our data"
   ]
  },
  {
   "cell_type": "markdown",
   "metadata": {},
   "source": [
    "After creating a variety of different models and eventually choosing the best one to be a random forest, we were interested in looking at how our model performed on different subsets of the data, namely different neighborhoods and different home types.  Is our model better at predicting housing prices for certain neighborhoods or home types than for others?"
   ]
  },
  {
   "cell_type": "markdown",
   "metadata": {},
   "source": [
    "<a id='import'></a>\n",
    "### Import data and refit best model"
   ]
  },
  {
   "cell_type": "code",
   "execution_count": 6,
   "metadata": {
    "collapsed": false
   },
   "outputs": [],
   "source": [
    "## Loading Data \n",
    "test_data = pd.read_csv(\"test_imputed.csv\")\n",
    "train_data = pd.read_csv(\"train_imputed.csv\")"
   ]
  },
  {
   "cell_type": "code",
   "execution_count": 7,
   "metadata": {
    "collapsed": false
   },
   "outputs": [],
   "source": [
    "## Separating our predictor and response variables \n",
    "x_train = train_data.drop(['zestimate_amount'],1)\n",
    "y_train = train_data['zestimate_amount']\n",
    "x_test = test_data.drop(['zestimate_amount'],1)\n",
    "y_test = test_data['zestimate_amount']"
   ]
  },
  {
   "cell_type": "code",
   "execution_count": 8,
   "metadata": {
    "collapsed": true
   },
   "outputs": [],
   "source": [
    "## To fit model on entire data set \n",
    "x = pd.concat([x_train, x_test])\n",
    "y = pd.concat([y_train, y_test]) "
   ]
  },
  {
   "cell_type": "code",
   "execution_count": 9,
   "metadata": {
    "collapsed": false
   },
   "outputs": [
    {
     "data": {
      "text/plain": [
       "RandomForestRegressor(bootstrap=True, criterion='mse', max_depth=40,\n",
       "           max_features='auto', max_leaf_nodes=None,\n",
       "           min_impurity_split=1e-07, min_samples_leaf=1,\n",
       "           min_samples_split=2, min_weight_fraction_leaf=0.0,\n",
       "           n_estimators=90, n_jobs=1, oob_score=False, random_state=None,\n",
       "           verbose=0, warm_start=False)"
      ]
     },
     "execution_count": 9,
     "metadata": {},
     "output_type": "execute_result"
    }
   ],
   "source": [
    "model = ensemble.RandomForestRegressor(n_estimators=90, max_depth=40)\n",
    "model.fit(x_train, y_train)"
   ]
  },
  {
   "cell_type": "markdown",
   "metadata": {},
   "source": [
    "We will now split up the test data into subsets based on both neighborhood and home type and score the model on each subset."
   ]
  },
  {
   "cell_type": "code",
   "execution_count": 144,
   "metadata": {
    "collapsed": true
   },
   "outputs": [],
   "source": [
    "data = test_data"
   ]
  },
  {
   "cell_type": "code",
   "execution_count": 146,
   "metadata": {
    "collapsed": true
   },
   "outputs": [],
   "source": [
    "data_before_dummies = pd.read_csv(\"mn_crimes_and_schools.csv\")"
   ]
  },
  {
   "cell_type": "code",
   "execution_count": 147,
   "metadata": {
    "collapsed": true
   },
   "outputs": [],
   "source": [
    "data_before_dummies = data_before_dummies[np.isfinite(data_before_dummies['zestimate_amount'])]"
   ]
  },
  {
   "cell_type": "markdown",
   "metadata": {},
   "source": [
    "##### List of all the neighborhoods in our dataset:"
   ]
  },
  {
   "cell_type": "code",
   "execution_count": 148,
   "metadata": {
    "collapsed": false,
    "scrolled": true
   },
   "outputs": [
    {
     "name": "stdout",
     "output_type": "stream",
     "text": [
      "['East Village' 'Lower East Side' 'Williamsburg' 'Greenwich Village'\n",
      " 'Sunny Side' 'Little Italy' 'Soho' 'Park Slope' 'Borough Park'\n",
      " 'Brownsville' 'Boerum Hill' 'Bushwick' 'Bedford-Stuyvesant'\n",
      " 'Carroll Gardens' 'Fort Green' 'Gramercy' 'Chelsea' 'Chinatown' 'Tribeca'\n",
      " 'West Village' 'Midtown' 'Murray Hill' 'North Sutton Area' 'Battery Park'\n",
      " 'Financial District' 'Cobble Hill' 'New Brighton' 'Clifton' 'Clinton'\n",
      " 'Upper East Side' 'Carnegie Hill' 'Astoria-Long Island City'\n",
      " 'Jackson Heights' 'Upper West Side' 'Garment District' 'Yorkville'\n",
      " 'East Harlem' 'Harlem' 'South Bronx' 'Central Park' 'Morningside Heights'\n",
      " 'Hamilton Heights' 'High Bridge' 'Washington Heights' 'Tremont' 'Inwood']\n"
     ]
    }
   ],
   "source": [
    "neighborhoods = data_before_dummies['neighborhood'].unique()\n",
    "print neighborhoods"
   ]
  },
  {
   "cell_type": "markdown",
   "metadata": {},
   "source": [
    "##### LIst of all of the home types in our dataset:"
   ]
  },
  {
   "cell_type": "code",
   "execution_count": 149,
   "metadata": {
    "collapsed": false,
    "scrolled": true
   },
   "outputs": [
    {
     "name": "stdout",
     "output_type": "stream",
     "text": [
      "['MultiFamily2To4' 'Cooperative' 'Condominium' 'SingleFamily' 'Apartment'\n",
      " 'Duplex' 'Townhouse' 'Quadruplex' 'Unknown' 'Triplex' 'Miscellaneous'\n",
      " 'MultiFamily5Plus' 'Mobile' nan]\n"
     ]
    }
   ],
   "source": [
    "home_types = data_before_dummies['home_type'].unique()\n",
    "print home_types"
   ]
  },
  {
   "cell_type": "code",
   "execution_count": 150,
   "metadata": {
    "collapsed": true
   },
   "outputs": [],
   "source": [
    "# get rid of nan\n",
    "home_types = home_types[:13]"
   ]
  },
  {
   "cell_type": "markdown",
   "metadata": {},
   "source": [
    "<a id='neighborhoods'></a>\n",
    "### Model performance on different neighborhoods"
   ]
  },
  {
   "cell_type": "code",
   "execution_count": 173,
   "metadata": {
    "collapsed": false,
    "scrolled": false
   },
   "outputs": [
    {
     "name": "stdout",
     "output_type": "stream",
     "text": [
      "East Village: 0.942209760543\n",
      "Lower East Side: 0.968604405738\n",
      "Williamsburg: -7.96508995537\n",
      "Greenwich Village: 0.972420645162\n",
      "Sunny Side: -244.513150872\n",
      "Little Italy: 0.970830528828\n",
      "Soho: 0.945342029976\n",
      "Park Slope: -207.140744436\n",
      "Borough Park: 0.397326831659\n",
      "Brownsville: 0.0\n",
      "Boerum Hill: 0.0\n",
      "Bedford-Stuyvesant: 0.0\n",
      "Carroll Gardens: -2.06005766948\n",
      "Gramercy: 0.968701965366\n",
      "Chelsea: 0.969092777455\n",
      "Chinatown: 0.996356163706\n",
      "Tribeca: 0.962156758375\n",
      "West Village: 0.969748621684\n",
      "Midtown: 0.923789637843\n",
      "Murray Hill: 0.995468292541\n",
      "North Sutton Area: 0.996103167176\n",
      "Battery Park: 0.945603598133\n",
      "Financial District: 0.958794521163\n",
      "Cobble Hill: 0.0\n",
      "Clinton: 0.98178794195\n",
      "Upper East Side: 0.92286126542\n",
      "Carnegie Hill: 0.929065347015\n",
      "Astoria-Long Island City: -6.18059817547\n",
      "Upper West Side: 0.956989445558\n",
      "Garment District: 0.88754360107\n",
      "Yorkville: 0.955978208229\n",
      "East Harlem: 0.967789700409\n",
      "Harlem: 0.958688299012\n",
      "South Bronx: -22.8516457663\n",
      "Central Park: 0.917133646535\n",
      "Morningside Heights: 0.943331881473\n",
      "Hamilton Heights: 0.933339533698\n",
      "High Bridge: 0.0\n",
      "Washington Heights: 0.902202627638\n",
      "Inwood: 0.944160429712\n"
     ]
    }
   ],
   "source": [
    "scores_list = []\n",
    "neigh_list = []\n",
    "for neigh in neighborhoods:\n",
    "    col_name = \"neighborhood_\" + neigh\n",
    "    if len(data[data[col_name] == 1]) != 0:\n",
    "        subset = data[data[col_name] == 1]\n",
    "        x_subset = subset.drop(['zestimate_amount'],1)\n",
    "        y_subset = subset['zestimate_amount']\n",
    "        score = model.score(x_subset, y_subset)    \n",
    "        print neigh + \": \" + str(score)\n",
    "        neigh_list += [neigh]\n",
    "        scores_list += [score]\n",
    "        num_vals_list += [num_vals]"
   ]
  },
  {
   "cell_type": "code",
   "execution_count": 174,
   "metadata": {
    "collapsed": true
   },
   "outputs": [],
   "source": [
    "for i in range(len(scores_list)):\n",
    "    if scores_list[i] < 0:\n",
    "        scores_list[i] = 0"
   ]
  },
  {
   "cell_type": "code",
   "execution_count": 175,
   "metadata": {
    "collapsed": false
   },
   "outputs": [],
   "source": [
    "results_df = pd.DataFrame(neigh_list, columns = [\"neighborhood\"])\n",
    "results_df[\"score\"] = scores_list"
   ]
  },
  {
   "cell_type": "code",
   "execution_count": 176,
   "metadata": {
    "collapsed": false,
    "scrolled": false
   },
   "outputs": [
    {
     "data": {
      "text/plain": [
       "<matplotlib.text.Text at 0x126d952d0>"
      ]
     },
     "execution_count": 176,
     "metadata": {},
     "output_type": "execute_result"
    },
    {
     "data": {
      "image/png": "[encoded data removed]",
      "text/plain": [
       "<matplotlib.figure.Figure at 0x126d44410>"
      ]
     },
     "metadata": {},
     "output_type": "display_data"
    }
   ],
   "source": [
    "fig, ax = plt.subplots(figsize=(10,3))\n",
    "ax = sns.stripplot(neigh_list, scores_list, color = \"blue\")\n",
    "ax.set_xticklabels(neigh_list, rotation=90)\n",
    "ax.set_xlabel(\"Neighborhood\")\n",
    "ax.set_ylabel(\"Score\")"
   ]
  },
  {
   "cell_type": "markdown",
   "metadata": {},
   "source": [
    "<a id='home_types'></a>\n",
    "### Model performance on different home types"
   ]
  },
  {
   "cell_type": "code",
   "execution_count": 177,
   "metadata": {
    "collapsed": false
   },
   "outputs": [
    {
     "data": {
      "text/plain": [
       "array(['MultiFamily2To4', 'Cooperative', 'Condominium', 'SingleFamily',\n",
       "       'Apartment', 'Duplex', 'Townhouse', 'Quadruplex', 'Unknown',\n",
       "       'Triplex', 'Miscellaneous', 'MultiFamily5Plus', 'Mobile'], dtype=object)"
      ]
     },
     "execution_count": 177,
     "metadata": {},
     "output_type": "execute_result"
    }
   ],
   "source": [
    "home_types"
   ]
  },
  {
   "cell_type": "code",
   "execution_count": 178,
   "metadata": {
    "collapsed": false
   },
   "outputs": [
    {
     "name": "stdout",
     "output_type": "stream",
     "text": [
      "MultiFamily2To4: 0.917796313076\n",
      "Cooperative: 0.934230882015\n",
      "Condominium: 0.97614061751\n",
      "SingleFamily: 0.957780196619\n",
      "Apartment: 0.816877906344\n",
      "Duplex: 0.983700483779\n",
      "Townhouse: 0.906550053332\n",
      "Quadruplex: 0.972492776353\n",
      "Unknown: 0.846395466104\n",
      "Triplex: 0.993114792775\n",
      "Miscellaneous: 0.62428356869\n",
      "MultiFamily5Plus: 0.0\n",
      "Mobile: 0.0\n"
     ]
    }
   ],
   "source": [
    "scores_list = []\n",
    "ht_list = []\n",
    "for home_type in home_types:\n",
    "    col_name = \"home_type_\" + home_type\n",
    "    if len(data[data[col_name] == 1]) != 0:\n",
    "        subset = data[data[col_name] == 1]\n",
    "        x_subset = subset.drop(['zestimate_amount'],1)\n",
    "        y_subset = subset['zestimate_amount']\n",
    "        score = model.score(x_subset, y_subset)\n",
    "        print home_type + \": \" + str(score)\n",
    "        ht_list += [home_type]\n",
    "        scores_list += [score]"
   ]
  },
  {
   "cell_type": "code",
   "execution_count": 179,
   "metadata": {
    "collapsed": true
   },
   "outputs": [],
   "source": [
    "for i in range(len(scores_list)):\n",
    "    if scores_list[i] < 0:\n",
    "        scores_list[i] = 0"
   ]
  },
  {
   "cell_type": "code",
   "execution_count": 180,
   "metadata": {
    "collapsed": true
   },
   "outputs": [],
   "source": [
    "results_df = pd.DataFrame(ht_list, columns = [\"neighborhood\"])\n",
    "results_df[\"score\"] = scores_list"
   ]
  },
  {
   "cell_type": "code",
   "execution_count": 181,
   "metadata": {
    "collapsed": false
   },
   "outputs": [
    {
     "data": {
      "text/plain": [
       "<matplotlib.text.Text at 0x1270ad6d0>"
      ]
     },
     "execution_count": 181,
     "metadata": {},
     "output_type": "execute_result"
    },
    {
     "data": {
      "image/png": "[encoded data removed]",
      "text/plain": [
       "<matplotlib.figure.Figure at 0x126d84f10>"
      ]
     },
     "metadata": {},
     "output_type": "display_data"
    }
   ],
   "source": [
    "fig, ax = plt.subplots(figsize=(10,3))\n",
    "ax = sns.stripplot(ht_list, scores_list, color = 'blue')\n",
    "ax.set_xticklabels(ht_list, rotation=90)\n",
    "ax.set_xlabel(\"Home Type\")\n",
    "ax.set_ylabel(\"Score\")\n",
    "#ax.legend(bbox_to_anchor=(1.5, 1))"
   ]
  },
  {
   "cell_type": "markdown",
   "metadata": {
    "collapsed": true
   },
   "source": [
    "We can see that there are in fact differences in how well our model performs for different neighborhoods and different home types.  Our model is quite good for many of the neighborhoods and home types for which we had a lot of data, but has lower $R^2$ values for some of the other neighborhoods and home types."
   ]
  },
  {
   "cell_type": "code",
   "execution_count": null,
   "metadata": {
    "collapsed": true
   },
   "outputs": [],
   "source": []
  }
 ],
 "metadata": {
  "kernelspec": {
   "display_name": "Python [conda root]",
   "language": "python",
   "name": "conda-root-py"
  },
  "language_info": {
   "codemirror_mode": {
    "name": "ipython",
    "version": 2
   },
   "file_extension": ".py",
   "mimetype": "text/x-python",
   "name": "python",
   "nbconvert_exporter": "python",
   "pygments_lexer": "ipython2",
   "version": "2.7.12"
  }
 },
 "nbformat": 4,
 "nbformat_minor": 1
}
