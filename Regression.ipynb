{
 "cells": [
  {
   "cell_type": "code",
   "execution_count": 1,
   "metadata": {
    "collapsed": false
   },
   "outputs": [],
   "source": [
    "# ONLY USE THIS BLOCK OF CODE ON NICASIA'S COMPUTER \n",
    "import sys\n",
    "sys.path.append(\"/anaconda/lib/python2.7/site-packages\")\n",
    "#####\n",
    "\n",
    "\n",
    "import pandas as pd\n",
    "import numpy as np\n",
    "from matplotlib.patches import Polygon\n",
    "from sklearn.preprocessing import Imputer\n",
    "from sklearn.preprocessing import StandardScaler as Standardize\n",
    "from sklearn.linear_model import LinearRegression as Lin_Reg\n",
    "from sklearn.linear_model import Ridge as Ridge_Reg\n",
    "from sklearn.linear_model import Lasso as Lasso_Reg\n",
    "from sklearn.preprocessing import PolynomialFeatures\n",
    "from sklearn import ensemble\n",
    "from sklearn.pipeline import Pipeline\n",
    "from sklearn.preprocessing import StandardScaler\n",
    "from statsmodels.regression.linear_model import OLS\n",
    "import string\n",
    "import matplotlib.pyplot as plt\n",
    "%matplotlib inline\n",
    "import math"
   ]
  },
  {
   "cell_type": "code",
   "execution_count": 2,
   "metadata": {
    "collapsed": true
   },
   "outputs": [],
   "source": [
    " = pd.read_csv(\"cleaned_data_imputed.csv\")\n"
   ]
  },
  {
   "cell_type": "markdown",
   "metadata": {},
   "source": [
    "## Data Cleaning"
   ]
  },
  {
   "cell_type": "code",
   "execution_count": 3,
   "metadata": {
    "collapsed": false
   },
   "outputs": [],
   "source": [
    "x_train = train.drop(['zestimate_amount'], 1)\n",
    "y_train = train['zestimate_amount']\n",
    "x_test = test.drop(['zestimate_amount'], 1)\n",
    "y_test = test['zestimate_amount']"
   ]
  },
  {
   "cell_type": "markdown",
   "metadata": {},
   "source": [
    "## Linear Regression "
   ]
  },
  {
   "cell_type": "code",
   "execution_count": 4,
   "metadata": {
    "collapsed": false
   },
   "outputs": [
    {
     "name": "stdout",
     "output_type": "stream",
     "text": [
      "Plain Regression: R^2 score on training set 0.229361079591\n",
      "Plain Regression: R^2 score on test set 0.242281110478\n"
     ]
    }
   ],
   "source": [
    "# Fit plain regression on train set, evaluate on train and test sets\n",
    "reg = Lin_Reg()\n",
    "reg.fit(x_train.values, y_train.values)\n",
    "\n",
    "train_r_squared_plain = reg.score(x_train, y_train)\n",
    "test_r_squared_plain = reg.score(x_test, y_test)\n",
    "\n",
    "print 'Plain Regression: R^2 score on training set', train_r_squared_plain\n",
    "print 'Plain Regression: R^2 score on test set', test_r_squared_plain"
   ]
  },
  {
   "cell_type": "markdown",
   "metadata": {},
   "source": [
    "## Ridge Regression "
   ]
  },
  {
   "cell_type": "markdown",
   "metadata": {},
   "source": [
    "We will implement Ridge Regression with cross validation and optimize our score with different regularization parameters."
   ]
  },
  {
   "cell_type": "code",
   "execution_count": 5,
   "metadata": {
    "collapsed": false
   },
   "outputs": [],
   "source": [
    "#--------  k_fold_r_squared\n",
    "# A function for k-fold cross validation with Ridge regression\n",
    "# Input: \n",
    "#      x_train (n x d array of predictors in training data)\n",
    "#      y_train (n x 1 array of response variable vals in training data)\n",
    "#      num_folds (no. of folds for CV)\n",
    "#      param_val (regularization parameter value)\n",
    "# Return: \n",
    "#      average R^2 value across folds\n",
    "\n",
    "def k_fold_r_squared(x_train, y_train, num_folds, param_val):\n",
    "    n_train = x_train.shape[0]\n",
    "    n = int(np.round(n_train * 1. / num_folds)) # points per fold\n",
    "\n",
    "    # Iterate over folds\n",
    "    cv_r_squared = 0\n",
    "    \n",
    "    for fold in range(1, num_folds + 1):\n",
    "        # Take k-1 folds for training \n",
    "        x_first_half = x_train[:n * (fold - 1), :]\n",
    "        x_second_half = x_train[n * fold + 1:, :]\n",
    "        x_train_cv = np.concatenate((x_first_half, x_second_half), axis=0)\n",
    "        \n",
    "        y_first_half = y_train[:n * (fold - 1)]\n",
    "        y_second_half = y_train[n * fold + 1:]\n",
    "        y_train_cv = np.concatenate((y_first_half, y_second_half), axis=0)\n",
    "        \n",
    "        # Take the middle fold for testing\n",
    "        x_test_cv = x_train[1 + n * (fold - 1):n * fold, :]\n",
    "        y_test_cv = y_train[1 + n * (fold - 1):n * fold]\n",
    "\n",
    "        # Fit ridge regression model with parameter value on CV train set, and evaluate CV test performance\n",
    "        reg = Ridge_Reg(alpha = param_val)\n",
    "        reg.fit(x_train_cv, y_train_cv)\n",
    "        r_squared = reg.score(x_test_cv, y_test_cv)\n",
    "    \n",
    "        # Cummulative R^2 value across folds\n",
    "        cv_r_squared += r_squared\n",
    "\n",
    "    # Return average R^2 value across folds\n",
    "    return cv_r_squared * 1.0 / num_folds"
   ]
  },
  {
   "cell_type": "code",
   "execution_count": 6,
   "metadata": {
    "collapsed": false
   },
   "outputs": [],
   "source": [
    "# Store test & CV R^2 values for different regression parameter values\n",
    "# Range: 10^-7, ... 10^7\n",
    "max_pow_of_10 = 7\n",
    "min_pow_of_10 = -7\n",
    "num_params = max_pow_of_10 - min_pow_of_10 + 1\n",
    "\n",
    "cv_r_squared = []\n",
    "test_r_squared = []\n",
    "\n",
    "# Iterate over various parameter values\n",
    "for power_of_10 in range(min_pow_of_10, max_pow_of_10+1):\n",
    "    \n",
    "    #standardize x_train and y_train\n",
    "    std = Standardize(with_mean=False)\n",
    "    x_train_std = std.fit_transform(x_train)\n",
    "    x_test_std = x_test / std.scale_ \n",
    "    \n",
    "    # Fit regression model on train set, and evaluate test R^2\n",
    "    reg = Ridge_Reg(alpha=10**power_of_10)\n",
    "    reg.fit(x_train_std, y_train)\n",
    "    test_r_squared.append(reg.score(x_test_std, y_test))\n",
    "    \n",
    "    # Evaluate 5-fold CV R^2\n",
    "    cv_r_squared.append(k_fold_r_squared(x_train_std, y_train, 5, 10**power_of_10))"
   ]
  },
  {
   "cell_type": "code",
   "execution_count": 7,
   "metadata": {
    "collapsed": false
   },
   "outputs": [
    {
     "name": "stdout",
     "output_type": "stream",
     "text": [
      "Ridge regression: Test R^2 score for CV choice 0.243537942\n",
      "Ridge regression: Max Test R^2 score 0.250750672192\n",
      "Plain regression: Test R^2 score: 0.242281110478\n"
     ]
    },
    {
     "data": {
      "image/png": "[encoded data removed]",
      "text/plain": [
       "<matplotlib.figure.Figure at 0x10a12d650>"
      ]
     },
     "metadata": {},
     "output_type": "display_data"
    }
   ],
   "source": [
    "# Plot CV and test R^2 values as a function of parameter value\n",
    "fig, ax = plt.subplots(1, 1, figsize=(6, 6))\n",
    "\n",
    "ax.semilogx(10.0**np.arange(min_pow_of_10, max_pow_of_10 + 1), \n",
    "            cv_r_squared, \n",
    "            c='b', \n",
    "            label='5-fold CV')\n",
    "ax.semilogx(10.0**np.arange(min_pow_of_10, max_pow_of_10 + 1), \n",
    "            test_r_squared, \n",
    "            c='r', \n",
    "            label='Test')\n",
    "\n",
    "ax.set_xlabel('Regularization parameter')\n",
    "ax.set_ylabel('R^2 score')\n",
    "ax.set_title('Comparison of R^2 Score')\n",
    "ax.legend(loc='lower right')\n",
    "\n",
    "# Best CV parameter value\n",
    "best_cv_param = np.argmax(cv_r_squared)\n",
    "\n",
    "# Print R^2 for best CV parameter, max R^2 across all parameters, and R^2 for plain regression\n",
    "print 'Ridge regression: Test R^2 score for CV choice', test_r_squared[best_cv_param]\n",
    "print 'Ridge regression: Max Test R^2 score', max(test_r_squared)\n",
    "print 'Plain regression: Test R^2 score:', test_r_squared_plain\n",
    "\n",
    "plt.show()"
   ]
  },
  {
   "cell_type": "markdown",
   "metadata": {},
   "source": [
    "## Lasso Regression"
   ]
  },
  {
   "cell_type": "markdown",
   "metadata": {},
   "source": [
    "We will implement Lasso Regression with cross validation and optimize our score with different regularization parameters."
   ]
  },
  {
   "cell_type": "code",
   "execution_count": 8,
   "metadata": {
    "collapsed": true
   },
   "outputs": [],
   "source": [
    "#--------  k_fold_r_squared\n",
    "# A function for k-fold cross validation with Ridge regression\n",
    "# Input: \n",
    "#      x_train (n x d array of predictors in training data)\n",
    "#      y_train (n x 1 array of response variable vals in training data)\n",
    "#      num_folds (no. of folds for CV)\n",
    "#      param_val (regularization parameter value)\n",
    "# Return: \n",
    "#      average R^2 value across folds\n",
    "\n",
    "def k_fold_r_squared(x_train, y_train, num_folds, param_val):\n",
    "    n_train = x_train.shape[0]\n",
    "    n = int(np.round(n_train * 1. / num_folds)) # points per fold\n",
    "\n",
    "    # Iterate over folds\n",
    "    cv_r_squared = 0\n",
    "    \n",
    "    for fold in range(1, num_folds + 1):\n",
    "        # Take k-1 folds for training \n",
    "        x_first_half = x_train[:n * (fold - 1), :]\n",
    "        x_second_half = x_train[n * fold + 1:, :]\n",
    "        x_train_cv = np.concatenate((x_first_half, x_second_half), axis=0)\n",
    "        \n",
    "        y_first_half = y_train[:n * (fold - 1)]\n",
    "        y_second_half = y_train[n * fold + 1:]\n",
    "        y_train_cv = np.concatenate((y_first_half, y_second_half), axis=0)\n",
    "        \n",
    "        # Take the middle fold for testing\n",
    "        x_test_cv = x_train[1 + n * (fold - 1):n * fold, :]\n",
    "        y_test_cv = y_train[1 + n * (fold - 1):n * fold]\n",
    "\n",
    "        # Fit ridge regression model with parameter value on CV train set, and evaluate CV test performance\n",
    "        reg = Lasso_Reg(alpha = param_val)\n",
    "        reg.fit(x_train_cv, y_train_cv)\n",
    "        r_squared = reg.score(x_test_cv, y_test_cv)\n",
    "    \n",
    "        # Cummulative R^2 value across folds\n",
    "        cv_r_squared += r_squared\n",
    "\n",
    "    # Return average R^2 value across folds\n",
    "    return cv_r_squared * 1.0 / num_folds"
   ]
  },
  {
   "cell_type": "code",
   "execution_count": 9,
   "metadata": {
    "collapsed": false
   },
   "outputs": [
    {
     "name": "stderr",
     "output_type": "stream",
     "text": [
      "/Users/meiyinwu/anaconda/lib/python2.7/site-packages/sklearn/linear_model/coordinate_descent.py:466: ConvergenceWarning: Objective did not converge. You might want to increase the number of iterations\n",
      "  ConvergenceWarning)\n"
     ]
    }
   ],
   "source": [
    "# Store test & CV R^2 values for different regression parameter values\n",
    "# Range: 10^-7, ... 10^7\n",
    "max_pow_of_10 = 7\n",
    "min_pow_of_10 = -7\n",
    "num_params = max_pow_of_10 - min_pow_of_10 + 1\n",
    "\n",
    "cv_r_squared = []\n",
    "test_r_squared = []\n",
    "\n",
    "# Iterate over various parameter values\n",
    "for power_of_10 in range(min_pow_of_10, max_pow_of_10+1):\n",
    "    \n",
    "    #standardize x_train and y_train\n",
    "    std = Standardize(with_mean=False)\n",
    "    x_train_std = std.fit_transform(x_train)\n",
    "    x_test_std = x_test / std.scale_ \n",
    "    \n",
    "    # Fit regression model on train set, and evaluate test R^2\n",
    "    reg = Lasso_Reg(alpha=10**power_of_10)\n",
    "    reg.fit(x_train_std, y_train)\n",
    "    test_r_squared.append(reg.score(x_test_std, y_test))\n",
    "    \n",
    "    # Evaluate 5-fold CV R^2\n",
    "    cv_r_squared.append(k_fold_r_squared(x_train_std, y_train, 5, 10**power_of_10))"
   ]
  },
  {
   "cell_type": "code",
   "execution_count": 10,
   "metadata": {
    "collapsed": false
   },
   "outputs": [
    {
     "name": "stdout",
     "output_type": "stream",
     "text": [
      "Lasso regression: Test R^2 score for CV choice 0.24397195986\n",
      "Lasso regression: Max Test R^2 score 0.24397195986\n",
      "Plain regression: Test R^2 score: 0.242281110478\n"
     ]
    },
    {
     "data": {
      "image/png": "[encoded data removed]",
      "text/plain": [
       "<matplotlib.figure.Figure at 0x11847ffd0>"
      ]
     },
     "metadata": {},
     "output_type": "display_data"
    }
   ],
   "source": [
    "# Plot CV and test R^2 values as a function of parameter value\n",
    "fig, ax = plt.subplots(1, 1, figsize=(6, 6))\n",
    "\n",
    "ax.semilogx(10.0**np.arange(min_pow_of_10, max_pow_of_10 + 1), \n",
    "            cv_r_squared, \n",
    "            c='b', \n",
    "            label='5-fold CV')\n",
    "ax.semilogx(10.0**np.arange(min_pow_of_10, max_pow_of_10 + 1), \n",
    "            test_r_squared, \n",
    "            c='r', \n",
    "            label='Test')\n",
    "\n",
    "ax.set_xlabel('Regularization parameter')\n",
    "ax.set_ylabel('R^2 score')\n",
    "ax.set_title('Comparison of R^2 Score')\n",
    "ax.legend(loc='lower right')\n",
    "\n",
    "# Best CV parameter value\n",
    "best_cv_param = np.argmax(cv_r_squared)\n",
    "\n",
    "# Print R^2 for best CV parameter, max R^2 across all parameters, and R^2 for plain regression\n",
    "print 'Lasso regression: Test R^2 score for CV choice', test_r_squared[best_cv_param]\n",
    "print 'Lasso regression: Max Test R^2 score', max(test_r_squared)\n",
    "print 'Plain regression: Test R^2 score:', test_r_squared_plain\n",
    "\n",
    "plt.show()"
   ]
  },
  {
   "cell_type": "markdown",
   "metadata": {},
   "source": [
    "## Polynomial Regression "
   ]
  },
  {
   "cell_type": "markdown",
   "metadata": {},
   "source": [
    "We will implement Polynomial Regression with cross validation. "
   ]
  },
  {
   "cell_type": "code",
   "execution_count": 4,
   "metadata": {
    "collapsed": true
   },
   "outputs": [],
   "source": [
    "#--------  k_fold_r_squared\n",
    "# A function for k-fold cross validation with Ridge regression\n",
    "# Input: \n",
    "#      x_train (n x d array of predictors in training data)\n",
    "#      y_train (n x 1 array of response variable vals in training data)\n",
    "#      num_folds (no. of folds for CV)\n",
    "#      param_val (regularization parameter value)\n",
    "# Return: \n",
    "#      average R^2 value across folds\n",
    "\n",
    "def k_fold_r_squared(x_train, y_train, num_folds):\n",
    "    n_train = x_train.shape[0]\n",
    "    n = int(np.round(n_train * 1. / num_folds)) # points per fold\n",
    "\n",
    "    # Iterate over folds\n",
    "    cv_r_squared = 0\n",
    "    \n",
    "    for fold in range(1, num_folds + 1):\n",
    "        # Take k-1 folds for training \n",
    "        x_first_half = x_train.iloc[:n * (fold - 1), :]\n",
    "        x_second_half = x_train.iloc[n * fold + 1:, :]\n",
    "        x_train_cv = np.concatenate((x_first_half, x_second_half), axis=0)\n",
    "        \n",
    "        y_first_half = y_train.iloc[:n * (fold - 1)]\n",
    "        y_second_half = y_train.iloc[n * fold + 1:]\n",
    "        y_train_cv = np.concatenate((y_first_half, y_second_half), axis=0)\n",
    "        \n",
    "        # Take the middle fold for testing\n",
    "        x_test_cv = x_train.iloc[1 + n * (fold - 1):n * fold, :]\n",
    "        y_test_cv = y_train.iloc[1 + n * (fold - 1):n * fold]\n",
    "\n",
    "        # Fit ridge regression model with parameter value on CV train set, and evaluate CV test performance\n",
    "        reg = Pipeline([('poly', PolynomialFeatures(degree=3)), ('linear', Lin_Reg(fit_intercept=False))])\n",
    "        reg.fit(x_train_cv, y_train_cv)\n",
    "        r_squared = reg.score(x_test_cv, y_test_cv)\n",
    "    \n",
    "        # Cummulative R^2 value across folds\n",
    "        cv_r_squared += r_squared\n",
    "\n",
    "    # Return average R^2 value across folds\n",
    "    return cv_r_squared * 1.0 / num_folds"
   ]
  },
  {
   "cell_type": "code",
   "execution_count": null,
   "metadata": {
    "collapsed": false
   },
   "outputs": [],
   "source": [
    "k_fold_r_squared(x_train, y_train, 5)"
   ]
  },
  {
   "cell_type": "code",
   "execution_count": null,
   "metadata": {
    "collapsed": false
   },
   "outputs": [],
   "source": [
    "reg = Pipeline([('poly', PolynomialFeatures(degree=3)), ('linear', Lin_Reg(fit_intercept=False))])\n",
    "reg.fit(x_train, y_train)\n",
    "r_squared = reg.score(x_test, y_test)\n",
    "\n",
    "# Best CV parameter value\n",
    "best_cv_param = np.argmax(cv_r_squared)\n",
    "\n",
    "# Print R^2 for best CV parameter, max R^2 across all parameters, and R^2 for plain regression\n",
    "print 'Polynomial regression: Test R^2 score for CV choice', test_r_squared[best_cv_param]\n",
    "print 'Polynomial regression: Max Test R^2 score', max(test_r_squared)\n",
    "print 'Polynomial regression: Test R^2 score:', test_r_squared_plain"
   ]
  }
 ],
 "metadata": {
  "anaconda-cloud": {},
  "kernelspec": {
   "display_name": "Python [default]",
   "language": "python",
   "name": "python2"
  },
  "language_info": {
   "codemirror_mode": {
    "name": "ipython",
    "version": 2
   },
   "file_extension": ".py",
   "mimetype": "text/x-python",
   "name": "python",
   "nbconvert_exporter": "python",
   "pygments_lexer": "ipython2",
   "version": "2.7.12"
  }
 },
 "nbformat": 4,
 "nbformat_minor": 0
}
