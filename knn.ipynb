{
 "cells": [
  {
   "cell_type": "code",
   "execution_count": 19,
   "metadata": {
    "collapsed": false
   },
   "outputs": [
    {
     "data": {
      "text/html": [
       "<script>\n",
       "code_show=true;\n",
       "function code_toggle() {\n",
       " if (code_show){\n",
       " $('div.input').hide();\n",
       " } else {\n",
       " $('div.input').show();\n",
       " }\n",
       " code_show = !code_show\n",
       "}\n",
       "$( document ).ready(code_toggle);\n",
       "</script>\n",
       "<form action=\"javascript:code_toggle()\"><input type=\"submit\" value=\"Click here to toggle on/off the raw code.\"></form>"
      ],
      "text/plain": [
       "<IPython.core.display.HTML object>"
      ]
     },
     "execution_count": 19,
     "metadata": {},
     "output_type": "execute_result"
    }
   ],
   "source": [
    "from IPython.display import HTML\n",
    "\n",
    "HTML('''<script>\n",
    "code_show=true;\n",
    "function code_toggle() {\n",
    " if (code_show){\n",
    " $('div.input').hide();\n",
    " } else {\n",
    " $('div.input').show();\n",
    " }\n",
    " code_show = !code_show\n",
    "}\n",
    "$( document ).ready(code_toggle);\n",
    "</script>\n",
    "<form action=\"javascript:code_toggle()\"><input type=\"submit\" value=\"Click here to toggle on/off the raw code.\"></form>''')"
   ]
  },
  {
   "cell_type": "markdown",
   "metadata": {},
   "source": [
    "## KNN Model"
   ]
  },
  {
   "cell_type": "code",
   "execution_count": 34,
   "metadata": {
    "collapsed": false
   },
   "outputs": [],
   "source": [
    "import pandas as pd\n",
    "import numpy as np\n",
    "from mpl_toolkits.basemap import Basemap\n",
    "from matplotlib.patches import Polygon\n",
    "from sklearn.linear_model import LinearRegression\n",
    "from sklearn.preprocessing import Imputer\n",
    "from sklearn import cross_validation\n",
    "from sklearn import covariance\n",
    "from sklearn.pipeline import Pipeline\n",
    "from sklearn.neighbors import KNeighborsRegressor as KNN\n",
    "import string\n",
    "import matplotlib.pyplot as plt\n",
    "import matplotlib.patches as mpatches\n",
    "%matplotlib inline\n",
    "import math\n",
    "import string\n",
    "import os\n",
    "import datetime\n",
    "from sklearn.decomposition import PCA"
   ]
  },
  {
   "cell_type": "markdown",
   "metadata": {},
   "source": [
    "#### Import data"
   ]
  },
  {
   "cell_type": "code",
   "execution_count": 43,
   "metadata": {
    "collapsed": false,
    "scrolled": true
   },
   "outputs": [
    {
     "data": {
      "text/html": [
       "<div>\n",
       "<table border=\"1\" class=\"dataframe\">\n",
       "  <thead>\n",
       "    <tr style=\"text-align: right;\">\n",
       "      <th></th>\n",
       "      <th>tax_value</th>\n",
       "      <th>property_size</th>\n",
       "      <th>zestimate_amount</th>\n",
       "      <th>bathrooms</th>\n",
       "      <th>tax_year</th>\n",
       "      <th>latitude</th>\n",
       "      <th>bedrooms</th>\n",
       "      <th>year_built</th>\n",
       "      <th>home_size</th>\n",
       "      <th>longitude</th>\n",
       "      <th>...</th>\n",
       "      <th>neighborhood_Morningside Heights</th>\n",
       "      <th>neighborhood_Murray Hill</th>\n",
       "      <th>neighborhood_North Sutton Area</th>\n",
       "      <th>neighborhood_Soho</th>\n",
       "      <th>neighborhood_Tribeca</th>\n",
       "      <th>neighborhood_Upper East Side</th>\n",
       "      <th>neighborhood_Upper West Side</th>\n",
       "      <th>neighborhood_Washington Heights</th>\n",
       "      <th>neighborhood_West Village</th>\n",
       "      <th>neighborhood_Yorkville</th>\n",
       "    </tr>\n",
       "  </thead>\n",
       "  <tbody>\n",
       "    <tr>\n",
       "      <th>0</th>\n",
       "      <td>2331000.0</td>\n",
       "      <td>2000.0</td>\n",
       "      <td>849427.0</td>\n",
       "      <td>1.0</td>\n",
       "      <td>2015.0</td>\n",
       "      <td>40.724448</td>\n",
       "      <td>1.0</td>\n",
       "      <td>1910.0</td>\n",
       "      <td>400.0</td>\n",
       "      <td>-73.980284</td>\n",
       "      <td>...</td>\n",
       "      <td>0.0</td>\n",
       "      <td>0.0</td>\n",
       "      <td>0.0</td>\n",
       "      <td>0.0</td>\n",
       "      <td>0.0</td>\n",
       "      <td>0.0</td>\n",
       "      <td>0.0</td>\n",
       "      <td>0.0</td>\n",
       "      <td>0.0</td>\n",
       "      <td>0.0</td>\n",
       "    </tr>\n",
       "    <tr>\n",
       "      <th>1</th>\n",
       "      <td>1642000.0</td>\n",
       "      <td>2250.0</td>\n",
       "      <td>3769688.0</td>\n",
       "      <td>2.0</td>\n",
       "      <td>2015.0</td>\n",
       "      <td>40.724420</td>\n",
       "      <td>3.0</td>\n",
       "      <td>1900.0</td>\n",
       "      <td>10800.0</td>\n",
       "      <td>-73.980200</td>\n",
       "      <td>...</td>\n",
       "      <td>0.0</td>\n",
       "      <td>0.0</td>\n",
       "      <td>0.0</td>\n",
       "      <td>0.0</td>\n",
       "      <td>0.0</td>\n",
       "      <td>0.0</td>\n",
       "      <td>0.0</td>\n",
       "      <td>0.0</td>\n",
       "      <td>0.0</td>\n",
       "      <td>0.0</td>\n",
       "    </tr>\n",
       "    <tr>\n",
       "      <th>2</th>\n",
       "      <td>1674000.0</td>\n",
       "      <td>2250.0</td>\n",
       "      <td>7332356.0</td>\n",
       "      <td>1.0</td>\n",
       "      <td>2015.0</td>\n",
       "      <td>40.724385</td>\n",
       "      <td>2.0</td>\n",
       "      <td>1900.0</td>\n",
       "      <td>10800.0</td>\n",
       "      <td>-73.980120</td>\n",
       "      <td>...</td>\n",
       "      <td>0.0</td>\n",
       "      <td>0.0</td>\n",
       "      <td>0.0</td>\n",
       "      <td>0.0</td>\n",
       "      <td>0.0</td>\n",
       "      <td>0.0</td>\n",
       "      <td>0.0</td>\n",
       "      <td>0.0</td>\n",
       "      <td>0.0</td>\n",
       "      <td>0.0</td>\n",
       "    </tr>\n",
       "    <tr>\n",
       "      <th>3</th>\n",
       "      <td>2331000.0</td>\n",
       "      <td>2000.0</td>\n",
       "      <td>1991289.0</td>\n",
       "      <td>1.0</td>\n",
       "      <td>2015.0</td>\n",
       "      <td>40.724332</td>\n",
       "      <td>4.0</td>\n",
       "      <td>1910.0</td>\n",
       "      <td>3328.0</td>\n",
       "      <td>-73.980007</td>\n",
       "      <td>...</td>\n",
       "      <td>0.0</td>\n",
       "      <td>0.0</td>\n",
       "      <td>0.0</td>\n",
       "      <td>0.0</td>\n",
       "      <td>0.0</td>\n",
       "      <td>0.0</td>\n",
       "      <td>0.0</td>\n",
       "      <td>0.0</td>\n",
       "      <td>0.0</td>\n",
       "      <td>0.0</td>\n",
       "    </tr>\n",
       "    <tr>\n",
       "      <th>4</th>\n",
       "      <td>2331000.0</td>\n",
       "      <td>2000.0</td>\n",
       "      <td>3769688.0</td>\n",
       "      <td>1.0</td>\n",
       "      <td>2015.0</td>\n",
       "      <td>40.724845</td>\n",
       "      <td>2.0</td>\n",
       "      <td>1910.0</td>\n",
       "      <td>3328.0</td>\n",
       "      <td>-73.980804</td>\n",
       "      <td>...</td>\n",
       "      <td>0.0</td>\n",
       "      <td>0.0</td>\n",
       "      <td>0.0</td>\n",
       "      <td>0.0</td>\n",
       "      <td>0.0</td>\n",
       "      <td>0.0</td>\n",
       "      <td>0.0</td>\n",
       "      <td>0.0</td>\n",
       "      <td>0.0</td>\n",
       "      <td>0.0</td>\n",
       "    </tr>\n",
       "  </tbody>\n",
       "</table>\n",
       "<p>5 rows × 126 columns</p>\n",
       "</div>"
      ],
      "text/plain": [
       "   tax_value  property_size  zestimate_amount  bathrooms  tax_year   latitude  \\\n",
       "0  2331000.0         2000.0          849427.0        1.0    2015.0  40.724448   \n",
       "1  1642000.0         2250.0         3769688.0        2.0    2015.0  40.724420   \n",
       "2  1674000.0         2250.0         7332356.0        1.0    2015.0  40.724385   \n",
       "3  2331000.0         2000.0         1991289.0        1.0    2015.0  40.724332   \n",
       "4  2331000.0         2000.0         3769688.0        1.0    2015.0  40.724845   \n",
       "\n",
       "   bedrooms  year_built  home_size  longitude           ...            \\\n",
       "0       1.0      1910.0      400.0 -73.980284           ...             \n",
       "1       3.0      1900.0    10800.0 -73.980200           ...             \n",
       "2       2.0      1900.0    10800.0 -73.980120           ...             \n",
       "3       4.0      1910.0     3328.0 -73.980007           ...             \n",
       "4       2.0      1910.0     3328.0 -73.980804           ...             \n",
       "\n",
       "   neighborhood_Morningside Heights  neighborhood_Murray Hill  \\\n",
       "0                               0.0                       0.0   \n",
       "1                               0.0                       0.0   \n",
       "2                               0.0                       0.0   \n",
       "3                               0.0                       0.0   \n",
       "4                               0.0                       0.0   \n",
       "\n",
       "   neighborhood_North Sutton Area  neighborhood_Soho  neighborhood_Tribeca  \\\n",
       "0                             0.0                0.0                   0.0   \n",
       "1                             0.0                0.0                   0.0   \n",
       "2                             0.0                0.0                   0.0   \n",
       "3                             0.0                0.0                   0.0   \n",
       "4                             0.0                0.0                   0.0   \n",
       "\n",
       "   neighborhood_Upper East Side  neighborhood_Upper West Side  \\\n",
       "0                           0.0                           0.0   \n",
       "1                           0.0                           0.0   \n",
       "2                           0.0                           0.0   \n",
       "3                           0.0                           0.0   \n",
       "4                           0.0                           0.0   \n",
       "\n",
       "   neighborhood_Washington Heights  neighborhood_West Village  \\\n",
       "0                              0.0                        0.0   \n",
       "1                              0.0                        0.0   \n",
       "2                              0.0                        0.0   \n",
       "3                              0.0                        0.0   \n",
       "4                              0.0                        0.0   \n",
       "\n",
       "   neighborhood_Yorkville  \n",
       "0                     0.0  \n",
       "1                     0.0  \n",
       "2                     0.0  \n",
       "3                     0.0  \n",
       "4                     0.0  \n",
       "\n",
       "[5 rows x 126 columns]"
      ]
     },
     "execution_count": 43,
     "metadata": {},
     "output_type": "execute_result"
    }
   ],
   "source": [
    "train_data = pd.read_csv(\"train_imputed.csv\")\n",
    "train_data.head()"
   ]
  },
  {
   "cell_type": "markdown",
   "metadata": {},
   "source": [
    "After importing the data, we split it up into x and y, with \"zestimate_amount\" as our y-value and everything else as our x.  We then created a function to fit and evaluate a KNN model within cross-validation."
   ]
  },
  {
   "cell_type": "code",
   "execution_count": 44,
   "metadata": {
    "collapsed": true
   },
   "outputs": [],
   "source": [
    "x_train = train_data.drop(['zestimate_amount', 'tax_value'],1)\n",
    "y_train = train_data['zestimate_amount']"
   ]
  },
  {
   "cell_type": "code",
   "execution_count": 45,
   "metadata": {
    "collapsed": true
   },
   "outputs": [],
   "source": [
    "def k_fold_knn(x, y, n_neighbors, num_folds):\n",
    "    \n",
    "    kfold = cross_validation.KFold(len(x), num_folds, shuffle = True)\n",
    "\n",
    "    # Iterate over folds\n",
    "    cv_rsquared = 0\n",
    "    \n",
    "    for train, test in kfold:\n",
    "        x_train_cv = x.iloc[train].values\n",
    "        y_train_cv = y.iloc[train].values\n",
    "        x_test_cv = x.iloc[test].values\n",
    "        y_test_cv = y.iloc[test].values\n",
    "        \n",
    "        # Fit linear regression model and evaluate\n",
    "        knn_model = KNN(n_neighbors = n_neighbors)\n",
    "        knn_model.fit(x_train_cv, y_train_cv)\n",
    "        rsquared = knn_model.score(x_test_cv, y_test_cv)\n",
    "    \n",
    "        # Cummulative accuracy across folds\n",
    "        cv_rsquared += rsquared\n",
    "\n",
    "    # Return average accuracy across folds\n",
    "    return cv_rsquared * 1.0 / num_folds"
   ]
  },
  {
   "cell_type": "markdown",
   "metadata": {},
   "source": [
    "#### Full dataset - cross validation on KNN models with different numbers of neighbors"
   ]
  },
  {
   "cell_type": "code",
   "execution_count": 46,
   "metadata": {
    "collapsed": false
   },
   "outputs": [
    {
     "name": "stdout",
     "output_type": "stream",
     "text": [
      "R-squared for k=2 neighbors: -0.182994502508\n",
      "R-squared for k=3 neighbors: -0.0230282455552\n",
      "R-squared for k=4 neighbors: 0.121640672374\n",
      "R-squared for k=5 neighbors: 0.165927482577\n",
      "R-squared for k=6 neighbors: 0.169773025484\n",
      "R-squared for k=7 neighbors: 0.192667973845\n",
      "R-squared for k=8 neighbors: 0.220719222771\n",
      "R-squared for k=9 neighbors: 0.233594383476\n",
      "R-squared for k=10 neighbors: 0.230564589895\n",
      "R-squared for k=11 neighbors: 0.247367657995\n",
      "R-squared for k=12 neighbors: 0.260496278806\n",
      "R-squared for k=13 neighbors: 0.23703399939\n",
      "R-squared for k=14 neighbors: 0.250350537406\n",
      "R-squared for k=15 neighbors: 0.251118738487\n",
      "R-squared for k=16 neighbors: 0.274174241377\n",
      "R-squared for k=17 neighbors: 0.268559089408\n",
      "R-squared for k=18 neighbors: 0.296962739348\n",
      "R-squared for k=19 neighbors: 0.265635719198\n",
      "R-squared for k=20 neighbors: 0.258332451695\n",
      "R-squared for k=21 neighbors: 0.270276226284\n",
      "R-squared for k=22 neighbors: 0.272154271115\n",
      "R-squared for k=23 neighbors: 0.259284386248\n",
      "R-squared for k=24 neighbors: 0.269055391563\n",
      "R-squared for k=25 neighbors: 0.282639940015\n",
      "R-squared for k=26 neighbors: 0.269676566781\n",
      "R-squared for k=27 neighbors: 0.284900684588\n",
      "R-squared for k=28 neighbors: 0.257020403427\n",
      "R-squared for k=29 neighbors: 0.252624007443\n"
     ]
    }
   ],
   "source": [
    "for i in range(2, 30): \n",
    "    rsquared = k_fold_knn (x_train, y_train, i, 3)\n",
    "    print \"R-squared for k=\" + str(i) + \" neighbors: \" + str(rsquared)"
   ]
  },
  {
   "cell_type": "markdown",
   "metadata": {},
   "source": [
    "The number of neighbors that resulted in the highest cross-validated r-squared was 18, so this appears to be the best value for k.\n",
    "\n",
    "#### Final KNN model for full dataset\n"
   ]
  },
  {
   "cell_type": "code",
   "execution_count": 47,
   "metadata": {
    "collapsed": false
   },
   "outputs": [
    {
     "data": {
      "text/plain": [
       "KNeighborsRegressor(algorithm='auto', leaf_size=30, metric='minkowski',\n",
       "          metric_params=None, n_jobs=1, n_neighbors=16, p=2,\n",
       "          weights='uniform')"
      ]
     },
     "execution_count": 47,
     "metadata": {},
     "output_type": "execute_result"
    }
   ],
   "source": [
    "final_knn_model = KNN(n_neighbors = 16)\n",
    "final_knn_model.fit(x_train.values, y_train.values)"
   ]
  },
  {
   "cell_type": "markdown",
   "metadata": {},
   "source": [
    "#### Performance of final model on test data"
   ]
  },
  {
   "cell_type": "code",
   "execution_count": 48,
   "metadata": {
    "collapsed": true
   },
   "outputs": [],
   "source": [
    "test_data = pd.read_csv(\"test_imputed.csv\")"
   ]
  },
  {
   "cell_type": "code",
   "execution_count": 51,
   "metadata": {
    "collapsed": true
   },
   "outputs": [],
   "source": [
    "x_test = test_data.drop(['zestimate_amount', 'tax_value'],1)\n",
    "y_test = test_data['zestimate_amount']"
   ]
  },
  {
   "cell_type": "code",
   "execution_count": 52,
   "metadata": {
    "collapsed": false
   },
   "outputs": [
    {
     "name": "stdout",
     "output_type": "stream",
     "text": [
      "Score on test set: 0.324316012934\n"
     ]
    }
   ],
   "source": [
    "score = final_knn_model.score(x_test.values, y_test.values)\n",
    "print \"Score on test set: \" + str(score)"
   ]
  },
  {
   "cell_type": "markdown",
   "metadata": {},
   "source": [
    "We then wanted to see if KNN would work better on a smaller number of predictors.  We decided to run the model again using only the predictors that we had chosen as being highly correlated with our y-value during the data cleaning stage, and also using PCA to reduce the number of dimensions."
   ]
  },
  {
   "cell_type": "markdown",
   "metadata": {},
   "source": [
    "#### Subset of predictors and PCA - cross validation on KNN models with different numbers of neighbors and different numbers of PCA components"
   ]
  },
  {
   "cell_type": "code",
   "execution_count": 53,
   "metadata": {
    "collapsed": false
   },
   "outputs": [],
   "source": [
    "train_best_features = pd.read_csv(\"train_best_features.csv\")\n",
    "test_best_features = pd.read_csv(\"test_best_features.csv\")"
   ]
  },
  {
   "cell_type": "code",
   "execution_count": 54,
   "metadata": {
    "collapsed": true
   },
   "outputs": [],
   "source": [
    "x_train = train_best_features.drop(['zestimate_amount'],1)\n",
    "y_train = train_best_features['zestimate_amount']"
   ]
  },
  {
   "cell_type": "code",
   "execution_count": 55,
   "metadata": {
    "collapsed": true
   },
   "outputs": [],
   "source": [
    "x_test = test_best_features.drop(['zestimate_amount'],1)\n",
    "y_test = test_best_features['zestimate_amount']"
   ]
  },
  {
   "cell_type": "code",
   "execution_count": 56,
   "metadata": {
    "collapsed": true
   },
   "outputs": [],
   "source": [
    "def k_fold_knn_with_pca(pca_dims, neighbors, num_folds, x, y):\n",
    "    \n",
    "    kfold = cross_validation.KFold(len(x), num_folds, shuffle = True)\n",
    "\n",
    "    # Iterate over folds\n",
    "    cv_rsquared = 0\n",
    "    \n",
    "    for train, test in kfold:\n",
    "        x_train_cv = x.iloc[train].values\n",
    "        y_train_cv = y.iloc[train].values\n",
    "        x_test_cv = x.iloc[test].values\n",
    "        y_test_cv = y.iloc[test].values\n",
    "        \n",
    "        #Project to the data onto axes\n",
    "        pca = PCA(n_components=pca_dims)\n",
    "        pca.fit(x_train_cv)\n",
    "        x_train_reduced = pca.transform(x_train_cv)\n",
    "        x_test_reduced = pca.transform(x_test_cv)\n",
    "\n",
    "        \n",
    "        # Fit linear regression model and evaluate\n",
    "        knn_model = KNN(n_neighbors = neighbors)\n",
    "        knn_model.fit(x_train_reduced, y_train_cv)\n",
    "        rsquared = knn_model.score(x_test_reduced, y_test_cv)\n",
    "    \n",
    "        # Cummulative accuracy across folds\n",
    "        cv_rsquared += rsquared\n",
    "\n",
    "    # Return average accuracy across folds\n",
    "    return cv_rsquared * 1.0 / num_folds"
   ]
  },
  {
   "cell_type": "code",
   "execution_count": 57,
   "metadata": {
    "collapsed": false,
    "scrolled": false
   },
   "outputs": [
    {
     "name": "stdout",
     "output_type": "stream",
     "text": [
      "PCA Dimensions:  5 \tKNN # Neighbors:  20 \tR^2:  0.21287124594\n",
      "PCA Dimensions:  5 \tKNN # Neighbors:  22 \tR^2:  0.205856231085\n",
      "PCA Dimensions:  5 \tKNN # Neighbors:  24 \tR^2:  0.224175088622\n",
      "PCA Dimensions:  5 \tKNN # Neighbors:  26 \tR^2:  0.219332967775\n",
      "PCA Dimensions:  5 \tKNN # Neighbors:  28 \tR^2:  0.220625627773\n",
      "PCA Dimensions:  5 \tKNN # Neighbors:  30 \tR^2:  0.221476817902\n",
      "PCA Dimensions:  5 \tKNN # Neighbors:  32 \tR^2:  0.216463675034\n",
      "PCA Dimensions:  5 \tKNN # Neighbors:  34 \tR^2:  0.231162636932\n",
      "PCA Dimensions:  5 \tKNN # Neighbors:  36 \tR^2:  0.237302708865\n",
      "PCA Dimensions:  5 \tKNN # Neighbors:  38 \tR^2:  0.227979953605\n",
      "PCA Dimensions:  5 \tKNN # Neighbors:  40 \tR^2:  0.22977781995\n",
      "PCA Dimensions:  5 \tKNN # Neighbors:  42 \tR^2:  0.254292295837\n",
      "PCA Dimensions:  5 \tKNN # Neighbors:  44 \tR^2:  0.235447501256\n",
      "PCA Dimensions:  5 \tKNN # Neighbors:  46 \tR^2:  0.253594903322\n",
      "PCA Dimensions:  5 \tKNN # Neighbors:  48 \tR^2:  0.229908132533\n",
      "PCA Dimensions:  5 \tKNN # Neighbors:  50 \tR^2:  0.241161766378\n",
      "PCA Dimensions:  5 \tKNN # Neighbors:  52 \tR^2:  0.237801876925\n",
      "PCA Dimensions:  5 \tKNN # Neighbors:  54 \tR^2:  0.236503912015\n",
      "PCA Dimensions:  5 \tKNN # Neighbors:  56 \tR^2:  0.259299294017\n",
      "PCA Dimensions:  5 \tKNN # Neighbors:  58 \tR^2:  0.220523926907\n",
      "PCA Dimensions:  5 \tKNN # Neighbors:  60 \tR^2:  0.229202808684\n",
      "PCA Dimensions:  5 \tKNN # Neighbors:  62 \tR^2:  0.262131558267\n",
      "PCA Dimensions:  5 \tKNN # Neighbors:  64 \tR^2:  0.248654162465\n",
      "PCA Dimensions:  5 \tKNN # Neighbors:  66 \tR^2:  0.241216975159\n",
      "PCA Dimensions:  5 \tKNN # Neighbors:  68 \tR^2:  0.255640282826\n",
      "PCA Dimensions:  5 \tKNN # Neighbors:  70 \tR^2:  0.250256929417\n",
      "PCA Dimensions:  5 \tKNN # Neighbors:  72 \tR^2:  0.256304972111\n",
      "PCA Dimensions:  5 \tKNN # Neighbors:  74 \tR^2:  0.236159024244\n",
      "PCA Dimensions:  5 \tKNN # Neighbors:  76 \tR^2:  0.252170052399\n",
      "PCA Dimensions:  5 \tKNN # Neighbors:  78 \tR^2:  0.238739724596\n",
      "PCA Dimensions:  6 \tKNN # Neighbors:  20 \tR^2:  0.237886023668\n",
      "PCA Dimensions:  6 \tKNN # Neighbors:  22 \tR^2:  0.223835956563\n",
      "PCA Dimensions:  6 \tKNN # Neighbors:  24 \tR^2:  0.217865039642\n",
      "PCA Dimensions:  6 \tKNN # Neighbors:  26 \tR^2:  0.213505383477\n",
      "PCA Dimensions:  6 \tKNN # Neighbors:  28 \tR^2:  0.22049721592\n",
      "PCA Dimensions:  6 \tKNN # Neighbors:  30 \tR^2:  0.235600485257\n",
      "PCA Dimensions:  6 \tKNN # Neighbors:  32 \tR^2:  0.247641500321\n",
      "PCA Dimensions:  6 \tKNN # Neighbors:  34 \tR^2:  0.224575985283\n",
      "PCA Dimensions:  6 \tKNN # Neighbors:  36 \tR^2:  0.247450367419\n",
      "PCA Dimensions:  6 \tKNN # Neighbors:  38 \tR^2:  0.239729122348\n",
      "PCA Dimensions:  6 \tKNN # Neighbors:  40 \tR^2:  0.245356567755\n",
      "PCA Dimensions:  6 \tKNN # Neighbors:  42 \tR^2:  0.234033841461\n",
      "PCA Dimensions:  6 \tKNN # Neighbors:  44 \tR^2:  0.232728387536\n",
      "PCA Dimensions:  6 \tKNN # Neighbors:  46 \tR^2:  0.228068800158\n",
      "PCA Dimensions:  6 \tKNN # Neighbors:  48 \tR^2:  0.245864899907\n",
      "PCA Dimensions:  6 \tKNN # Neighbors:  50 \tR^2:  0.239795919348\n",
      "PCA Dimensions:  6 \tKNN # Neighbors:  52 \tR^2:  0.237273494239\n",
      "PCA Dimensions:  6 \tKNN # Neighbors:  54 \tR^2:  0.240429090903\n",
      "PCA Dimensions:  6 \tKNN # Neighbors:  56 \tR^2:  0.23162589977\n",
      "PCA Dimensions:  6 \tKNN # Neighbors:  58 \tR^2:  0.226191236881\n",
      "PCA Dimensions:  6 \tKNN # Neighbors:  60 \tR^2:  0.229539373809\n",
      "PCA Dimensions:  6 \tKNN # Neighbors:  62 \tR^2:  0.242700246197\n",
      "PCA Dimensions:  6 \tKNN # Neighbors:  64 \tR^2:  0.261469931089\n",
      "PCA Dimensions:  6 \tKNN # Neighbors:  66 \tR^2:  0.240036765359\n",
      "PCA Dimensions:  6 \tKNN # Neighbors:  68 \tR^2:  0.222890860796\n",
      "PCA Dimensions:  6 \tKNN # Neighbors:  70 \tR^2:  0.243493970401\n",
      "PCA Dimensions:  6 \tKNN # Neighbors:  72 \tR^2:  0.243939698207\n",
      "PCA Dimensions:  6 \tKNN # Neighbors:  74 \tR^2:  0.241236970213\n",
      "PCA Dimensions:  6 \tKNN # Neighbors:  76 \tR^2:  0.265157915801\n",
      "PCA Dimensions:  6 \tKNN # Neighbors:  78 \tR^2:  0.238501615055\n",
      "PCA Dimensions:  7 \tKNN # Neighbors:  20 \tR^2:  0.218020809552\n",
      "PCA Dimensions:  7 \tKNN # Neighbors:  22 \tR^2:  0.222921844185\n",
      "PCA Dimensions:  7 \tKNN # Neighbors:  24 \tR^2:  0.232209976679\n",
      "PCA Dimensions:  7 \tKNN # Neighbors:  26 \tR^2:  0.24908140994\n",
      "PCA Dimensions:  7 \tKNN # Neighbors:  28 \tR^2:  0.218656066464\n",
      "PCA Dimensions:  7 \tKNN # Neighbors:  30 \tR^2:  0.208687043923\n",
      "PCA Dimensions:  7 \tKNN # Neighbors:  32 \tR^2:  0.218206835323\n",
      "PCA Dimensions:  7 \tKNN # Neighbors:  34 \tR^2:  0.245808177457\n",
      "PCA Dimensions:  7 \tKNN # Neighbors:  36 \tR^2:  0.252813169541\n",
      "PCA Dimensions:  7 \tKNN # Neighbors:  38 \tR^2:  0.239933669465\n",
      "PCA Dimensions:  7 \tKNN # Neighbors:  40 \tR^2:  0.229336870515\n",
      "PCA Dimensions:  7 \tKNN # Neighbors:  42 \tR^2:  0.231788748884\n",
      "PCA Dimensions:  7 \tKNN # Neighbors:  44 \tR^2:  0.243228350354\n",
      "PCA Dimensions:  7 \tKNN # Neighbors:  46 \tR^2:  0.244407323836\n",
      "PCA Dimensions:  7 \tKNN # Neighbors:  48 \tR^2:  0.237298432952\n",
      "PCA Dimensions:  7 \tKNN # Neighbors:  50 \tR^2:  0.246202330052\n",
      "PCA Dimensions:  7 \tKNN # Neighbors:  52 \tR^2:  0.240340204958\n",
      "PCA Dimensions:  7 \tKNN # Neighbors:  54 \tR^2:  0.222952467364\n",
      "PCA Dimensions:  7 \tKNN # Neighbors:  56 \tR^2:  0.23612451226\n",
      "PCA Dimensions:  7 \tKNN # Neighbors:  58 \tR^2:  0.235612975545\n",
      "PCA Dimensions:  7 \tKNN # Neighbors:  60 \tR^2:  0.238525219164\n",
      "PCA Dimensions:  7 \tKNN # Neighbors:  62 \tR^2:  0.232200948928\n",
      "PCA Dimensions:  7 \tKNN # Neighbors:  64 \tR^2:  0.25414983849\n",
      "PCA Dimensions:  7 \tKNN # Neighbors:  66 \tR^2:  0.231836915813\n",
      "PCA Dimensions:  7 \tKNN # Neighbors:  68 \tR^2:  0.242457843798\n",
      "PCA Dimensions:  7 \tKNN # Neighbors:  70 \tR^2:  0.24078461346\n",
      "PCA Dimensions:  7 \tKNN # Neighbors:  72 \tR^2:  0.234812814595\n",
      "PCA Dimensions:  7 \tKNN # Neighbors:  74 \tR^2:  0.228346466595\n",
      "PCA Dimensions:  7 \tKNN # Neighbors:  76 \tR^2:  0.2392061859\n",
      "PCA Dimensions:  7 \tKNN # Neighbors:  78 \tR^2:  0.241754565463\n",
      "PCA Dimensions:  8 \tKNN # Neighbors:  20 \tR^2:  0.216987172225\n",
      "PCA Dimensions:  8 \tKNN # Neighbors:  22 \tR^2:  0.227226138179\n",
      "PCA Dimensions:  8 \tKNN # Neighbors:  24 \tR^2:  0.244858864265\n",
      "PCA Dimensions:  8 \tKNN # Neighbors:  26 \tR^2:  0.234837298058\n",
      "PCA Dimensions:  8 \tKNN # Neighbors:  28 \tR^2:  0.226214298793\n",
      "PCA Dimensions:  8 \tKNN # Neighbors:  30 \tR^2:  0.215755371813\n",
      "PCA Dimensions:  8 \tKNN # Neighbors:  32 \tR^2:  0.232280751643\n",
      "PCA Dimensions:  8 \tKNN # Neighbors:  34 \tR^2:  0.232306776987\n",
      "PCA Dimensions:  8 \tKNN # Neighbors:  36 \tR^2:  0.228995634406\n",
      "PCA Dimensions:  8 \tKNN # Neighbors:  38 \tR^2:  0.235319733181\n",
      "PCA Dimensions:  8 \tKNN # Neighbors:  40 \tR^2:  0.233977236255\n",
      "PCA Dimensions:  8 \tKNN # Neighbors:  42 \tR^2:  0.230705986485\n",
      "PCA Dimensions:  8 \tKNN # Neighbors:  44 \tR^2:  0.229022519365\n",
      "PCA Dimensions:  8 \tKNN # Neighbors:  46 \tR^2:  0.222919572557\n",
      "PCA Dimensions:  8 \tKNN # Neighbors:  48 \tR^2:  0.232148013729\n",
      "PCA Dimensions:  8 \tKNN # Neighbors:  50 \tR^2:  0.272654200695\n",
      "PCA Dimensions:  8 \tKNN # Neighbors:  52 \tR^2:  0.248539131096\n",
      "PCA Dimensions:  8 \tKNN # Neighbors:  54 \tR^2:  0.239539939826\n",
      "PCA Dimensions:  8 \tKNN # Neighbors:  56 \tR^2:  0.249280547912\n",
      "PCA Dimensions:  8 \tKNN # Neighbors:  58 \tR^2:  0.23684407422\n",
      "PCA Dimensions:  8 \tKNN # Neighbors:  60 \tR^2:  0.259979545996\n",
      "PCA Dimensions:  8 \tKNN # Neighbors:  62 \tR^2:  0.243300136576\n",
      "PCA Dimensions:  8 \tKNN # Neighbors:  64 \tR^2:  0.243930577644\n",
      "PCA Dimensions:  8 \tKNN # Neighbors:  66 \tR^2:  0.239317968714\n",
      "PCA Dimensions:  8 \tKNN # Neighbors:  68 \tR^2:  0.24430439773\n",
      "PCA Dimensions:  8 \tKNN # Neighbors:  70 \tR^2:  0.240554342257\n",
      "PCA Dimensions:  8 \tKNN # Neighbors:  72 \tR^2:  0.253983933252\n",
      "PCA Dimensions:  8 \tKNN # Neighbors:  74 \tR^2:  0.258299071296\n",
      "PCA Dimensions:  8 \tKNN # Neighbors:  76 \tR^2:  0.232019851204\n",
      "PCA Dimensions:  8 \tKNN # Neighbors:  78 \tR^2:  0.244292146897\n",
      "PCA Dimensions:  9 \tKNN # Neighbors:  20 \tR^2:  0.22528581138\n",
      "PCA Dimensions:  9 \tKNN # Neighbors:  22 \tR^2:  0.222148352778\n",
      "PCA Dimensions:  9 \tKNN # Neighbors:  24 \tR^2:  0.218113249272\n",
      "PCA Dimensions:  9 \tKNN # Neighbors:  26 \tR^2:  0.219180227726\n",
      "PCA Dimensions:  9 \tKNN # Neighbors:  28 \tR^2:  0.238431402635\n",
      "PCA Dimensions:  9 \tKNN # Neighbors:  30 \tR^2:  0.230507806927\n",
      "PCA Dimensions:  9 \tKNN # Neighbors:  32 \tR^2:  0.215868308953\n",
      "PCA Dimensions:  9 \tKNN # Neighbors:  34 \tR^2:  0.222781835904\n",
      "PCA Dimensions:  9 \tKNN # Neighbors:  36 \tR^2:  0.244384646792\n",
      "PCA Dimensions:  9 \tKNN # Neighbors:  38 \tR^2:  0.219735353901\n",
      "PCA Dimensions:  9 \tKNN # Neighbors:  40 \tR^2:  0.234235427757\n",
      "PCA Dimensions:  9 \tKNN # Neighbors:  42 \tR^2:  0.249300056902\n",
      "PCA Dimensions:  9 \tKNN # Neighbors:  44 \tR^2:  0.229439877824\n",
      "PCA Dimensions:  9 \tKNN # Neighbors:  46 \tR^2:  0.249629854297\n",
      "PCA Dimensions:  9 \tKNN # Neighbors:  48 \tR^2:  0.229608452734\n",
      "PCA Dimensions:  9 \tKNN # Neighbors:  50 \tR^2:  0.222397521691\n",
      "PCA Dimensions:  9 \tKNN # Neighbors:  52 \tR^2:  0.241561867334\n",
      "PCA Dimensions:  9 \tKNN # Neighbors:  54 \tR^2:  0.233766569503\n",
      "PCA Dimensions:  9 \tKNN # Neighbors:  56 \tR^2:  0.23190619967\n",
      "PCA Dimensions:  9 \tKNN # Neighbors:  58 \tR^2:  0.238398034856\n",
      "PCA Dimensions:  9 \tKNN # Neighbors:  60 \tR^2:  0.23902851907\n",
      "PCA Dimensions:  9 \tKNN # Neighbors:  62 \tR^2:  0.226450241378\n",
      "PCA Dimensions:  9 \tKNN # Neighbors:  64 \tR^2:  0.229930352743\n",
      "PCA Dimensions:  9 \tKNN # Neighbors:  66 \tR^2:  0.239107724933\n",
      "PCA Dimensions:  9 \tKNN # Neighbors:  68 \tR^2:  0.24393987475\n",
      "PCA Dimensions:  9 \tKNN # Neighbors:  70 \tR^2:  0.239656856361\n",
      "PCA Dimensions:  9 \tKNN # Neighbors:  72 \tR^2:  0.253164900888\n",
      "PCA Dimensions:  9 \tKNN # Neighbors:  74 \tR^2:  0.237420646423\n",
      "PCA Dimensions:  9 \tKNN # Neighbors:  76 \tR^2:  0.256233024763\n",
      "PCA Dimensions:  9 \tKNN # Neighbors:  78 \tR^2:  0.231247462439\n",
      "PCA Dimensions:  10 \tKNN # Neighbors:  20 \tR^2:  0.219365748204\n",
      "PCA Dimensions:  10 \tKNN # Neighbors:  22 \tR^2:  0.228922072903\n",
      "PCA Dimensions:  10 \tKNN # Neighbors:  24 \tR^2:  0.217594827272\n",
      "PCA Dimensions:  10 \tKNN # Neighbors:  26 \tR^2:  0.228194830626\n",
      "PCA Dimensions:  10 \tKNN # Neighbors:  28 \tR^2:  0.265265321688\n",
      "PCA Dimensions:  10 \tKNN # Neighbors:  30 \tR^2:  0.220535814469\n",
      "PCA Dimensions:  10 \tKNN # Neighbors:  32 \tR^2:  0.220637360115\n",
      "PCA Dimensions:  10 \tKNN # Neighbors:  34 \tR^2:  0.236127070846\n",
      "PCA Dimensions:  10 \tKNN # Neighbors:  36 \tR^2:  0.216776706973\n",
      "PCA Dimensions:  10 \tKNN # Neighbors:  38 \tR^2:  0.229043176358\n",
      "PCA Dimensions:  10 \tKNN # Neighbors:  40 \tR^2:  0.251502905947\n",
      "PCA Dimensions:  10 \tKNN # Neighbors:  42 \tR^2:  0.216303000749\n",
      "PCA Dimensions:  10 \tKNN # Neighbors:  44 \tR^2:  0.22125474744\n",
      "PCA Dimensions:  10 \tKNN # Neighbors:  46 \tR^2:  0.243965521306\n",
      "PCA Dimensions:  10 \tKNN # Neighbors:  48 \tR^2:  0.240752347155\n",
      "PCA Dimensions:  10 \tKNN # Neighbors:  50 \tR^2:  0.233948090785\n",
      "PCA Dimensions:  10 \tKNN # Neighbors:  52 \tR^2:  0.255042143087\n",
      "PCA Dimensions:  10 \tKNN # Neighbors:  54 \tR^2:  0.239084683409\n",
      "PCA Dimensions:  10 \tKNN # Neighbors:  56 \tR^2:  0.234800246631\n",
      "PCA Dimensions:  10 \tKNN # Neighbors:  58 \tR^2:  0.249118084688\n",
      "PCA Dimensions:  10 \tKNN # Neighbors:  60 \tR^2:  0.238644575184\n",
      "PCA Dimensions:  10 \tKNN # Neighbors:  62 \tR^2:  0.235427652101\n",
      "PCA Dimensions:  10 \tKNN # Neighbors:  64 \tR^2:  0.276472682867\n",
      "PCA Dimensions:  10 \tKNN # Neighbors:  66 \tR^2:  0.233233157954\n",
      "PCA Dimensions:  10 \tKNN # Neighbors:  68 \tR^2:  0.239576078023\n",
      "PCA Dimensions:  10 \tKNN # Neighbors:  70 \tR^2:  0.267196216642\n",
      "PCA Dimensions:  10 \tKNN # Neighbors:  72 \tR^2:  0.257252375401\n",
      "PCA Dimensions:  10 \tKNN # Neighbors:  74 \tR^2:  0.248839741056\n",
      "PCA Dimensions:  10 \tKNN # Neighbors:  76 \tR^2:  0.242992979471\n",
      "PCA Dimensions:  10 \tKNN # Neighbors:  78 \tR^2:  0.237868327754\n",
      "PCA Dimensions:  11 \tKNN # Neighbors:  20 \tR^2:  0.227723570765\n",
      "PCA Dimensions:  11 \tKNN # Neighbors:  22 \tR^2:  0.231048713292\n",
      "PCA Dimensions:  11 \tKNN # Neighbors:  24 \tR^2:  0.240369995992\n",
      "PCA Dimensions:  11 \tKNN # Neighbors:  26 \tR^2:  0.224020977839\n",
      "PCA Dimensions:  11 \tKNN # Neighbors:  28 \tR^2:  0.247092116428\n",
      "PCA Dimensions:  11 \tKNN # Neighbors:  30 \tR^2:  0.223982126989\n",
      "PCA Dimensions:  11 \tKNN # Neighbors:  32 \tR^2:  0.22441565229\n",
      "PCA Dimensions:  11 \tKNN # Neighbors:  34 \tR^2:  0.246040239086\n",
      "PCA Dimensions:  11 \tKNN # Neighbors:  36 \tR^2:  0.222375867113\n",
      "PCA Dimensions:  11 \tKNN # Neighbors:  38 \tR^2:  0.228820961606\n",
      "PCA Dimensions:  11 \tKNN # Neighbors:  40 \tR^2:  0.245942147046\n",
      "PCA Dimensions:  11 \tKNN # Neighbors:  42 \tR^2:  0.237905419443\n",
      "PCA Dimensions:  11 \tKNN # Neighbors:  44 \tR^2:  0.245724702339\n",
      "PCA Dimensions:  11 \tKNN # Neighbors:  46 \tR^2:  0.227115344129\n",
      "PCA Dimensions:  11 \tKNN # Neighbors:  48 \tR^2:  0.24454592991\n",
      "PCA Dimensions:  11 \tKNN # Neighbors:  50 \tR^2:  0.242980748824\n",
      "PCA Dimensions:  11 \tKNN # Neighbors:  52 \tR^2:  0.223784781185\n",
      "PCA Dimensions:  11 \tKNN # Neighbors:  54 \tR^2:  0.243803370411\n",
      "PCA Dimensions:  11 \tKNN # Neighbors:  56 \tR^2:  0.240106157138\n",
      "PCA Dimensions:  11 \tKNN # Neighbors:  58 \tR^2:  0.227683120522\n",
      "PCA Dimensions:  11 \tKNN # Neighbors:  60 \tR^2:  0.24224670808\n",
      "PCA Dimensions:  11 \tKNN # Neighbors:  62 \tR^2:  0.235142791346\n",
      "PCA Dimensions:  11 \tKNN # Neighbors:  64 \tR^2:  0.248697849372\n",
      "PCA Dimensions:  11 \tKNN # Neighbors:  66 \tR^2:  0.249046588948\n",
      "PCA Dimensions:  11 \tKNN # Neighbors:  68 \tR^2:  0.230464109604\n",
      "PCA Dimensions:  11 \tKNN # Neighbors:  70 \tR^2:  0.226518757837\n",
      "PCA Dimensions:  11 \tKNN # Neighbors:  72 \tR^2:  0.249752374939\n",
      "PCA Dimensions:  11 \tKNN # Neighbors:  74 \tR^2:  0.232256162738\n",
      "PCA Dimensions:  11 \tKNN # Neighbors:  76 \tR^2:  0.239882184801\n",
      "PCA Dimensions:  11 \tKNN # Neighbors:  78 \tR^2:  0.262195224535\n",
      "PCA Dimensions:  12 \tKNN # Neighbors:  20 \tR^2:  0.248319810947\n",
      "PCA Dimensions:  12 \tKNN # Neighbors:  22 \tR^2:  0.211461107524\n",
      "PCA Dimensions:  12 \tKNN # Neighbors:  24 \tR^2:  0.222714558582\n",
      "PCA Dimensions:  12 \tKNN # Neighbors:  26 \tR^2:  0.24216923058\n",
      "PCA Dimensions:  12 \tKNN # Neighbors:  28 \tR^2:  0.227795733982\n",
      "PCA Dimensions:  12 \tKNN # Neighbors:  30 \tR^2:  0.243010453057\n",
      "PCA Dimensions:  12 \tKNN # Neighbors:  32 \tR^2:  0.222501063139\n",
      "PCA Dimensions:  12 \tKNN # Neighbors:  34 \tR^2:  0.23239525714\n",
      "PCA Dimensions:  12 \tKNN # Neighbors:  36 \tR^2:  0.239020736337\n",
      "PCA Dimensions:  12 \tKNN # Neighbors:  38 \tR^2:  0.236147531358\n",
      "PCA Dimensions:  12 \tKNN # Neighbors:  40 \tR^2:  0.24892175792\n",
      "PCA Dimensions:  12 \tKNN # Neighbors:  42 \tR^2:  0.234153837988\n",
      "PCA Dimensions:  12 \tKNN # Neighbors:  44 \tR^2:  0.245945040066\n",
      "PCA Dimensions:  12 \tKNN # Neighbors:  46 \tR^2:  0.228085447033\n",
      "PCA Dimensions:  12 \tKNN # Neighbors:  48 \tR^2:  0.222723664676\n",
      "PCA Dimensions:  12 \tKNN # Neighbors:  50 \tR^2:  0.226797360421\n",
      "PCA Dimensions:  12 \tKNN # Neighbors:  52 \tR^2:  0.22981985201\n",
      "PCA Dimensions:  12 \tKNN # Neighbors:  54 \tR^2:  0.26123302823\n",
      "PCA Dimensions:  12 \tKNN # Neighbors:  56 \tR^2:  0.260918423129\n",
      "PCA Dimensions:  12 \tKNN # Neighbors:  58 \tR^2:  0.244988885366\n",
      "PCA Dimensions:  12 \tKNN # Neighbors:  60 \tR^2:  0.25385618577\n",
      "PCA Dimensions:  12 \tKNN # Neighbors:  62 \tR^2:  0.233081166889\n",
      "PCA Dimensions:  12 \tKNN # Neighbors:  64 \tR^2:  0.237216828587\n",
      "PCA Dimensions:  12 \tKNN # Neighbors:  66 \tR^2:  0.256242151215\n",
      "PCA Dimensions:  12 \tKNN # Neighbors:  68 \tR^2:  0.229512912872\n",
      "PCA Dimensions:  12 \tKNN # Neighbors:  70 \tR^2:  0.239363291221\n",
      "PCA Dimensions:  12 \tKNN # Neighbors:  72 \tR^2:  0.2354557182\n",
      "PCA Dimensions:  12 \tKNN # Neighbors:  74 \tR^2:  0.241396926574\n",
      "PCA Dimensions:  12 \tKNN # Neighbors:  76 \tR^2:  0.250417319526\n",
      "PCA Dimensions:  12 \tKNN # Neighbors:  78 \tR^2:  0.232149230688\n",
      "PCA Dimensions:  13 \tKNN # Neighbors:  20 \tR^2:  0.210304577557\n",
      "PCA Dimensions:  13 \tKNN # Neighbors:  22 \tR^2:  0.227079918341\n",
      "PCA Dimensions:  13 \tKNN # Neighbors:  24 \tR^2:  0.215900276065\n",
      "PCA Dimensions:  13 \tKNN # Neighbors:  26 \tR^2:  0.2205580955\n",
      "PCA Dimensions:  13 \tKNN # Neighbors:  28 \tR^2:  0.218865749434\n",
      "PCA Dimensions:  13 \tKNN # Neighbors:  30 \tR^2:  0.231188594909\n",
      "PCA Dimensions:  13 \tKNN # Neighbors:  32 \tR^2:  0.234789091536\n",
      "PCA Dimensions:  13 \tKNN # Neighbors:  34 \tR^2:  0.218201413007\n",
      "PCA Dimensions:  13 \tKNN # Neighbors:  36 \tR^2:  0.239820104624\n",
      "PCA Dimensions:  13 \tKNN # Neighbors:  38 \tR^2:  0.223307294947\n",
      "PCA Dimensions:  13 \tKNN # Neighbors:  40 \tR^2:  0.224713331267\n",
      "PCA Dimensions:  13 \tKNN # Neighbors:  42 \tR^2:  0.228793288119\n",
      "PCA Dimensions:  13 \tKNN # Neighbors:  44 \tR^2:  0.256126192937\n",
      "PCA Dimensions:  13 \tKNN # Neighbors:  46 \tR^2:  0.266865760313\n",
      "PCA Dimensions:  13 \tKNN # Neighbors:  48 \tR^2:  0.254300374429\n",
      "PCA Dimensions:  13 \tKNN # Neighbors:  50 \tR^2:  0.22318831715\n",
      "PCA Dimensions:  13 \tKNN # Neighbors:  52 \tR^2:  0.239563472525\n",
      "PCA Dimensions:  13 \tKNN # Neighbors:  54 \tR^2:  0.240022635297\n",
      "PCA Dimensions:  13 \tKNN # Neighbors:  56 \tR^2:  0.237866876002\n",
      "PCA Dimensions:  13 \tKNN # Neighbors:  58 \tR^2:  0.242352875161\n",
      "PCA Dimensions:  13 \tKNN # Neighbors:  60 \tR^2:  0.23670398504\n",
      "PCA Dimensions:  13 \tKNN # Neighbors:  62 \tR^2:  0.255257130544\n",
      "PCA Dimensions:  13 \tKNN # Neighbors:  64 \tR^2:  0.232425368119\n",
      "PCA Dimensions:  13 \tKNN # Neighbors:  66 \tR^2:  0.249765786589\n",
      "PCA Dimensions:  13 \tKNN # Neighbors:  68 \tR^2:  0.241368604846\n",
      "PCA Dimensions:  13 \tKNN # Neighbors:  70 \tR^2:  0.237122600603\n",
      "PCA Dimensions:  13 \tKNN # Neighbors:  72 \tR^2:  0.237040918725\n",
      "PCA Dimensions:  13 \tKNN # Neighbors:  74 \tR^2:  0.23912693219\n",
      "PCA Dimensions:  13 \tKNN # Neighbors:  76 \tR^2:  0.247367611937\n",
      "PCA Dimensions:  13 \tKNN # Neighbors:  78 \tR^2:  0.239975843318\n",
      "PCA Dimensions:  14 \tKNN # Neighbors:  20 \tR^2:  0.208860524305\n",
      "PCA Dimensions:  14 \tKNN # Neighbors:  22 \tR^2:  0.214086808013\n",
      "PCA Dimensions:  14 \tKNN # Neighbors:  24 \tR^2:  0.217510081353\n",
      "PCA Dimensions:  14 \tKNN # Neighbors:  26 \tR^2:  0.210968322475\n",
      "PCA Dimensions:  14 \tKNN # Neighbors:  28 \tR^2:  0.237642879179\n",
      "PCA Dimensions:  14 \tKNN # Neighbors:  30 \tR^2:  0.242109837452\n",
      "PCA Dimensions:  14 \tKNN # Neighbors:  32 \tR^2:  0.234108786908\n",
      "PCA Dimensions:  14 \tKNN # Neighbors:  34 \tR^2:  0.222351554834\n",
      "PCA Dimensions:  14 \tKNN # Neighbors:  36 \tR^2:  0.236096477461\n",
      "PCA Dimensions:  14 \tKNN # Neighbors:  38 \tR^2:  0.247156024649\n",
      "PCA Dimensions:  14 \tKNN # Neighbors:  40 \tR^2:  0.257574779398\n",
      "PCA Dimensions:  14 \tKNN # Neighbors:  42 \tR^2:  0.241452137403\n",
      "PCA Dimensions:  14 \tKNN # Neighbors:  44 \tR^2:  0.230684357984\n",
      "PCA Dimensions:  14 \tKNN # Neighbors:  46 \tR^2:  0.233226398544\n",
      "PCA Dimensions:  14 \tKNN # Neighbors:  48 \tR^2:  0.224667222545\n",
      "PCA Dimensions:  14 \tKNN # Neighbors:  50 \tR^2:  0.228458826017\n",
      "PCA Dimensions:  14 \tKNN # Neighbors:  52 \tR^2:  0.23510330634\n",
      "PCA Dimensions:  14 \tKNN # Neighbors:  54 \tR^2:  0.241122656327\n",
      "PCA Dimensions:  14 \tKNN # Neighbors:  56 \tR^2:  0.241469133709\n",
      "PCA Dimensions:  14 \tKNN # Neighbors:  58 \tR^2:  0.233718076799\n",
      "PCA Dimensions:  14 \tKNN # Neighbors:  60 \tR^2:  0.244686838357\n",
      "PCA Dimensions:  14 \tKNN # Neighbors:  62 \tR^2:  0.230131436\n",
      "PCA Dimensions:  14 \tKNN # Neighbors:  64 \tR^2:  0.24747538679\n",
      "PCA Dimensions:  14 \tKNN # Neighbors:  66 \tR^2:  0.252126673881\n",
      "PCA Dimensions:  14 \tKNN # Neighbors:  68 \tR^2:  0.238890161073\n",
      "PCA Dimensions:  14 \tKNN # Neighbors:  70 \tR^2:  0.252027102286\n",
      "PCA Dimensions:  14 \tKNN # Neighbors:  72 \tR^2:  0.264286590965\n",
      "PCA Dimensions:  14 \tKNN # Neighbors:  74 \tR^2:  0.245970190304\n",
      "PCA Dimensions:  14 \tKNN # Neighbors:  76 \tR^2:  0.244356591014\n",
      "PCA Dimensions:  14 \tKNN # Neighbors:  78 \tR^2:  0.261739657104\n",
      "BEST HYPERPARAMETERS FOR KNN WITH WITH PCA:\n",
      "PCA Dimensions:  10\n",
      "KNN # Neighbors:  64\n",
      "Resulting R^2: 0.276472682867\n"
     ]
    }
   ],
   "source": [
    "pca_dims = range(5,15)\n",
    "knn_neighbors = range(20,80,2)\n",
    "\n",
    "best_r2 = 0\n",
    "best_pca_dim = 0\n",
    "best_knn_k = 0\n",
    "for pca_dim in pca_dims:\n",
    "    for knn_neighbor in knn_neighbors:\n",
    "        current_r2 = k_fold_knn_with_pca(pca_dim, knn_neighbor, 4, x_train, y_train)\n",
    "        print \"PCA Dimensions: \", pca_dim, \"\\tKNN # Neighbors: \", knn_neighbor, \"\\tR^2: \", current_r2\n",
    "        if current_r2 > best_r2:\n",
    "            best_r2 = current_r2\n",
    "            best_pca_dim = pca_dim\n",
    "            best_knn_k = knn_neighbor\n",
    "            \n",
    "print \"BEST HYPERPARAMETERS FOR KNN WITH WITH PCA:\"\n",
    "print \"PCA Dimensions: \", best_pca_dim\n",
    "print \"KNN # Neighbors: \", best_knn_k\n",
    "print \"Resulting R^2:\", best_r2\n",
    "            "
   ]
  },
  {
   "cell_type": "markdown",
   "metadata": {},
   "source": [
    "The number of PCA components/number of neighbors that resulted in the highest cross-validated R-squared was 6 PCA dimensions and 52 neighbors, so these appears to be the optimal values."
   ]
  },
  {
   "cell_type": "markdown",
   "metadata": {},
   "source": [
    "#### Final KNN model for reduced number of predictors and PCA"
   ]
  },
  {
   "cell_type": "code",
   "execution_count": 58,
   "metadata": {
    "collapsed": false
   },
   "outputs": [
    {
     "data": {
      "text/plain": [
       "0.23823575327221724"
      ]
     },
     "execution_count": 58,
     "metadata": {},
     "output_type": "execute_result"
    }
   ],
   "source": [
    "pca = PCA(n_components=6)\n",
    "pca.fit(x_train)\n",
    "x_train_reduced = pca.transform(x_train)\n",
    "x_test_reduced = pca.transform(x_test)\n",
    "\n",
    "\n",
    "final_knn_model = KNN(n_neighbors = 52)\n",
    "final_knn_model.fit(x_train_reduced, y_train.values)\n",
    "\n",
    "final_knn_model.score(x_test_reduced, y_test.values)"
   ]
  },
  {
   "cell_type": "code",
   "execution_count": null,
   "metadata": {
    "collapsed": true
   },
   "outputs": [],
   "source": []
  }
 ],
 "metadata": {
  "kernelspec": {
   "display_name": "Python [default]",
   "language": "python",
   "name": "python2"
  },
  "language_info": {
   "codemirror_mode": {
    "name": "ipython",
    "version": 2
   },
   "file_extension": ".py",
   "mimetype": "text/x-python",
   "name": "python",
   "nbconvert_exporter": "python",
   "pygments_lexer": "ipython2",
   "version": "2.7.12"
  }
 },
 "nbformat": 4,
 "nbformat_minor": 0
}
