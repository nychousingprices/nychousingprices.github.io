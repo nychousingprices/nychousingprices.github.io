{
 "cells": [
  {
   "cell_type": "code",
   "execution_count": 64,
   "metadata": {
    "collapsed": false
   },
   "outputs": [
    {
     "data": {
      "text/html": [
       "<script>\n",
       "code_show=true;\n",
       "function code_toggle() {\n",
       " if (code_show){\n",
       " $('div.input').hide();\n",
       " } else {\n",
       " $('div.input').show();\n",
       " }\n",
       " code_show = !code_show\n",
       "}\n",
       "$( document ).ready(code_toggle);\n",
       "</script>\n",
       "<form action=\"javascript:code_toggle()\"><input type=\"submit\" value=\"Click here to toggle on/off the raw code.\"></form>"
      ],
      "text/plain": [
       "<IPython.core.display.HTML object>"
      ]
     },
     "execution_count": 64,
     "metadata": {},
     "output_type": "execute_result"
    }
   ],
   "source": [
    "from IPython.display import HTML\n",
    "\n",
    "HTML('''<script>\n",
    "code_show=true;\n",
    "function code_toggle() {\n",
    " if (code_show){\n",
    " $('div.input').hide();\n",
    " } else {\n",
    " $('div.input').show();\n",
    " }\n",
    " code_show = !code_show\n",
    "}\n",
    "$( document ).ready(code_toggle);\n",
    "</script>\n",
    "<form action=\"javascript:code_toggle()\"><input type=\"submit\" value=\"Click here to toggle on/off the raw code.\"></form>''')"
   ]
  },
  {
   "cell_type": "code",
   "execution_count": 10,
   "metadata": {
    "collapsed": true
   },
   "outputs": [],
   "source": [
    "import numpy as np\n",
    "import pandas as pd\n",
    "import matplotlib.pyplot as plt\n",
    "%matplotlib inline\n",
    "import os\n",
    "from scipy.stats import ttest_ind\n",
    "from sklearn.preprocessing import Imputer\n",
    "import json"
   ]
  },
  {
   "cell_type": "markdown",
   "metadata": {},
   "source": [
    "## Importing and cleaning data"
   ]
  },
  {
   "cell_type": "code",
   "execution_count": 11,
   "metadata": {
    "collapsed": false
   },
   "outputs": [],
   "source": [
    "data = pd.read_csv(\"data_with_new_features.csv\")"
   ]
  },
  {
   "cell_type": "markdown",
   "metadata": {},
   "source": [
    "#### Head of data:"
   ]
  },
  {
   "cell_type": "code",
   "execution_count": 12,
   "metadata": {
    "collapsed": false,
    "scrolled": true
   },
   "outputs": [
    {
     "data": {
      "text/html": [
       "<div>\n",
       "<table border=\"1\" class=\"dataframe\">\n",
       "  <thead>\n",
       "    <tr style=\"text-align: right;\">\n",
       "      <th></th>\n",
       "      <th>tax_value</th>\n",
       "      <th>last_sold_price</th>\n",
       "      <th>property_size</th>\n",
       "      <th>zestimate_amount</th>\n",
       "      <th>bathrooms</th>\n",
       "      <th>zestimate_valuation_range_high</th>\n",
       "      <th>tax_year</th>\n",
       "      <th>zestimate_value_change</th>\n",
       "      <th>latitude</th>\n",
       "      <th>zestimate_percentile</th>\n",
       "      <th>...</th>\n",
       "      <th>TOTAL NON-SEVEN MAJOR FELONY OFFENSES_last_3_years</th>\n",
       "      <th>TOTAL NON-SEVEN MAJOR FELONY OFFENSES_percent_change</th>\n",
       "      <th>TOTAL SEVEN MAJOR FELONY OFFENSES_last_3_years</th>\n",
       "      <th>TOTAL SEVEN MAJOR FELONY OFFENSES_percent_change</th>\n",
       "      <th>UNAUTHORIZED USE OF A VEHICLE_last_3_years</th>\n",
       "      <th>UNAUTHORIZED USE OF A VEHICLE_percent_change</th>\n",
       "      <th>VEHICLE AND TRAFFIC LAWS_last_3_years</th>\n",
       "      <th>VEHICLE AND TRAFFIC LAWS_percent_change</th>\n",
       "      <th>dist_to_subway</th>\n",
       "      <th>neighborhood_turnover</th>\n",
       "    </tr>\n",
       "  </thead>\n",
       "  <tbody>\n",
       "    <tr>\n",
       "      <th>0</th>\n",
       "      <td>NaN</td>\n",
       "      <td>NaN</td>\n",
       "      <td>NaN</td>\n",
       "      <td>849427.0</td>\n",
       "      <td>1.0</td>\n",
       "      <td>1044795.0</td>\n",
       "      <td>NaN</td>\n",
       "      <td>NaN</td>\n",
       "      <td>40.724448</td>\n",
       "      <td>0.0</td>\n",
       "      <td>...</td>\n",
       "      <td>678.666667</td>\n",
       "      <td>0.342633</td>\n",
       "      <td>1364.0</td>\n",
       "      <td>1.539942</td>\n",
       "      <td>5.333333</td>\n",
       "      <td>15.789474</td>\n",
       "      <td>39.333333</td>\n",
       "      <td>-8.256881</td>\n",
       "      <td>0.008777</td>\n",
       "      <td>4.4256</td>\n",
       "    </tr>\n",
       "    <tr>\n",
       "      <th>1</th>\n",
       "      <td>1674000.0</td>\n",
       "      <td>NaN</td>\n",
       "      <td>2250.0</td>\n",
       "      <td>7332356.0</td>\n",
       "      <td>1.0</td>\n",
       "      <td>7992268.0</td>\n",
       "      <td>2015.0</td>\n",
       "      <td>NaN</td>\n",
       "      <td>40.724385</td>\n",
       "      <td>0.0</td>\n",
       "      <td>...</td>\n",
       "      <td>678.666667</td>\n",
       "      <td>0.342633</td>\n",
       "      <td>1364.0</td>\n",
       "      <td>1.539942</td>\n",
       "      <td>5.333333</td>\n",
       "      <td>15.789474</td>\n",
       "      <td>39.333333</td>\n",
       "      <td>-8.256881</td>\n",
       "      <td>0.009004</td>\n",
       "      <td>4.4256</td>\n",
       "    </tr>\n",
       "    <tr>\n",
       "      <th>2</th>\n",
       "      <td>NaN</td>\n",
       "      <td>NaN</td>\n",
       "      <td>NaN</td>\n",
       "      <td>1991289.0</td>\n",
       "      <td>1.0</td>\n",
       "      <td>2708153.0</td>\n",
       "      <td>NaN</td>\n",
       "      <td>NaN</td>\n",
       "      <td>40.724332</td>\n",
       "      <td>0.0</td>\n",
       "      <td>...</td>\n",
       "      <td>678.666667</td>\n",
       "      <td>0.342633</td>\n",
       "      <td>1364.0</td>\n",
       "      <td>1.539942</td>\n",
       "      <td>5.333333</td>\n",
       "      <td>15.789474</td>\n",
       "      <td>39.333333</td>\n",
       "      <td>-8.256881</td>\n",
       "      <td>0.009170</td>\n",
       "      <td>4.4256</td>\n",
       "    </tr>\n",
       "    <tr>\n",
       "      <th>3</th>\n",
       "      <td>2837000.0</td>\n",
       "      <td>NaN</td>\n",
       "      <td>650.0</td>\n",
       "      <td>1225236.0</td>\n",
       "      <td>1.0</td>\n",
       "      <td>1298750.0</td>\n",
       "      <td>2015.0</td>\n",
       "      <td>NaN</td>\n",
       "      <td>40.724225</td>\n",
       "      <td>0.0</td>\n",
       "      <td>...</td>\n",
       "      <td>678.666667</td>\n",
       "      <td>0.342633</td>\n",
       "      <td>1364.0</td>\n",
       "      <td>1.539942</td>\n",
       "      <td>5.333333</td>\n",
       "      <td>15.789474</td>\n",
       "      <td>39.333333</td>\n",
       "      <td>-8.256881</td>\n",
       "      <td>0.009564</td>\n",
       "      <td>4.4256</td>\n",
       "    </tr>\n",
       "    <tr>\n",
       "      <th>4</th>\n",
       "      <td>6701000.0</td>\n",
       "      <td>3200000.0</td>\n",
       "      <td>2250.0</td>\n",
       "      <td>12785150.0</td>\n",
       "      <td>NaN</td>\n",
       "      <td>13807962.0</td>\n",
       "      <td>2015.0</td>\n",
       "      <td>NaN</td>\n",
       "      <td>40.724125</td>\n",
       "      <td>0.0</td>\n",
       "      <td>...</td>\n",
       "      <td>678.666667</td>\n",
       "      <td>0.342633</td>\n",
       "      <td>1364.0</td>\n",
       "      <td>1.539942</td>\n",
       "      <td>5.333333</td>\n",
       "      <td>15.789474</td>\n",
       "      <td>39.333333</td>\n",
       "      <td>-8.256881</td>\n",
       "      <td>0.009889</td>\n",
       "      <td>4.4256</td>\n",
       "    </tr>\n",
       "  </tbody>\n",
       "</table>\n",
       "<p>5 rows × 102 columns</p>\n",
       "</div>"
      ],
      "text/plain": [
       "   tax_value  last_sold_price  property_size  zestimate_amount  bathrooms  \\\n",
       "0        NaN              NaN            NaN          849427.0        1.0   \n",
       "1  1674000.0              NaN         2250.0         7332356.0        1.0   \n",
       "2        NaN              NaN            NaN         1991289.0        1.0   \n",
       "3  2837000.0              NaN          650.0         1225236.0        1.0   \n",
       "4  6701000.0        3200000.0         2250.0        12785150.0        NaN   \n",
       "\n",
       "   zestimate_valuation_range_high  tax_year  zestimate_value_change  \\\n",
       "0                       1044795.0       NaN                     NaN   \n",
       "1                       7992268.0    2015.0                     NaN   \n",
       "2                       2708153.0       NaN                     NaN   \n",
       "3                       1298750.0    2015.0                     NaN   \n",
       "4                      13807962.0    2015.0                     NaN   \n",
       "\n",
       "    latitude  zestimate_percentile          ...           \\\n",
       "0  40.724448                   0.0          ...            \n",
       "1  40.724385                   0.0          ...            \n",
       "2  40.724332                   0.0          ...            \n",
       "3  40.724225                   0.0          ...            \n",
       "4  40.724125                   0.0          ...            \n",
       "\n",
       "   TOTAL NON-SEVEN MAJOR FELONY OFFENSES_last_3_years  \\\n",
       "0                                         678.666667    \n",
       "1                                         678.666667    \n",
       "2                                         678.666667    \n",
       "3                                         678.666667    \n",
       "4                                         678.666667    \n",
       "\n",
       "  TOTAL NON-SEVEN MAJOR FELONY OFFENSES_percent_change  \\\n",
       "0                                           0.342633     \n",
       "1                                           0.342633     \n",
       "2                                           0.342633     \n",
       "3                                           0.342633     \n",
       "4                                           0.342633     \n",
       "\n",
       "   TOTAL SEVEN MAJOR FELONY OFFENSES_last_3_years  \\\n",
       "0                                          1364.0   \n",
       "1                                          1364.0   \n",
       "2                                          1364.0   \n",
       "3                                          1364.0   \n",
       "4                                          1364.0   \n",
       "\n",
       "  TOTAL SEVEN MAJOR FELONY OFFENSES_percent_change  \\\n",
       "0                                         1.539942   \n",
       "1                                         1.539942   \n",
       "2                                         1.539942   \n",
       "3                                         1.539942   \n",
       "4                                         1.539942   \n",
       "\n",
       "   UNAUTHORIZED USE OF A VEHICLE_last_3_years  \\\n",
       "0                                    5.333333   \n",
       "1                                    5.333333   \n",
       "2                                    5.333333   \n",
       "3                                    5.333333   \n",
       "4                                    5.333333   \n",
       "\n",
       "   UNAUTHORIZED USE OF A VEHICLE_percent_change  \\\n",
       "0                                     15.789474   \n",
       "1                                     15.789474   \n",
       "2                                     15.789474   \n",
       "3                                     15.789474   \n",
       "4                                     15.789474   \n",
       "\n",
       "  VEHICLE AND TRAFFIC LAWS_last_3_years  \\\n",
       "0                             39.333333   \n",
       "1                             39.333333   \n",
       "2                             39.333333   \n",
       "3                             39.333333   \n",
       "4                             39.333333   \n",
       "\n",
       "   VEHICLE AND TRAFFIC LAWS_percent_change  dist_to_subway  \\\n",
       "0                                -8.256881        0.008777   \n",
       "1                                -8.256881        0.009004   \n",
       "2                                -8.256881        0.009170   \n",
       "3                                -8.256881        0.009564   \n",
       "4                                -8.256881        0.009889   \n",
       "\n",
       "  neighborhood_turnover  \n",
       "0                4.4256  \n",
       "1                4.4256  \n",
       "2                4.4256  \n",
       "3                4.4256  \n",
       "4                4.4256  \n",
       "\n",
       "[5 rows x 102 columns]"
      ]
     },
     "execution_count": 12,
     "metadata": {},
     "output_type": "execute_result"
    }
   ],
   "source": [
    "data.head()"
   ]
  },
  {
   "cell_type": "markdown",
   "metadata": {},
   "source": [
    "#### Data cleaning"
   ]
  },
  {
   "cell_type": "markdown",
   "metadata": {},
   "source": [
    "To clean the data, we first got rid of all rows with NAs for our y-value, \"zestimate_amount\".  We then eliminated all columns that were meaningless (links, Zillow ID, etc.) and all columns that were too similar to \"zestimate_amount\" and contained information that would realistically not be available to users making predictions with our model (\"zesimate_value_change\", \"zestimate_percentile\", etc.).  \n",
    "\n",
    "We then replaced all of our categorical variables with dummy variables and imputed missing values with the median using sklearn's \"Imputer\" function.  We then randomly split our data into train and test sets, leaving out 3000 rows to be our test set that we would use only to test our models after choosing parameters through cross-validation, and leaving the remaining 17257 rows as our training set.  We then exported the full cleaned data set, along with the train and test sets, to CSVs."
   ]
  },
  {
   "cell_type": "code",
   "execution_count": 13,
   "metadata": {
    "collapsed": false
   },
   "outputs": [],
   "source": [
    "# get rid of rows that have missing values for our y value (zestimate_amount)\n",
    "data = data[np.isfinite(data['zestimate_amount'])]"
   ]
  },
  {
   "cell_type": "code",
   "execution_count": 16,
   "metadata": {
    "collapsed": false
   },
   "outputs": [],
   "source": [
    "# create a set of all neighborhoods we have data for\n",
    "data = pd.read_csv(\"mn_crimes_and_schools.csv\")\n",
    "our_mn_regions = set(data[\"neighborhood\"].unique())\n",
    "\n",
    "# create a set of neighborhood our zillow shapefile contains\n",
    "with open('manhattan.geojson') as f:\n",
    "    data2 = json.load(f)\n",
    "\n",
    "zillow_mn_regions = set()\n",
    "for feature in data2['features']:\n",
    "    zillow_mn_regions.add(feature['properties']['NAME'])\n",
    "    \n",
    "NEIGHBORHOODS_TO_DROP = our_mn_regions.difference(zillow_mn_regions)\n",
    "# this is a set -- if you want a list just do list(NEIGHBORHOODS_TO_DROP)"
   ]
  },
  {
   "cell_type": "code",
   "execution_count": 17,
   "metadata": {
    "collapsed": false,
    "scrolled": true
   },
   "outputs": [],
   "source": [
    "# all neighborhoods\n",
    "neighborhoods = list(data['neighborhood'].unique())\n",
    "\n",
    "for neigh in list(NEIGHBORHOODS_TO_DROP):\n",
    "    if neigh in neighborhoods:\n",
    "        neighborhoods.remove(neigh)"
   ]
  },
  {
   "cell_type": "code",
   "execution_count": 18,
   "metadata": {
    "collapsed": false
   },
   "outputs": [],
   "source": [
    "data = data[data['neighborhood'].isin(neighborhoods)]"
   ]
  },
  {
   "cell_type": "code",
   "execution_count": 19,
   "metadata": {
    "collapsed": true
   },
   "outputs": [],
   "source": [
    "def clean_data (data, impute=True):\n",
    "    \n",
    "    # get rid of all zestimate values (besides our y), links, and Unnamed:22 (this is all NAs)\n",
    "    data = data.drop(['zestimate_valuation_range_high', 'zestimate_value_change', 'zestimate_percentile', 'zestimate_last_updated',\n",
    "                   'zestimate_valuationRange_low', 'graph_data_link', 'home_detail_link', 'map_this_home_link', 'Unnamed: 22',\n",
    "                    'zillow_id', 'last_sold_date', 'last_sold_price'], 1)\n",
    "    \n",
    "    # get rid of school district and precinct, as we already have the information on the crime and schools in the area\n",
    "    data = data.drop(['schooldistrict', 'precinct'], 1)\n",
    "\n",
    "    # get rid of neighborhoods not in manhattan\n",
    "    \n",
    "    \n",
    "    # replace all categorical variables with dummy variables\n",
    "    dummies = pd.get_dummies(data[['home_type', 'neighborhood']])\n",
    "    data = pd.concat([data, dummies], axis=1)\n",
    "    data = data.drop(['home_type', 'neighborhood'], 1)\n",
    "    \n",
    "    data = data.replace(np.inf, 0)\n",
    "    data = data.replace(-np.inf, 0)\n",
    "    \n",
    "    if impute:\n",
    "        print \"Columns with Missing Values:\"\n",
    "        for column in data.columns:\n",
    "            percent_missing = len(data[data[column] != data[column]])/float(len(data))\n",
    "            if percent_missing > 0:\n",
    "                print column, \"\\t\\t\\t\",percent_missing\n",
    "\n",
    "    column_names = data.columns.values\n",
    "    \n",
    "    if impute:\n",
    "        imputer_data = Imputer(strategy = \"median\")\n",
    "        imputer_data.fit(data)\n",
    "        data = imputer_data.transform(data)\n",
    "    \n",
    "    data = pd.DataFrame(data, columns = column_names)\n",
    "    \n",
    "    return data"
   ]
  },
  {
   "cell_type": "code",
   "execution_count": 20,
   "metadata": {
    "collapsed": false,
    "scrolled": true
   },
   "outputs": [
    {
     "name": "stdout",
     "output_type": "stream",
     "text": [
      "Columns with Missing Values:\n",
      "tax_value \t\t\t0.489263735777\n",
      "property_size \t\t\t0.486120334706\n",
      "zestimate_amount \t\t\t0.122459822022\n",
      "bathrooms \t\t\t0.341036879621\n",
      "tax_year \t\t\t0.489263735777\n",
      "bedrooms \t\t\t0.325895426573\n",
      "year_built \t\t\t0.354274582725\n",
      "home_size \t\t\t0.259352725019\n"
     ]
    }
   ],
   "source": [
    "cleaned_data_imputed = clean_data (data)"
   ]
  },
  {
   "cell_type": "code",
   "execution_count": 21,
   "metadata": {
    "collapsed": true
   },
   "outputs": [],
   "source": [
    "cleaned_data_imputed.to_csv(\"cleaned_data_imputed.csv\", index = False)"
   ]
  },
  {
   "cell_type": "code",
   "execution_count": 22,
   "metadata": {
    "collapsed": false,
    "scrolled": true
   },
   "outputs": [],
   "source": [
    "cleaned_data_not_imputed = clean_data (data, impute=False)"
   ]
  },
  {
   "cell_type": "code",
   "execution_count": 23,
   "metadata": {
    "collapsed": true
   },
   "outputs": [],
   "source": [
    "cleaned_data_not_imputed.to_csv(\"cleaned_data_not_imputed.csv\", index = False)"
   ]
  },
  {
   "cell_type": "code",
   "execution_count": 24,
   "metadata": {
    "collapsed": true
   },
   "outputs": [],
   "source": [
    "test_imputed = cleaned_data_imputed.sample(n=3000)\n",
    "train_imputed = cleaned_data_imputed.drop(test_imputed.index)"
   ]
  },
  {
   "cell_type": "code",
   "execution_count": 25,
   "metadata": {
    "collapsed": true
   },
   "outputs": [],
   "source": [
    "test_imputed.to_csv(\"test_imputed.csv\", index = False)\n",
    "train_imputed.to_csv(\"train_imputed.csv\", index = False)"
   ]
  },
  {
   "cell_type": "code",
   "execution_count": 26,
   "metadata": {
    "collapsed": true
   },
   "outputs": [],
   "source": [
    "test_not_imputed = cleaned_data_not_imputed.sample(n=3000)\n",
    "train_not_imputed = cleaned_data_not_imputed.drop(test_not_imputed.index)"
   ]
  },
  {
   "cell_type": "code",
   "execution_count": 27,
   "metadata": {
    "collapsed": true
   },
   "outputs": [],
   "source": [
    "test_not_imputed.to_csv(\"test_not_imputed.csv\", index = False)\n",
    "train_not_imputed.to_csv(\"train_not_imputed.csv\", index = False)"
   ]
  },
  {
   "cell_type": "markdown",
   "metadata": {},
   "source": [
    "## Reducing the number of predictors for regression models"
   ]
  },
  {
   "cell_type": "markdown",
   "metadata": {},
   "source": [
    "Our data at this point contained 145 predictors, and we knew that many of these predictors were likely not correlated (or at least not linearly correlated) with our y-variable (\"zestimate_amount\").  For this reason, we looked at the correlations between each predictor and our y-variable in order to create a new data set (to use for our regression models) that contained only a subset of predictors that were at least somewhat correlated with our y.  For our random forest model, we will use the full data set, as the model should take care of uncorrelated predictors on its own (as it can simply choose not to use them).  It is also possible that some of our predictors are not linearly related to our y-variable, in which case they could still be useful in a random forest model even if the calculated correlations appear low.\n",
    "\n",
    "To find out whether each predictor was correlated with our y, we calculated Pearson correlation coefficient's for all non-indicator variables (using numpy's \"corrcoef\") and used t-tests for all indicator variables."
   ]
  },
  {
   "cell_type": "code",
   "execution_count": 28,
   "metadata": {
    "collapsed": true
   },
   "outputs": [],
   "source": [
    "data = cleaned_data_imputed"
   ]
  },
  {
   "cell_type": "markdown",
   "metadata": {},
   "source": [
    "#### Correlations (or p-values) between each predictor and \"zestimate_amount\":"
   ]
  },
  {
   "cell_type": "code",
   "execution_count": 29,
   "metadata": {
    "collapsed": false,
    "scrolled": false
   },
   "outputs": [
    {
     "name": "stdout",
     "output_type": "stream",
     "text": [
      "Correlation between tax_value and zestimate_amount: 0.275922365838\n",
      "Correlation between property_size and zestimate_amount: -0.00130478514363\n",
      "Correlation between zestimate_amount and zestimate_amount: 1.0\n",
      "Correlation between bathrooms and zestimate_amount: 0.248216711228\n",
      "Correlation between tax_year and zestimate_amount: -0.109236551278\n",
      "Correlation between latitude and zestimate_amount: -0.107805600632\n",
      "Correlation between bedrooms and zestimate_amount: 0.20240600622\n",
      "Correlation between year_built and zestimate_amount: -0.00934457471947\n",
      "Correlation between home_size and zestimate_amount: 0.00691060095445\n",
      "Correlation between longitude and zestimate_amount: -0.0891039280922\n",
      "Correlation between schools_Number Tested and zestimate_amount: 0.169883348109\n",
      "Correlation between schools_Mean ELA Score and zestimate_amount: 0.173567036904\n",
      "Correlation between schools_Mean Math Score and zestimate_amount: 0.17712510829\n",
      "Correlation between schools_mean score and zestimate_amount: 0.175337949304\n",
      "Correlation between ADMINISTRATIVE CODE_last_3_years and zestimate_amount: -0.120697769455\n",
      "Correlation between ADMINISTRATIVE CODE_percent_change and zestimate_amount: 0.0784950117711\n",
      "Correlation between AGGRAVATED HARASSMENT 2_last_3_years and zestimate_amount: -0.00421056701706\n",
      "Correlation between AGGRAVATED HARASSMENT 2_percent_change and zestimate_amount: 0.0484650857685\n",
      "Correlation between ARSON_last_3_years and zestimate_amount: -0.0551314927758\n",
      "Correlation between ARSON_percent_change and zestimate_amount: -0.0275580933849\n",
      "Correlation between ASSAULT 3 AND RELATED OFFENSES_last_3_years and zestimate_amount: -0.141641857459\n",
      "Correlation between ASSAULT 3 AND RELATED OFFENSES_percent_change and zestimate_amount: -0.000966793848334\n",
      "Correlation between BURGLARY_last_3_years and zestimate_amount: 0.130370925498\n",
      "Correlation between BURGLARY_percent_change and zestimate_amount: -0.0329540833713\n",
      "Correlation between CRIMINAL TRESPASS_last_3_years and zestimate_amount: -0.146136221307\n",
      "Correlation between CRIMINAL TRESPASS_percent_change and zestimate_amount: 0.0275351937939\n",
      "Correlation between FEL. CRIMINAL MISCHIEF & RELATED OFFENSES_last_3_years and zestimate_amount: 0.0381544190706\n",
      "Correlation between FEL. CRIMINAL MISCHIEF & RELATED OFFENSES_percent_change and zestimate_amount: 0.0487020075608\n",
      "Correlation between FELONY ASSAULT_last_3_years and zestimate_amount: -0.145132464875\n",
      "Correlation between FELONY ASSAULT_percent_change and zestimate_amount: 0.0330468821791\n",
      "Correlation between FELONY DANGEROUS DRUGS_last_3_years and zestimate_amount: -0.153994736359\n",
      "Correlation between FELONY DANGEROUS DRUGS_percent_change and zestimate_amount: 0.0864808891255\n",
      "Correlation between FELONY DANGEROUS WEAPONS_last_3_years and zestimate_amount: -0.155133998544\n",
      "Correlation between FELONY DANGEROUS WEAPONS_percent_change and zestimate_amount: -0.0191655180282\n",
      "Correlation between FELONY POSSESSION STOLEN PROPERTY_last_3_years and zestimate_amount: 0.030347959379\n",
      "Correlation between FELONY POSSESSION STOLEN PROPERTY_percent_change and zestimate_amount: 0.0358242571607\n",
      "Correlation between FELONY SEX CRIMES_last_3_years and zestimate_amount: -0.0246232885179\n",
      "Correlation between FELONY SEX CRIMES_percent_change and zestimate_amount: 0.00640122074523\n",
      "Correlation between FORGERY_THEFT-FRAUD_IDENTITY THEFT_last_3_years and zestimate_amount: 0.143794524753\n",
      "Correlation between FORGERY_THEFT-FRAUD_IDENTITY THEFT_percent_change and zestimate_amount: -0.0234084068519\n",
      "Correlation between FRAUDS_last_3_years and zestimate_amount: 0.0651418997356\n",
      "Correlation between FRAUDS_percent_change and zestimate_amount: 0.102045273548\n",
      "Correlation between GRAND LARCENY OF MOTOR VEHICLE_last_3_years and zestimate_amount: 0.120364049972\n",
      "Correlation between GRAND LARCENY OF MOTOR VEHICLE_percent_change and zestimate_amount: 0.0370863068364\n",
      "Correlation between GRAND LARCENY_last_3_years and zestimate_amount: 0.169320596215\n",
      "Correlation between GRAND LARCENY_percent_change and zestimate_amount: 0.0735011845162\n",
      "Correlation between INTOXICATED & IMPAIRED DRIVING_last_3_years and zestimate_amount: 0.131857369636\n",
      "Correlation between INTOXICATED & IMPAIRED DRIVING_percent_change and zestimate_amount: -0.0946004033344\n",
      "Correlation between MISD. CRIMINAL MISCHIEF & RELATED OFFENSES_last_3_years and zestimate_amount: -0.115687282813\n",
      "Correlation between MISD. CRIMINAL MISCHIEF & RELATED OFFENSES_percent_change and zestimate_amount: 0.113786185595\n",
      "Correlation between MISDEMEANOR DANGEROUS DRUGS_last_3_years and zestimate_amount: -0.162940458015\n",
      "Correlation between MISDEMEANOR DANGEROUS DRUGS_percent_change and zestimate_amount: 0.0468873199332\n",
      "Correlation between MISDEMEANOR DANGEROUS WEAPONS_last_3_years and zestimate_amount: -0.134512901049\n",
      "Correlation between MISDEMEANOR DANGEROUS WEAPONS_percent_change and zestimate_amount: -0.0392031485342\n",
      "Correlation between MISDEMEANOR POSSESSION OF STOLEN PROPERTY_last_3_years and zestimate_amount: 0.0369999906288\n",
      "Correlation between MISDEMEANOR POSSESSION OF STOLEN PROPERTY_percent_change and zestimate_amount: 0.0787950742639\n",
      "Correlation between MISDEMEANOR SEX CRIMES_last_3_years and zestimate_amount: 0.0420279456753\n",
      "Correlation between MISDEMEANOR SEX CRIMES_percent_change and zestimate_amount: 0.0926601464061\n",
      "Correlation between MURDER & NON NEGL. MANSLAUGHTER_last_3_years and zestimate_amount: -0.153705044193\n",
      "Correlation between MURDER & NON NEGL. MANSLAUGHTER_percent_change and zestimate_amount: 0.042163251161\n",
      "Correlation between OFFENSES AGAINST PUBLIC ADMINISTRATION_last_3_years and zestimate_amount: -0.147762795813\n",
      "Correlation between OFFENSES AGAINST PUBLIC ADMINISTRATION_percent_change and zestimate_amount: 0.0634462446457\n",
      "Correlation between OFFENSES AGAINST THE PERSON_last_3_years and zestimate_amount: -0.12105637205\n",
      "Correlation between OFFENSES AGAINST THE PERSON_percent_change and zestimate_amount: 0.000164208140883\n",
      "Correlation between OTHER FELONIES_last_3_years and zestimate_amount: -0.156743893893\n",
      "Correlation between OTHER FELONIES_percent_change and zestimate_amount: 0.0598072297631\n",
      "Correlation between OTHER MISDEMEANORS_last_3_years and zestimate_amount: -0.0702574882131\n",
      "Correlation between OTHER MISDEMEANORS_percent_change and zestimate_amount: 0.085538451856\n",
      "Correlation between PETIT LARCENY_last_3_years and zestimate_amount: 0.112124853309\n",
      "Correlation between PETIT LARCENY_percent_change and zestimate_amount: 0.093164037594\n",
      "Correlation between RAPE_last_3_years and zestimate_amount: -0.153058721636\n",
      "Correlation between RAPE_percent_change and zestimate_amount: 0.127442676427\n",
      "Correlation between ROBBERY_last_3_years and zestimate_amount: -0.153816376375\n",
      "Correlation between ROBBERY_percent_change and zestimate_amount: 0.0861550626368\n",
      "Correlation between TOTAL MISDEMEANOR OFFENSES_last_3_years and zestimate_amount: -0.0685060669155\n",
      "Correlation between TOTAL MISDEMEANOR OFFENSES_percent_change and zestimate_amount: 0.027017228103\n",
      "Correlation between TOTAL NON-SEVEN MAJOR FELONY OFFENSES_last_3_years and zestimate_amount: -0.115853319382\n",
      "Correlation between TOTAL NON-SEVEN MAJOR FELONY OFFENSES_percent_change and zestimate_amount: -0.0846242200062\n",
      "Correlation between TOTAL SEVEN MAJOR FELONY OFFENSES_last_3_years and zestimate_amount: 0.142900021935\n",
      "Correlation between TOTAL SEVEN MAJOR FELONY OFFENSES_percent_change and zestimate_amount: -0.0467330000785\n",
      "Correlation between UNAUTHORIZED USE OF A VEHICLE_last_3_years and zestimate_amount: -0.0882062203805\n",
      "Correlation between UNAUTHORIZED USE OF A VEHICLE_percent_change and zestimate_amount: 0.00996475097261\n",
      "Correlation between VEHICLE AND TRAFFIC LAWS_last_3_years and zestimate_amount: 0.0480279638402\n",
      "Correlation between VEHICLE AND TRAFFIC LAWS_percent_change and zestimate_amount: -0.0554020914426\n",
      "P-value for relationship between home_type_Apartment and zestimate_amount: 1.67657457184e-21\n",
      "P-value for relationship between home_type_Condominium and zestimate_amount: 5.15041536251e-08\n",
      "P-value for relationship between home_type_Cooperative and zestimate_amount: 9.35363434006e-24\n",
      "P-value for relationship between home_type_Duplex and zestimate_amount: 0.000543390368453\n",
      "P-value for relationship between home_type_Miscellaneous and zestimate_amount: 0.00296416428716\n",
      "P-value for relationship between home_type_Mobile and zestimate_amount: 0.82008846903\n",
      "P-value for relationship between home_type_MultiFamily2To4 and zestimate_amount: 8.5087411591e-235\n",
      "P-value for relationship between home_type_MultiFamily5Plus and zestimate_amount: 0.0531597345406\n",
      "P-value for relationship between home_type_Quadruplex and zestimate_amount: 0.00186037782904\n",
      "P-value for relationship between home_type_SingleFamily and zestimate_amount: 1.11766955181e-167\n",
      "P-value for relationship between home_type_Townhouse and zestimate_amount: 1.15357816979e-79\n",
      "P-value for relationship between home_type_Triplex and zestimate_amount: 0.555364394135\n",
      "P-value for relationship between home_type_Unknown and zestimate_amount: 1.14500497597e-13\n",
      "P-value for relationship between home_type_VacantResidentialLand and zestimate_amount: 0.618277237207\n",
      "P-value for relationship between neighborhood_Battery Park and zestimate_amount: 0.00927832072304\n",
      "P-value for relationship between neighborhood_Carnegie Hill and zestimate_amount: 3.23365350643e-25\n",
      "P-value for relationship between neighborhood_Central Park and zestimate_amount: 0.522459999648\n",
      "P-value for relationship between neighborhood_Chelsea and zestimate_amount: 0.0253479747724\n",
      "P-value for relationship between neighborhood_Chinatown and zestimate_amount: 0.0310849878231\n",
      "P-value for relationship between neighborhood_Clinton and zestimate_amount: 7.71477801095e-05\n",
      "P-value for relationship between neighborhood_East Harlem and zestimate_amount: 4.33674736914e-09\n",
      "P-value for relationship between neighborhood_East Village and zestimate_amount: 3.89419056354e-11\n",
      "P-value for relationship between neighborhood_Financial District and zestimate_amount: 0.152965923911\n",
      "P-value for relationship between neighborhood_Garment District and zestimate_amount: 0.524806805157\n",
      "P-value for relationship between neighborhood_Gramercy and zestimate_amount: 0.282738808397\n",
      "P-value for relationship between neighborhood_Greenwich Village and zestimate_amount: 2.38914097279e-08\n",
      "P-value for relationship between neighborhood_Hamilton Heights and zestimate_amount: 7.49743494599e-19\n",
      "P-value for relationship between neighborhood_Harlem and zestimate_amount: 1.50585200049e-44\n",
      "P-value for relationship between neighborhood_Inwood and zestimate_amount: 3.50222618259e-06\n",
      "P-value for relationship between neighborhood_Little Italy and zestimate_amount: 0.120688800405\n",
      "P-value for relationship between neighborhood_Lower East Side and zestimate_amount: 1.3010092953e-08\n",
      "P-value for relationship between neighborhood_Midtown and zestimate_amount: 0.714125052526\n",
      "P-value for relationship between neighborhood_Morningside Heights and zestimate_amount: 0.000292869687999\n",
      "P-value for relationship between neighborhood_Murray Hill and zestimate_amount: 0.697578259871\n",
      "P-value for relationship between neighborhood_North Sutton Area and zestimate_amount: 8.37886689819e-06\n",
      "P-value for relationship between neighborhood_Soho and zestimate_amount: 7.68363649402e-05\n",
      "P-value for relationship between neighborhood_Tribeca and zestimate_amount: 4.69049064122e-25\n",
      "P-value for relationship between neighborhood_Upper East Side and zestimate_amount: 1.80024842319e-122\n",
      "P-value for relationship between neighborhood_Upper West Side and zestimate_amount: 9.95680039977e-06\n",
      "P-value for relationship between neighborhood_Washington Heights and zestimate_amount: 3.048379559e-18\n",
      "P-value for relationship between neighborhood_West Village and zestimate_amount: 4.44133440141e-13\n",
      "P-value for relationship between neighborhood_Yorkville and zestimate_amount: 0.000951215550882\n"
     ]
    }
   ],
   "source": [
    "for column in data.columns.values:\n",
    "    if len(data[column].unique()) == 2:\n",
    "        new_data = data[np.isfinite(data[column])]\n",
    "        data0 = new_data[new_data[column]==0]['zestimate_amount']\n",
    "        data1 = new_data[new_data[column]==1]['zestimate_amount']\n",
    "        pval = ttest_ind(data0, data1)[1]\n",
    "        print \"P-value for relationship between \" + column + \" and zestimate_amount: \" + str(pval)\n",
    "    else:\n",
    "        new_data = data[np.isfinite(data[column])]\n",
    "        corr = np.corrcoef(new_data[column], new_data['zestimate_amount'])[0,1]\n",
    "        print \"Correlation between \" + column + \" and zestimate_amount: \" + str(corr)"
   ]
  },
  {
   "cell_type": "markdown",
   "metadata": {},
   "source": [
    "#### Getting rid of predictors"
   ]
  },
  {
   "cell_type": "markdown",
   "metadata": {},
   "source": [
    "As most of the correlations were quite low, we decided to keep all predictors with a correlation with \"zestimate_amount\" of 0.1 or higher, or, for indicator variables, a p-value of 0.05 or lower.  "
   ]
  },
  {
   "cell_type": "code",
   "execution_count": 30,
   "metadata": {
    "collapsed": true
   },
   "outputs": [],
   "source": [
    "correlated_predictors = []\n",
    "\n",
    "for column in data.columns.values:\n",
    "    if len(data[column].unique()) == 2:\n",
    "        new_data = data[np.isfinite(data[column])]\n",
    "        data0 = new_data[new_data[column]==0]['zestimate_amount']\n",
    "        data1 = new_data[new_data[column]==1]['zestimate_amount']\n",
    "        pval = ttest_ind(data0, data1)[1]\n",
    "        if pval < 0.05:\n",
    "            correlated_predictors += [column]\n",
    "    else:\n",
    "        new_data = data[np.isfinite(data[column])]\n",
    "        corr = np.corrcoef(new_data[column], new_data['zestimate_amount'])[0,1]\n",
    "        if np.abs(corr) > 0.1:\n",
    "            correlated_predictors += [column]"
   ]
  },
  {
   "cell_type": "markdown",
   "metadata": {},
   "source": [
    "#### All correlated predictors:"
   ]
  },
  {
   "cell_type": "code",
   "execution_count": 31,
   "metadata": {
    "collapsed": false,
    "scrolled": true
   },
   "outputs": [
    {
     "data": {
      "text/plain": [
       "['tax_value',\n",
       " 'zestimate_amount',\n",
       " 'bathrooms',\n",
       " 'tax_year',\n",
       " 'latitude',\n",
       " 'bedrooms',\n",
       " 'schools_Number Tested',\n",
       " 'schools_Mean ELA Score',\n",
       " 'schools_Mean Math Score',\n",
       " 'schools_mean score',\n",
       " 'ADMINISTRATIVE CODE_last_3_years',\n",
       " 'ASSAULT 3 AND RELATED OFFENSES_last_3_years',\n",
       " 'BURGLARY_last_3_years',\n",
       " 'CRIMINAL TRESPASS_last_3_years',\n",
       " 'FELONY ASSAULT_last_3_years',\n",
       " 'FELONY DANGEROUS DRUGS_last_3_years',\n",
       " 'FELONY DANGEROUS WEAPONS_last_3_years',\n",
       " 'FORGERY_THEFT-FRAUD_IDENTITY THEFT_last_3_years',\n",
       " 'FRAUDS_percent_change',\n",
       " 'GRAND LARCENY OF MOTOR VEHICLE_last_3_years',\n",
       " 'GRAND LARCENY_last_3_years',\n",
       " 'INTOXICATED & IMPAIRED DRIVING_last_3_years',\n",
       " 'MISD. CRIMINAL MISCHIEF & RELATED OFFENSES_last_3_years',\n",
       " 'MISD. CRIMINAL MISCHIEF & RELATED OFFENSES_percent_change',\n",
       " 'MISDEMEANOR DANGEROUS DRUGS_last_3_years',\n",
       " 'MISDEMEANOR DANGEROUS WEAPONS_last_3_years',\n",
       " 'MURDER & NON NEGL. MANSLAUGHTER_last_3_years',\n",
       " 'OFFENSES AGAINST PUBLIC ADMINISTRATION_last_3_years',\n",
       " 'OFFENSES AGAINST THE PERSON_last_3_years',\n",
       " 'OTHER FELONIES_last_3_years',\n",
       " 'PETIT LARCENY_last_3_years',\n",
       " 'RAPE_last_3_years',\n",
       " 'RAPE_percent_change',\n",
       " 'ROBBERY_last_3_years',\n",
       " 'TOTAL NON-SEVEN MAJOR FELONY OFFENSES_last_3_years',\n",
       " 'TOTAL SEVEN MAJOR FELONY OFFENSES_last_3_years',\n",
       " 'home_type_Apartment',\n",
       " 'home_type_Condominium',\n",
       " 'home_type_Cooperative',\n",
       " 'home_type_Duplex',\n",
       " 'home_type_Miscellaneous',\n",
       " 'home_type_MultiFamily2To4',\n",
       " 'home_type_Quadruplex',\n",
       " 'home_type_SingleFamily',\n",
       " 'home_type_Townhouse',\n",
       " 'home_type_Unknown',\n",
       " 'neighborhood_Battery Park',\n",
       " 'neighborhood_Carnegie Hill',\n",
       " 'neighborhood_Chelsea',\n",
       " 'neighborhood_Chinatown',\n",
       " 'neighborhood_Clinton',\n",
       " 'neighborhood_East Harlem',\n",
       " 'neighborhood_East Village',\n",
       " 'neighborhood_Greenwich Village',\n",
       " 'neighborhood_Hamilton Heights',\n",
       " 'neighborhood_Harlem',\n",
       " 'neighborhood_Inwood',\n",
       " 'neighborhood_Lower East Side',\n",
       " 'neighborhood_Morningside Heights',\n",
       " 'neighborhood_North Sutton Area',\n",
       " 'neighborhood_Soho',\n",
       " 'neighborhood_Tribeca',\n",
       " 'neighborhood_Upper East Side',\n",
       " 'neighborhood_Upper West Side',\n",
       " 'neighborhood_Washington Heights',\n",
       " 'neighborhood_West Village',\n",
       " 'neighborhood_Yorkville']"
      ]
     },
     "execution_count": 31,
     "metadata": {},
     "output_type": "execute_result"
    }
   ],
   "source": [
    "correlated_predictors"
   ]
  },
  {
   "cell_type": "code",
   "execution_count": 32,
   "metadata": {
    "collapsed": true
   },
   "outputs": [],
   "source": [
    "data_only_correlated_predictors = data[correlated_predictors]"
   ]
  },
  {
   "cell_type": "markdown",
   "metadata": {},
   "source": [
    "Many of our predictors are either crime statistics for the precinct in which the home is located (crime rates and percent changes for a variety of different crimes) or statistics on the school district in which the home is located (different test scores).  We expected that many of these predictors would be very highly correlated with each other, and therefore decided to look at the correlations between each individual pair of predictors."
   ]
  },
  {
   "cell_type": "markdown",
   "metadata": {},
   "source": [
    "#### All pairs of predictors with correlations of 0.8 or higher:"
   ]
  },
  {
   "cell_type": "code",
   "execution_count": 33,
   "metadata": {
    "collapsed": false
   },
   "outputs": [
    {
     "name": "stdout",
     "output_type": "stream",
     "text": [
      "0.8257\tschools_Number Tested, schools_Mean Math Score\n",
      "0.8061\tschools_Number Tested, schools_mean score\n",
      "0.9942\tschools_Mean ELA Score, schools_Mean Math Score\n",
      "0.9982\tschools_Mean ELA Score, schools_mean score\n",
      "0.9987\tschools_Mean Math Score, schools_mean score\n",
      "0.929\tASSAULT 3 AND RELATED OFFENSES_last_3_years, FELONY ASSAULT_last_3_years\n",
      "0.8651\tASSAULT 3 AND RELATED OFFENSES_last_3_years, FELONY DANGEROUS WEAPONS_last_3_years\n",
      "0.8269\tASSAULT 3 AND RELATED OFFENSES_last_3_years, MURDER & NON NEGL. MANSLAUGHTER_last_3_years\n",
      "0.8802\tASSAULT 3 AND RELATED OFFENSES_last_3_years, OFFENSES AGAINST PUBLIC ADMINISTRATION_last_3_years\n",
      "0.8608\tASSAULT 3 AND RELATED OFFENSES_last_3_years, OTHER FELONIES_last_3_years\n",
      "0.8759\tASSAULT 3 AND RELATED OFFENSES_last_3_years, RAPE_last_3_years\n",
      "0.9103\tASSAULT 3 AND RELATED OFFENSES_last_3_years, ROBBERY_last_3_years\n",
      "0.8203\tASSAULT 3 AND RELATED OFFENSES_last_3_years, TOTAL NON-SEVEN MAJOR FELONY OFFENSES_last_3_years\n",
      "0.8638\tBURGLARY_last_3_years, FORGERY_THEFT-FRAUD_IDENTITY THEFT_last_3_years\n",
      "0.8519\tBURGLARY_last_3_years, GRAND LARCENY_last_3_years\n",
      "0.9263\tBURGLARY_last_3_years, TOTAL SEVEN MAJOR FELONY OFFENSES_last_3_years\n",
      "0.9061\tFELONY ASSAULT_last_3_years, FELONY DANGEROUS WEAPONS_last_3_years\n",
      "0.8466\tFELONY ASSAULT_last_3_years, MISDEMEANOR DANGEROUS DRUGS_last_3_years\n",
      "0.8613\tFELONY ASSAULT_last_3_years, MURDER & NON NEGL. MANSLAUGHTER_last_3_years\n",
      "0.8939\tFELONY ASSAULT_last_3_years, OFFENSES AGAINST PUBLIC ADMINISTRATION_last_3_years\n",
      "0.9019\tFELONY ASSAULT_last_3_years, OTHER FELONIES_last_3_years\n",
      "0.8548\tFELONY ASSAULT_last_3_years, RAPE_last_3_years\n",
      "0.949\tFELONY ASSAULT_last_3_years, ROBBERY_last_3_years\n",
      "0.8877\tFELONY ASSAULT_last_3_years, TOTAL NON-SEVEN MAJOR FELONY OFFENSES_last_3_years\n",
      "0.8165\tFELONY DANGEROUS DRUGS_last_3_years, FELONY DANGEROUS WEAPONS_last_3_years\n",
      "0.9313\tFELONY DANGEROUS DRUGS_last_3_years, MISDEMEANOR DANGEROUS DRUGS_last_3_years\n",
      "0.8994\tFELONY DANGEROUS DRUGS_last_3_years, TOTAL NON-SEVEN MAJOR FELONY OFFENSES_last_3_years\n",
      "0.8698\tFELONY DANGEROUS WEAPONS_last_3_years, MISDEMEANOR DANGEROUS DRUGS_last_3_years\n",
      "0.8042\tFELONY DANGEROUS WEAPONS_last_3_years, MISDEMEANOR DANGEROUS WEAPONS_last_3_years\n",
      "0.8841\tFELONY DANGEROUS WEAPONS_last_3_years, MURDER & NON NEGL. MANSLAUGHTER_last_3_years\n",
      "0.8489\tFELONY DANGEROUS WEAPONS_last_3_years, OFFENSES AGAINST PUBLIC ADMINISTRATION_last_3_years\n",
      "0.8378\tFELONY DANGEROUS WEAPONS_last_3_years, OTHER FELONIES_last_3_years\n",
      "0.8594\tFELONY DANGEROUS WEAPONS_last_3_years, RAPE_last_3_years\n",
      "0.8989\tFELONY DANGEROUS WEAPONS_last_3_years, ROBBERY_last_3_years\n",
      "0.8279\tFELONY DANGEROUS WEAPONS_last_3_years, TOTAL NON-SEVEN MAJOR FELONY OFFENSES_last_3_years\n",
      "0.8299\tFORGERY_THEFT-FRAUD_IDENTITY THEFT_last_3_years, TOTAL SEVEN MAJOR FELONY OFFENSES_last_3_years\n",
      "0.8532\tGRAND LARCENY_last_3_years, PETIT LARCENY_last_3_years\n",
      "0.9606\tGRAND LARCENY_last_3_years, TOTAL SEVEN MAJOR FELONY OFFENSES_last_3_years\n",
      "0.8178\tMISDEMEANOR DANGEROUS DRUGS_last_3_years, ROBBERY_last_3_years\n",
      "0.8695\tMISDEMEANOR DANGEROUS DRUGS_last_3_years, TOTAL NON-SEVEN MAJOR FELONY OFFENSES_last_3_years\n",
      "0.882\tMURDER & NON NEGL. MANSLAUGHTER_last_3_years, OFFENSES AGAINST PUBLIC ADMINISTRATION_last_3_years\n",
      "0.9237\tMURDER & NON NEGL. MANSLAUGHTER_last_3_years, OTHER FELONIES_last_3_years\n",
      "0.8168\tMURDER & NON NEGL. MANSLAUGHTER_last_3_years, RAPE_last_3_years\n",
      "0.8447\tMURDER & NON NEGL. MANSLAUGHTER_last_3_years, ROBBERY_last_3_years\n",
      "0.8816\tOFFENSES AGAINST PUBLIC ADMINISTRATION_last_3_years, OTHER FELONIES_last_3_years\n",
      "0.852\tOFFENSES AGAINST PUBLIC ADMINISTRATION_last_3_years, ROBBERY_last_3_years\n",
      "0.8151\tOTHER FELONIES_last_3_years, RAPE_last_3_years\n",
      "0.8624\tOTHER FELONIES_last_3_years, ROBBERY_last_3_years\n",
      "0.8434\tPETIT LARCENY_last_3_years, TOTAL SEVEN MAJOR FELONY OFFENSES_last_3_years\n",
      "0.8467\tRAPE_last_3_years, ROBBERY_last_3_years\n",
      "0.8388\tROBBERY_last_3_years, TOTAL NON-SEVEN MAJOR FELONY OFFENSES_last_3_years\n"
     ]
    }
   ],
   "source": [
    "for i in range(len(correlated_predictors)):\n",
    "    if i+1 < len(correlated_predictors) and i != 1:\n",
    "        for j in range(i, len(correlated_predictors)):\n",
    "            if i != j and j !=1:\n",
    "                column1 = correlated_predictors[i]\n",
    "                column2 = correlated_predictors[j]\n",
    "                new_data = data[np.isfinite(data[column1])]\n",
    "                new_data = new_data[np.isfinite(new_data[column2])]\n",
    "\n",
    "                corr = np.corrcoef(new_data[column1], new_data[column2])\n",
    "                if corr[0,1] > .8:\n",
    "                    print str(round(corr[0,1], 4)) + \"\\t\"+column1 + \", \" + column2 "
   ]
  },
  {
   "cell_type": "markdown",
   "metadata": {},
   "source": [
    "#### Heatmap to show the correlations between predictors:"
   ]
  },
  {
   "cell_type": "code",
   "execution_count": 34,
   "metadata": {
    "collapsed": false
   },
   "outputs": [
    {
     "data": {
      "image/png": "[encoded data removed]",
      "text/plain": [
       "<matplotlib.figure.Figure at 0x115ee9a90>"
      ]
     },
     "metadata": {},
     "output_type": "display_data"
    }
   ],
   "source": [
    "# Compute matrix of correlation coefficients\n",
    "corr_matrix = np.corrcoef(data[correlated_predictors].T)\n",
    "# Display heat map \n",
    "plt.subplots(1, 1, figsize=(6, 6))\n",
    "\n",
    "plt.pcolor(corr_matrix)\n",
    "\n",
    "plt.title('Heatmap of correlation matrix')\n",
    "plt.colorbar()\n",
    "\n",
    "plt.show()"
   ]
  },
  {
   "cell_type": "markdown",
   "metadata": {},
   "source": [
    "We decided to keep only a small subset of our crimes predictors, including only murder rate, rape rate, robbery rate, and the total number of seven major felony offenses over the last 3 years."
   ]
  },
  {
   "cell_type": "markdown",
   "metadata": {},
   "source": [
    "#### Correlations between the crime predictors that we chose to keep:"
   ]
  },
  {
   "cell_type": "code",
   "execution_count": 35,
   "metadata": {
    "collapsed": true
   },
   "outputs": [],
   "source": [
    "crimes = ['MURDER & NON NEGL. MANSLAUGHTER_last_3_years', 'RAPE_last_3_years',\\\n",
    " 'ROBBERY_last_3_years', 'TOTAL SEVEN MAJOR FELONY OFFENSES_last_3_years']"
   ]
  },
  {
   "cell_type": "code",
   "execution_count": 36,
   "metadata": {
    "collapsed": false
   },
   "outputs": [
    {
     "name": "stdout",
     "output_type": "stream",
     "text": [
      "0.8168\tMURDER & NON NEGL. MANSLAUGHTER_last_3_years, RAPE_last_3_years\n",
      "0.8447\tMURDER & NON NEGL. MANSLAUGHTER_last_3_years, ROBBERY_last_3_years\n",
      "-0.4023\tMURDER & NON NEGL. MANSLAUGHTER_last_3_years, TOTAL SEVEN MAJOR FELONY OFFENSES_last_3_years\n",
      "0.8467\tRAPE_last_3_years, ROBBERY_last_3_years\n",
      "-0.2325\tRAPE_last_3_years, TOTAL SEVEN MAJOR FELONY OFFENSES_last_3_years\n",
      "-0.2098\tROBBERY_last_3_years, TOTAL SEVEN MAJOR FELONY OFFENSES_last_3_years\n"
     ]
    }
   ],
   "source": [
    "for i in range(len(crimes)):\n",
    "    if i+1 < len(crimes):\n",
    "        for j in range(i, len(crimes)):\n",
    "            if i != j:\n",
    "                column1 = crimes[i]\n",
    "                column2 = crimes[j]\n",
    "                new_data = data[np.isfinite(data[column1])]\n",
    "                new_data = new_data[np.isfinite(new_data[column2])]\n",
    "\n",
    "                corr = np.corrcoef(new_data[column1], new_data[column2])\n",
    "                print str(round(corr[0,1], 4)) + \"\\t\"+column1 + \", \" + column2 "
   ]
  },
  {
   "cell_type": "markdown",
   "metadata": {},
   "source": [
    "There is now much less inter-correlation between our crimes predictors.\n",
    "\n",
    "For schools predictors, we decided to keep only the mean scores and the number of schools tested in the district."
   ]
  },
  {
   "cell_type": "code",
   "execution_count": 37,
   "metadata": {
    "collapsed": true
   },
   "outputs": [],
   "source": [
    "final_predictors = ['tax_value','zestimate_amount','bathrooms', 'latitude', 'bedrooms','home_size',\\\n",
    "                    'MURDER & NON NEGL. MANSLAUGHTER_last_3_years', 'RAPE_last_3_years',\\\n",
    "                    'ROBBERY_last_3_years', 'TOTAL SEVEN MAJOR FELONY OFFENSES_last_3_years',\\\n",
    "                    'schools_Number Tested', 'schools_mean score', 'home_type_Apartment','home_type_Condominium',\\\n",
    "                    'home_type_Cooperative','home_type_Duplex','home_type_Miscellaneous','home_type_MultiFamily2To4',\\\n",
    "                    'home_type_Quadruplex','home_type_SingleFamily','home_type_Townhouse','home_type_Unknown',\\\n",
    "                    'neighborhood_Battery Park','neighborhood_Bedford-Stuyvesant','neighborhood_Borough Park',\\\n",
    "                    'neighborhood_Carnegie Hill','neighborhood_Chelsea','neighborhood_Chinatown',\\\n",
    "                    'neighborhood_Clinton','neighborhood_East Harlem','neighborhood_East Village',\\\n",
    "                    'neighborhood_Greenwich Village','neighborhood_Hamilton Heights','neighborhood_Harlem',\\\n",
    "                    'neighborhood_Inwood','neighborhood_Lower East Side','neighborhood_Morningside Heights',\\\n",
    "                    'neighborhood_North Sutton Area','neighborhood_Soho','neighborhood_Tribeca',\\\n",
    "                    'neighborhood_Upper East Side','neighborhood_Upper West Side','neighborhood_Washington Heights',\\\n",
    "                    'neighborhood_West Village','neighborhood_Williamsburg','neighborhood_Yorkville']"
   ]
  },
  {
   "cell_type": "markdown",
   "metadata": {},
   "source": [
    "#### Our final predictors:"
   ]
  },
  {
   "cell_type": "code",
   "execution_count": 38,
   "metadata": {
    "collapsed": false,
    "scrolled": true
   },
   "outputs": [
    {
     "name": "stdout",
     "output_type": "stream",
     "text": [
      "['tax_value', 'zestimate_amount', 'bathrooms', 'latitude', 'bedrooms', 'home_size', 'MURDER & NON NEGL. MANSLAUGHTER_last_3_years', 'RAPE_last_3_years', 'ROBBERY_last_3_years', 'TOTAL SEVEN MAJOR FELONY OFFENSES_last_3_years', 'schools_Number Tested', 'schools_mean score', 'home_type_Apartment', 'home_type_Condominium', 'home_type_Cooperative', 'home_type_Duplex', 'home_type_Miscellaneous', 'home_type_MultiFamily2To4', 'home_type_Quadruplex', 'home_type_SingleFamily', 'home_type_Townhouse', 'home_type_Unknown', 'neighborhood_Battery Park', 'neighborhood_Bedford-Stuyvesant', 'neighborhood_Borough Park', 'neighborhood_Carnegie Hill', 'neighborhood_Chelsea', 'neighborhood_Chinatown', 'neighborhood_Clinton', 'neighborhood_East Harlem', 'neighborhood_East Village', 'neighborhood_Greenwich Village', 'neighborhood_Hamilton Heights', 'neighborhood_Harlem', 'neighborhood_Inwood', 'neighborhood_Lower East Side', 'neighborhood_Morningside Heights', 'neighborhood_North Sutton Area', 'neighborhood_Soho', 'neighborhood_Tribeca', 'neighborhood_Upper East Side', 'neighborhood_Upper West Side', 'neighborhood_Washington Heights', 'neighborhood_West Village', 'neighborhood_Williamsburg', 'neighborhood_Yorkville']\n"
     ]
    }
   ],
   "source": [
    "print final_predictors"
   ]
  },
  {
   "cell_type": "code",
   "execution_count": 39,
   "metadata": {
    "collapsed": false
   },
   "outputs": [
    {
     "ename": "KeyError",
     "evalue": "\"['neighborhood_Bedford-Stuyvesant' 'neighborhood_Borough Park'\\n 'neighborhood_Williamsburg'] not in index\"",
     "output_type": "error",
     "traceback": [
      "\u001b[0;31m---------------------------------------------------------------------------\u001b[0m",
      "\u001b[0;31mKeyError\u001b[0m                                  Traceback (most recent call last)",
      "\u001b[0;32m<ipython-input-39-66f1a621e6ab>\u001b[0m in \u001b[0;36m<module>\u001b[0;34m()\u001b[0m\n\u001b[0;32m----> 1\u001b[0;31m \u001b[0mdata\u001b[0m \u001b[0;34m=\u001b[0m \u001b[0mdata\u001b[0m\u001b[0;34m[\u001b[0m\u001b[0mfinal_predictors\u001b[0m\u001b[0;34m]\u001b[0m\u001b[0;34m\u001b[0m\u001b[0m\n\u001b[0m",
      "\u001b[0;32m/Users/marinaadario/marinaadario/anaconda3/lib/python2.7/site-packages/pandas/core/frame.pyc\u001b[0m in \u001b[0;36m__getitem__\u001b[0;34m(self, key)\u001b[0m\n\u001b[1;32m   1989\u001b[0m         \u001b[0;32mif\u001b[0m \u001b[0misinstance\u001b[0m\u001b[0;34m(\u001b[0m\u001b[0mkey\u001b[0m\u001b[0;34m,\u001b[0m \u001b[0;34m(\u001b[0m\u001b[0mSeries\u001b[0m\u001b[0;34m,\u001b[0m \u001b[0mnp\u001b[0m\u001b[0;34m.\u001b[0m\u001b[0mndarray\u001b[0m\u001b[0;34m,\u001b[0m \u001b[0mIndex\u001b[0m\u001b[0;34m,\u001b[0m \u001b[0mlist\u001b[0m\u001b[0;34m)\u001b[0m\u001b[0;34m)\u001b[0m\u001b[0;34m:\u001b[0m\u001b[0;34m\u001b[0m\u001b[0m\n\u001b[1;32m   1990\u001b[0m             \u001b[0;31m# either boolean or fancy integer index\u001b[0m\u001b[0;34m\u001b[0m\u001b[0;34m\u001b[0m\u001b[0m\n\u001b[0;32m-> 1991\u001b[0;31m             \u001b[0;32mreturn\u001b[0m \u001b[0mself\u001b[0m\u001b[0;34m.\u001b[0m\u001b[0m_getitem_array\u001b[0m\u001b[0;34m(\u001b[0m\u001b[0mkey\u001b[0m\u001b[0;34m)\u001b[0m\u001b[0;34m\u001b[0m\u001b[0m\n\u001b[0m\u001b[1;32m   1992\u001b[0m         \u001b[0;32melif\u001b[0m \u001b[0misinstance\u001b[0m\u001b[0;34m(\u001b[0m\u001b[0mkey\u001b[0m\u001b[0;34m,\u001b[0m \u001b[0mDataFrame\u001b[0m\u001b[0;34m)\u001b[0m\u001b[0;34m:\u001b[0m\u001b[0;34m\u001b[0m\u001b[0m\n\u001b[1;32m   1993\u001b[0m             \u001b[0;32mreturn\u001b[0m \u001b[0mself\u001b[0m\u001b[0;34m.\u001b[0m\u001b[0m_getitem_frame\u001b[0m\u001b[0;34m(\u001b[0m\u001b[0mkey\u001b[0m\u001b[0;34m)\u001b[0m\u001b[0;34m\u001b[0m\u001b[0m\n",
      "\u001b[0;32m/Users/marinaadario/marinaadario/anaconda3/lib/python2.7/site-packages/pandas/core/frame.pyc\u001b[0m in \u001b[0;36m_getitem_array\u001b[0;34m(self, key)\u001b[0m\n\u001b[1;32m   2033\u001b[0m             \u001b[0;32mreturn\u001b[0m \u001b[0mself\u001b[0m\u001b[0;34m.\u001b[0m\u001b[0mtake\u001b[0m\u001b[0;34m(\u001b[0m\u001b[0mindexer\u001b[0m\u001b[0;34m,\u001b[0m \u001b[0maxis\u001b[0m\u001b[0;34m=\u001b[0m\u001b[0;36m0\u001b[0m\u001b[0;34m,\u001b[0m \u001b[0mconvert\u001b[0m\u001b[0;34m=\u001b[0m\u001b[0mFalse\u001b[0m\u001b[0;34m)\u001b[0m\u001b[0;34m\u001b[0m\u001b[0m\n\u001b[1;32m   2034\u001b[0m         \u001b[0;32melse\u001b[0m\u001b[0;34m:\u001b[0m\u001b[0;34m\u001b[0m\u001b[0m\n\u001b[0;32m-> 2035\u001b[0;31m             \u001b[0mindexer\u001b[0m \u001b[0;34m=\u001b[0m \u001b[0mself\u001b[0m\u001b[0;34m.\u001b[0m\u001b[0mix\u001b[0m\u001b[0;34m.\u001b[0m\u001b[0m_convert_to_indexer\u001b[0m\u001b[0;34m(\u001b[0m\u001b[0mkey\u001b[0m\u001b[0;34m,\u001b[0m \u001b[0maxis\u001b[0m\u001b[0;34m=\u001b[0m\u001b[0;36m1\u001b[0m\u001b[0;34m)\u001b[0m\u001b[0;34m\u001b[0m\u001b[0m\n\u001b[0m\u001b[1;32m   2036\u001b[0m             \u001b[0;32mreturn\u001b[0m \u001b[0mself\u001b[0m\u001b[0;34m.\u001b[0m\u001b[0mtake\u001b[0m\u001b[0;34m(\u001b[0m\u001b[0mindexer\u001b[0m\u001b[0;34m,\u001b[0m \u001b[0maxis\u001b[0m\u001b[0;34m=\u001b[0m\u001b[0;36m1\u001b[0m\u001b[0;34m,\u001b[0m \u001b[0mconvert\u001b[0m\u001b[0;34m=\u001b[0m\u001b[0mTrue\u001b[0m\u001b[0;34m)\u001b[0m\u001b[0;34m\u001b[0m\u001b[0m\n\u001b[1;32m   2037\u001b[0m \u001b[0;34m\u001b[0m\u001b[0m\n",
      "\u001b[0;32m/Users/marinaadario/marinaadario/anaconda3/lib/python2.7/site-packages/pandas/core/indexing.pyc\u001b[0m in \u001b[0;36m_convert_to_indexer\u001b[0;34m(self, obj, axis, is_setter)\u001b[0m\n\u001b[1;32m   1212\u001b[0m                 \u001b[0mmask\u001b[0m \u001b[0;34m=\u001b[0m \u001b[0mcheck\u001b[0m \u001b[0;34m==\u001b[0m \u001b[0;34m-\u001b[0m\u001b[0;36m1\u001b[0m\u001b[0;34m\u001b[0m\u001b[0m\n\u001b[1;32m   1213\u001b[0m                 \u001b[0;32mif\u001b[0m \u001b[0mmask\u001b[0m\u001b[0;34m.\u001b[0m\u001b[0many\u001b[0m\u001b[0;34m(\u001b[0m\u001b[0;34m)\u001b[0m\u001b[0;34m:\u001b[0m\u001b[0;34m\u001b[0m\u001b[0m\n\u001b[0;32m-> 1214\u001b[0;31m                     \u001b[0;32mraise\u001b[0m \u001b[0mKeyError\u001b[0m\u001b[0;34m(\u001b[0m\u001b[0;34m'%s not in index'\u001b[0m \u001b[0;34m%\u001b[0m \u001b[0mobjarr\u001b[0m\u001b[0;34m[\u001b[0m\u001b[0mmask\u001b[0m\u001b[0;34m]\u001b[0m\u001b[0;34m)\u001b[0m\u001b[0;34m\u001b[0m\u001b[0m\n\u001b[0m\u001b[1;32m   1215\u001b[0m \u001b[0;34m\u001b[0m\u001b[0m\n\u001b[1;32m   1216\u001b[0m                 \u001b[0;32mreturn\u001b[0m \u001b[0m_values_from_object\u001b[0m\u001b[0;34m(\u001b[0m\u001b[0mindexer\u001b[0m\u001b[0;34m)\u001b[0m\u001b[0;34m\u001b[0m\u001b[0m\n",
      "\u001b[0;31mKeyError\u001b[0m: \"['neighborhood_Bedford-Stuyvesant' 'neighborhood_Borough Park'\\n 'neighborhood_Williamsburg'] not in index\""
     ]
    }
   ],
   "source": [
    "data = data[final_predictors]"
   ]
  },
  {
   "cell_type": "markdown",
   "metadata": {},
   "source": [
    "To deal with missing values, we decided to, for this dataset, get rid of all rows with NAs for number of bedrooms and number of bathrooms (since we thought that these were important predictors that we didn't want to impute and most of the NAs for these two predictors were in the same rows).  We then imputed with the median (using sklearn's \"Imputer\" function) for the rest of the missing values.\n",
    "\n",
    "We then split this data into train and test sets, and exported them to separate CSVs."
   ]
  },
  {
   "cell_type": "code",
   "execution_count": null,
   "metadata": {
    "collapsed": true
   },
   "outputs": [],
   "source": [
    "data = data[np.isfinite(data['bedrooms'])]\n",
    "data = data[np.isfinite(data['bathrooms'])]"
   ]
  },
  {
   "cell_type": "code",
   "execution_count": null,
   "metadata": {
    "collapsed": true
   },
   "outputs": [],
   "source": [
    "column_names = data.columns.values"
   ]
  },
  {
   "cell_type": "code",
   "execution_count": null,
   "metadata": {
    "collapsed": true
   },
   "outputs": [],
   "source": [
    "imputer_data = Imputer(strategy = \"median\")\n",
    "imputer_data.fit(data)\n",
    "data = imputer_data.transform(data)"
   ]
  },
  {
   "cell_type": "code",
   "execution_count": null,
   "metadata": {
    "collapsed": true
   },
   "outputs": [],
   "source": [
    "data = pd.DataFrame(data, columns = column_names)"
   ]
  },
  {
   "cell_type": "code",
   "execution_count": null,
   "metadata": {
    "collapsed": true
   },
   "outputs": [],
   "source": [
    "test = data.sample(n=2500)\n",
    "train = data.drop(test.index)"
   ]
  },
  {
   "cell_type": "code",
   "execution_count": null,
   "metadata": {
    "collapsed": true
   },
   "outputs": [],
   "source": [
    "test.to_csv(\"test_best_features.csv\", index = False)\n",
    "train.to_csv(\"train_best_features.csv\", index = False)"
   ]
  },
  {
   "cell_type": "code",
   "execution_count": null,
   "metadata": {
    "collapsed": true
   },
   "outputs": [],
   "source": []
  }
 ],
 "metadata": {
  "anaconda-cloud": {},
  "kernelspec": {
   "display_name": "Python [conda root]",
   "language": "python",
   "name": "conda-root-py"
  },
  "language_info": {
   "codemirror_mode": {
    "name": "ipython",
    "version": 2
   },
   "file_extension": ".py",
   "mimetype": "text/x-python",
   "name": "python",
   "nbconvert_exporter": "python",
   "pygments_lexer": "ipython2",
   "version": "2.7.12"
  }
 },
 "nbformat": 4,
 "nbformat_minor": 1
}
