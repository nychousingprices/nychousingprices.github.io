{
 "cells": [
  {
   "cell_type": "code",
   "execution_count": 64,
   "metadata": {
    "collapsed": false
   },
   "outputs": [
    {
     "data": {
      "text/html": [
       "<script>\n",
       "code_show=true;\n",
       "function code_toggle() {\n",
       " if (code_show){\n",
       " $('div.input').hide();\n",
       " } else {\n",
       " $('div.input').show();\n",
       " }\n",
       " code_show = !code_show\n",
       "}\n",
       "$( document ).ready(code_toggle);\n",
       "</script>\n",
       "<form action=\"javascript:code_toggle()\"><input type=\"submit\" value=\"Click here to toggle on/off the raw code.\"></form>"
      ],
      "text/plain": [
       "<IPython.core.display.HTML object>"
      ]
     },
     "execution_count": 64,
     "metadata": {},
     "output_type": "execute_result"
    }
   ],
   "source": [
    "from IPython.display import HTML\n",
    "\n",
    "HTML('''<script>\n",
    "code_show=true;\n",
    "function code_toggle() {\n",
    " if (code_show){\n",
    " $('div.input').hide();\n",
    " } else {\n",
    " $('div.input').show();\n",
    " }\n",
    " code_show = !code_show\n",
    "}\n",
    "$( document ).ready(code_toggle);\n",
    "</script>\n",
    "<form action=\"javascript:code_toggle()\"><input type=\"submit\" value=\"Click here to toggle on/off the raw code.\"></form>''')"
   ]
  },
  {
   "cell_type": "code",
   "execution_count": 60,
   "metadata": {
    "collapsed": true
   },
   "outputs": [],
   "source": [
    "import numpy as np\n",
    "import pandas as pd\n",
    "import matplotlib.pyplot as plt\n",
    "%matplotlib inline\n",
    "import os\n",
    "from scipy.stats import ttest_ind\n",
    "from sklearn.preprocessing import Imputer\n",
    "import json\n",
    "import warnings\n",
    "warnings.filterwarnings('ignore')"
   ]
  },
  {
   "cell_type": "markdown",
   "metadata": {},
   "source": [
    "## Importing and cleaning data"
   ]
  },
  {
   "cell_type": "code",
   "execution_count": 61,
   "metadata": {
    "collapsed": false
   },
   "outputs": [],
   "source": [
    "data = pd.read_csv(\"data_with_new_features.csv\")"
   ]
  },
  {
   "cell_type": "markdown",
   "metadata": {},
   "source": [
    "#### Head of data:"
   ]
  },
  {
   "cell_type": "code",
   "execution_count": 62,
   "metadata": {
    "collapsed": false,
    "scrolled": true
   },
   "outputs": [
    {
     "data": {
      "text/html": [
       "<div>\n",
       "<table border=\"1\" class=\"dataframe\">\n",
       "  <thead>\n",
       "    <tr style=\"text-align: right;\">\n",
       "      <th></th>\n",
       "      <th>tax_value</th>\n",
       "      <th>last_sold_price</th>\n",
       "      <th>property_size</th>\n",
       "      <th>zestimate_amount</th>\n",
       "      <th>bathrooms</th>\n",
       "      <th>zestimate_valuation_range_high</th>\n",
       "      <th>tax_year</th>\n",
       "      <th>zestimate_value_change</th>\n",
       "      <th>latitude</th>\n",
       "      <th>zestimate_percentile</th>\n",
       "      <th>...</th>\n",
       "      <th>TOTAL NON-SEVEN MAJOR FELONY OFFENSES_last_3_years</th>\n",
       "      <th>TOTAL NON-SEVEN MAJOR FELONY OFFENSES_percent_change</th>\n",
       "      <th>TOTAL SEVEN MAJOR FELONY OFFENSES_last_3_years</th>\n",
       "      <th>TOTAL SEVEN MAJOR FELONY OFFENSES_percent_change</th>\n",
       "      <th>UNAUTHORIZED USE OF A VEHICLE_last_3_years</th>\n",
       "      <th>UNAUTHORIZED USE OF A VEHICLE_percent_change</th>\n",
       "      <th>VEHICLE AND TRAFFIC LAWS_last_3_years</th>\n",
       "      <th>VEHICLE AND TRAFFIC LAWS_percent_change</th>\n",
       "      <th>dist_to_subway</th>\n",
       "      <th>neighborhood_turnover</th>\n",
       "    </tr>\n",
       "  </thead>\n",
       "  <tbody>\n",
       "    <tr>\n",
       "      <th>0</th>\n",
       "      <td>NaN</td>\n",
       "      <td>NaN</td>\n",
       "      <td>NaN</td>\n",
       "      <td>849427.0</td>\n",
       "      <td>1.0</td>\n",
       "      <td>1044795.0</td>\n",
       "      <td>NaN</td>\n",
       "      <td>NaN</td>\n",
       "      <td>40.724448</td>\n",
       "      <td>0.0</td>\n",
       "      <td>...</td>\n",
       "      <td>678.666667</td>\n",
       "      <td>0.342633</td>\n",
       "      <td>1364.0</td>\n",
       "      <td>1.539942</td>\n",
       "      <td>5.333333</td>\n",
       "      <td>15.789474</td>\n",
       "      <td>39.333333</td>\n",
       "      <td>-8.256881</td>\n",
       "      <td>0.008777</td>\n",
       "      <td>4.4256</td>\n",
       "    </tr>\n",
       "    <tr>\n",
       "      <th>1</th>\n",
       "      <td>1674000.0</td>\n",
       "      <td>NaN</td>\n",
       "      <td>2250.0</td>\n",
       "      <td>7332356.0</td>\n",
       "      <td>1.0</td>\n",
       "      <td>7992268.0</td>\n",
       "      <td>2015.0</td>\n",
       "      <td>NaN</td>\n",
       "      <td>40.724385</td>\n",
       "      <td>0.0</td>\n",
       "      <td>...</td>\n",
       "      <td>678.666667</td>\n",
       "      <td>0.342633</td>\n",
       "      <td>1364.0</td>\n",
       "      <td>1.539942</td>\n",
       "      <td>5.333333</td>\n",
       "      <td>15.789474</td>\n",
       "      <td>39.333333</td>\n",
       "      <td>-8.256881</td>\n",
       "      <td>0.009004</td>\n",
       "      <td>4.4256</td>\n",
       "    </tr>\n",
       "    <tr>\n",
       "      <th>2</th>\n",
       "      <td>NaN</td>\n",
       "      <td>NaN</td>\n",
       "      <td>NaN</td>\n",
       "      <td>1991289.0</td>\n",
       "      <td>1.0</td>\n",
       "      <td>2708153.0</td>\n",
       "      <td>NaN</td>\n",
       "      <td>NaN</td>\n",
       "      <td>40.724332</td>\n",
       "      <td>0.0</td>\n",
       "      <td>...</td>\n",
       "      <td>678.666667</td>\n",
       "      <td>0.342633</td>\n",
       "      <td>1364.0</td>\n",
       "      <td>1.539942</td>\n",
       "      <td>5.333333</td>\n",
       "      <td>15.789474</td>\n",
       "      <td>39.333333</td>\n",
       "      <td>-8.256881</td>\n",
       "      <td>0.009170</td>\n",
       "      <td>4.4256</td>\n",
       "    </tr>\n",
       "    <tr>\n",
       "      <th>3</th>\n",
       "      <td>2837000.0</td>\n",
       "      <td>NaN</td>\n",
       "      <td>650.0</td>\n",
       "      <td>1225236.0</td>\n",
       "      <td>1.0</td>\n",
       "      <td>1298750.0</td>\n",
       "      <td>2015.0</td>\n",
       "      <td>NaN</td>\n",
       "      <td>40.724225</td>\n",
       "      <td>0.0</td>\n",
       "      <td>...</td>\n",
       "      <td>678.666667</td>\n",
       "      <td>0.342633</td>\n",
       "      <td>1364.0</td>\n",
       "      <td>1.539942</td>\n",
       "      <td>5.333333</td>\n",
       "      <td>15.789474</td>\n",
       "      <td>39.333333</td>\n",
       "      <td>-8.256881</td>\n",
       "      <td>0.009564</td>\n",
       "      <td>4.4256</td>\n",
       "    </tr>\n",
       "    <tr>\n",
       "      <th>4</th>\n",
       "      <td>6701000.0</td>\n",
       "      <td>3200000.0</td>\n",
       "      <td>2250.0</td>\n",
       "      <td>12785150.0</td>\n",
       "      <td>NaN</td>\n",
       "      <td>13807962.0</td>\n",
       "      <td>2015.0</td>\n",
       "      <td>NaN</td>\n",
       "      <td>40.724125</td>\n",
       "      <td>0.0</td>\n",
       "      <td>...</td>\n",
       "      <td>678.666667</td>\n",
       "      <td>0.342633</td>\n",
       "      <td>1364.0</td>\n",
       "      <td>1.539942</td>\n",
       "      <td>5.333333</td>\n",
       "      <td>15.789474</td>\n",
       "      <td>39.333333</td>\n",
       "      <td>-8.256881</td>\n",
       "      <td>0.009889</td>\n",
       "      <td>4.4256</td>\n",
       "    </tr>\n",
       "  </tbody>\n",
       "</table>\n",
       "<p>5 rows × 102 columns</p>\n",
       "</div>"
      ],
      "text/plain": [
       "   tax_value  last_sold_price  property_size  zestimate_amount  bathrooms  \\\n",
       "0        NaN              NaN            NaN          849427.0        1.0   \n",
       "1  1674000.0              NaN         2250.0         7332356.0        1.0   \n",
       "2        NaN              NaN            NaN         1991289.0        1.0   \n",
       "3  2837000.0              NaN          650.0         1225236.0        1.0   \n",
       "4  6701000.0        3200000.0         2250.0        12785150.0        NaN   \n",
       "\n",
       "   zestimate_valuation_range_high  tax_year  zestimate_value_change  \\\n",
       "0                       1044795.0       NaN                     NaN   \n",
       "1                       7992268.0    2015.0                     NaN   \n",
       "2                       2708153.0       NaN                     NaN   \n",
       "3                       1298750.0    2015.0                     NaN   \n",
       "4                      13807962.0    2015.0                     NaN   \n",
       "\n",
       "    latitude  zestimate_percentile          ...           \\\n",
       "0  40.724448                   0.0          ...            \n",
       "1  40.724385                   0.0          ...            \n",
       "2  40.724332                   0.0          ...            \n",
       "3  40.724225                   0.0          ...            \n",
       "4  40.724125                   0.0          ...            \n",
       "\n",
       "   TOTAL NON-SEVEN MAJOR FELONY OFFENSES_last_3_years  \\\n",
       "0                                         678.666667    \n",
       "1                                         678.666667    \n",
       "2                                         678.666667    \n",
       "3                                         678.666667    \n",
       "4                                         678.666667    \n",
       "\n",
       "  TOTAL NON-SEVEN MAJOR FELONY OFFENSES_percent_change  \\\n",
       "0                                           0.342633     \n",
       "1                                           0.342633     \n",
       "2                                           0.342633     \n",
       "3                                           0.342633     \n",
       "4                                           0.342633     \n",
       "\n",
       "   TOTAL SEVEN MAJOR FELONY OFFENSES_last_3_years  \\\n",
       "0                                          1364.0   \n",
       "1                                          1364.0   \n",
       "2                                          1364.0   \n",
       "3                                          1364.0   \n",
       "4                                          1364.0   \n",
       "\n",
       "  TOTAL SEVEN MAJOR FELONY OFFENSES_percent_change  \\\n",
       "0                                         1.539942   \n",
       "1                                         1.539942   \n",
       "2                                         1.539942   \n",
       "3                                         1.539942   \n",
       "4                                         1.539942   \n",
       "\n",
       "   UNAUTHORIZED USE OF A VEHICLE_last_3_years  \\\n",
       "0                                    5.333333   \n",
       "1                                    5.333333   \n",
       "2                                    5.333333   \n",
       "3                                    5.333333   \n",
       "4                                    5.333333   \n",
       "\n",
       "   UNAUTHORIZED USE OF A VEHICLE_percent_change  \\\n",
       "0                                     15.789474   \n",
       "1                                     15.789474   \n",
       "2                                     15.789474   \n",
       "3                                     15.789474   \n",
       "4                                     15.789474   \n",
       "\n",
       "  VEHICLE AND TRAFFIC LAWS_last_3_years  \\\n",
       "0                             39.333333   \n",
       "1                             39.333333   \n",
       "2                             39.333333   \n",
       "3                             39.333333   \n",
       "4                             39.333333   \n",
       "\n",
       "   VEHICLE AND TRAFFIC LAWS_percent_change  dist_to_subway  \\\n",
       "0                                -8.256881        0.008777   \n",
       "1                                -8.256881        0.009004   \n",
       "2                                -8.256881        0.009170   \n",
       "3                                -8.256881        0.009564   \n",
       "4                                -8.256881        0.009889   \n",
       "\n",
       "  neighborhood_turnover  \n",
       "0                4.4256  \n",
       "1                4.4256  \n",
       "2                4.4256  \n",
       "3                4.4256  \n",
       "4                4.4256  \n",
       "\n",
       "[5 rows x 102 columns]"
      ]
     },
     "execution_count": 62,
     "metadata": {},
     "output_type": "execute_result"
    }
   ],
   "source": [
    "data.head()"
   ]
  },
  {
   "cell_type": "markdown",
   "metadata": {},
   "source": [
    "#### Data cleaning"
   ]
  },
  {
   "cell_type": "markdown",
   "metadata": {},
   "source": [
    "To clean the data, we first got rid of all rows with NAs for our y-value, \"zestimate_amount\".  We then eliminated all columns that were meaningless (links, Zillow ID, etc.) and all columns that were too similar to \"zestimate_amount\" and contained information that would realistically not be available to users making predictions with our model (\"zesimate_value_change\", \"zestimate_percentile\", etc.).  \n",
    "\n",
    "We then replaced all of our categorical variables with dummy variables and imputed missing values with the median using sklearn's \"Imputer\" function.  We then randomly split our data into train and test sets, leaving out 3000 rows to be our test set that we would use only to test our models after choosing parameters through cross-validation, and leaving the remaining 17257 rows as our training set.  We then exported the full cleaned data set, along with the train and test sets, to CSVs."
   ]
  },
  {
   "cell_type": "code",
   "execution_count": 63,
   "metadata": {
    "collapsed": false
   },
   "outputs": [],
   "source": [
    "# get rid of rows that have missing values for our y value (zestimate_amount)\n",
    "data = data[np.isfinite(data['zestimate_amount'])]"
   ]
  },
  {
   "cell_type": "code",
   "execution_count": 67,
   "metadata": {
    "collapsed": true
   },
   "outputs": [],
   "source": [
    "def clean_data (data, impute=True):\n",
    "    \n",
    "    # get rid of all zestimate values (besides our y), links, and Unnamed:22 (this is all NAs)\n",
    "    data = data.drop(['zestimate_valuation_range_high', 'zestimate_value_change', 'zestimate_percentile', 'zestimate_last_updated',\n",
    "                   'zestimate_valuationRange_low', 'graph_data_link', 'home_detail_link', 'map_this_home_link', 'Unnamed: 22',\n",
    "                    'zillow_id', 'last_sold_date', 'last_sold_price', 'tax_value'], 1)\n",
    "    \n",
    "    # get rid of school district and precinct, as we already have the information on the crime and schools in the area\n",
    "    data = data.drop(['schooldistrict', 'precinct'], 1)\n",
    "\n",
    "    # replace all categorical variables with dummy variables\n",
    "    dummies = pd.get_dummies(data[['home_type', 'neighborhood']])\n",
    "    data = pd.concat([data, dummies], axis=1)\n",
    "    data = data.drop(['home_type', 'neighborhood'], 1)\n",
    "    \n",
    "    data = data.replace(np.inf, 0)\n",
    "    data = data.replace(-np.inf, 0)\n",
    "    \n",
    "    if impute:\n",
    "        print \"Columns with Missing Values:\"\n",
    "        for column in data.columns:\n",
    "            percent_missing = len(data[data[column] != data[column]])/float(len(data))\n",
    "            if percent_missing > 0:\n",
    "                print column, \"\\t\\t\\t\",percent_missing\n",
    "\n",
    "    column_names = data.columns.values\n",
    "    \n",
    "    if impute:\n",
    "        imputer_data = Imputer(strategy = \"median\")\n",
    "        imputer_data.fit(data)\n",
    "        data = imputer_data.transform(data)\n",
    "    \n",
    "    data = pd.DataFrame(data, columns = column_names)\n",
    "    \n",
    "    return data"
   ]
  },
  {
   "cell_type": "code",
   "execution_count": 68,
   "metadata": {
    "collapsed": false,
    "scrolled": true
   },
   "outputs": [
    {
     "name": "stdout",
     "output_type": "stream",
     "text": [
      "Columns with Missing Values:\n",
      "property_size \t\t\t0.448388211482\n",
      "bathrooms \t\t\t0.347237991805\n",
      "tax_year \t\t\t0.44759836106\n",
      "bedrooms \t\t\t0.332477662043\n",
      "year_built \t\t\t0.325813299106\n",
      "home_size \t\t\t0.219479686034\n"
     ]
    }
   ],
   "source": [
    "cleaned_data_imputed = clean_data (data)"
   ]
  },
  {
   "cell_type": "code",
   "execution_count": 69,
   "metadata": {
    "collapsed": true
   },
   "outputs": [],
   "source": [
    "cleaned_data_imputed.to_csv(\"cleaned_data_imputed.csv\", index = False)"
   ]
  },
  {
   "cell_type": "code",
   "execution_count": 70,
   "metadata": {
    "collapsed": false,
    "scrolled": true
   },
   "outputs": [],
   "source": [
    "cleaned_data_not_imputed = clean_data (data, impute=False)"
   ]
  },
  {
   "cell_type": "code",
   "execution_count": 71,
   "metadata": {
    "collapsed": true
   },
   "outputs": [],
   "source": [
    "cleaned_data_not_imputed.to_csv(\"cleaned_data_not_imputed.csv\", index = False)"
   ]
  },
  {
   "cell_type": "code",
   "execution_count": 72,
   "metadata": {
    "collapsed": true
   },
   "outputs": [],
   "source": [
    "test_imputed = cleaned_data_imputed.sample(n=3000)\n",
    "train_imputed = cleaned_data_imputed.drop(test_imputed.index)"
   ]
  },
  {
   "cell_type": "code",
   "execution_count": 73,
   "metadata": {
    "collapsed": true
   },
   "outputs": [],
   "source": [
    "test_imputed.to_csv(\"test_imputed.csv\", index = False)\n",
    "train_imputed.to_csv(\"train_imputed.csv\", index = False)"
   ]
  },
  {
   "cell_type": "code",
   "execution_count": 74,
   "metadata": {
    "collapsed": true
   },
   "outputs": [],
   "source": [
    "test_not_imputed = cleaned_data_not_imputed.sample(n=3000)\n",
    "train_not_imputed = cleaned_data_not_imputed.drop(test_not_imputed.index)"
   ]
  },
  {
   "cell_type": "code",
   "execution_count": 75,
   "metadata": {
    "collapsed": true
   },
   "outputs": [],
   "source": [
    "test_not_imputed.to_csv(\"test_not_imputed.csv\", index = False)\n",
    "train_not_imputed.to_csv(\"train_not_imputed.csv\", index = False)"
   ]
  },
  {
   "cell_type": "markdown",
   "metadata": {},
   "source": [
    "## Reducing the number of predictors for regression models"
   ]
  },
  {
   "cell_type": "markdown",
   "metadata": {},
   "source": [
    "Our data at this point contained 145 predictors, and we knew that many of these predictors were likely not correlated (or at least not linearly correlated) with our y-variable (\"zestimate_amount\").  For this reason, we looked at the correlations between each predictor and our y-variable in order to create a new data set (to use for our regression models) that contained only a subset of predictors that were at least somewhat correlated with our y.  For our random forest model, we will use the full data set, as the model should take care of uncorrelated predictors on its own (as it can simply choose not to use them).  It is also possible that some of our predictors are not linearly related to our y-variable, in which case they could still be useful in a random forest model even if the calculated correlations appear low.\n",
    "\n",
    "To find out whether each predictor was correlated with our y, we calculated Pearson correlation coefficient's for all non-indicator variables (using numpy's \"corrcoef\") and used t-tests for all indicator variables."
   ]
  },
  {
   "cell_type": "code",
   "execution_count": 76,
   "metadata": {
    "collapsed": true
   },
   "outputs": [],
   "source": [
    "data = cleaned_data_imputed"
   ]
  },
  {
   "cell_type": "markdown",
   "metadata": {},
   "source": [
    "#### Correlations (or p-values) between each predictor and \"zestimate_amount\":"
   ]
  },
  {
   "cell_type": "code",
   "execution_count": 77,
   "metadata": {
    "collapsed": false,
    "scrolled": false
   },
   "outputs": [
    {
     "name": "stdout",
     "output_type": "stream",
     "text": [
      "Correlation between property_size and zestimate_amount: 0.00369442456369\n",
      "Correlation between zestimate_amount and zestimate_amount: 1.0\n",
      "Correlation between bathrooms and zestimate_amount: 0.254872701161\n",
      "Correlation between tax_year and zestimate_amount: -0.107242333365\n",
      "Correlation between latitude and zestimate_amount: -0.105242224911\n",
      "Correlation between bedrooms and zestimate_amount: 0.209563388149\n",
      "Correlation between year_built and zestimate_amount: -0.0121862195637\n",
      "Correlation between home_size and zestimate_amount: 0.1269280361\n",
      "Correlation between longitude and zestimate_amount: -0.0961255217493\n",
      "Correlation between schools_Number Tested and zestimate_amount: 0.181535851242\n",
      "Correlation between schools_Mean ELA Score and zestimate_amount: 0.184667399587\n",
      "Correlation between schools_Mean Math Score and zestimate_amount: 0.188120604849\n",
      "Correlation between schools_mean score and zestimate_amount: 0.186368391495\n",
      "Correlation between ADMINISTRATIVE CODE_last_3_years and zestimate_amount: -0.127249480729\n",
      "Correlation between ADMINISTRATIVE CODE_percent_change and zestimate_amount: 0.0823027008399\n",
      "Correlation between AGGRAVATED HARASSMENT 2_last_3_years and zestimate_amount: -0.00313603488101\n",
      "Correlation between AGGRAVATED HARASSMENT 2_percent_change and zestimate_amount: 0.0521141130381\n",
      "Correlation between ARSON_last_3_years and zestimate_amount: -0.0604415227532\n",
      "Correlation between ARSON_percent_change and zestimate_amount: -0.0259461642784\n",
      "Correlation between ASSAULT 3 AND RELATED OFFENSES_last_3_years and zestimate_amount: -0.148057352514\n",
      "Correlation between ASSAULT 3 AND RELATED OFFENSES_percent_change and zestimate_amount: 0.00116906924922\n",
      "Correlation between BURGLARY_last_3_years and zestimate_amount: 0.140973023681\n",
      "Correlation between BURGLARY_percent_change and zestimate_amount: -0.0373374870232\n",
      "Correlation between CRIMINAL TRESPASS_last_3_years and zestimate_amount: -0.155248951061\n",
      "Correlation between CRIMINAL TRESPASS_percent_change and zestimate_amount: 0.0298879241363\n",
      "Correlation between FEL. CRIMINAL MISCHIEF & RELATED OFFENSES_last_3_years and zestimate_amount: 0.0405758275987\n",
      "Correlation between FEL. CRIMINAL MISCHIEF & RELATED OFFENSES_percent_change and zestimate_amount: 0.0516221749732\n",
      "Correlation between FELONY ASSAULT_last_3_years and zestimate_amount: -0.151998537361\n",
      "Correlation between FELONY ASSAULT_percent_change and zestimate_amount: 0.0353640248172\n",
      "Correlation between FELONY DANGEROUS DRUGS_last_3_years and zestimate_amount: -0.16241312438\n",
      "Correlation between FELONY DANGEROUS DRUGS_percent_change and zestimate_amount: 0.0951565012997\n",
      "Correlation between FELONY DANGEROUS WEAPONS_last_3_years and zestimate_amount: -0.164382075914\n",
      "Correlation between FELONY DANGEROUS WEAPONS_percent_change and zestimate_amount: -0.0205424298904\n",
      "Correlation between FELONY POSSESSION STOLEN PROPERTY_last_3_years and zestimate_amount: 0.0322528044508\n",
      "Correlation between FELONY POSSESSION STOLEN PROPERTY_percent_change and zestimate_amount: 0.038798863072\n",
      "Correlation between FELONY SEX CRIMES_last_3_years and zestimate_amount: -0.02343055087\n",
      "Correlation between FELONY SEX CRIMES_percent_change and zestimate_amount: 0.00578766370383\n",
      "Correlation between FORGERY_THEFT-FRAUD_IDENTITY THEFT_last_3_years and zestimate_amount: 0.155122247027\n",
      "Correlation between FORGERY_THEFT-FRAUD_IDENTITY THEFT_percent_change and zestimate_amount: -0.0229899687243\n",
      "Correlation between FRAUDS_last_3_years and zestimate_amount: 0.0692818328379\n",
      "Correlation between FRAUDS_percent_change and zestimate_amount: 0.107007476024\n",
      "Correlation between GRAND LARCENY OF MOTOR VEHICLE_last_3_years and zestimate_amount: 0.128902369621\n",
      "Correlation between GRAND LARCENY OF MOTOR VEHICLE_percent_change and zestimate_amount: 0.0359650031079\n",
      "Correlation between GRAND LARCENY_last_3_years and zestimate_amount: 0.182568884548\n",
      "Correlation between GRAND LARCENY_percent_change and zestimate_amount: 0.0799181606891\n",
      "Correlation between INTOXICATED & IMPAIRED DRIVING_last_3_years and zestimate_amount: 0.138819183242\n",
      "Correlation between INTOXICATED & IMPAIRED DRIVING_percent_change and zestimate_amount: -0.100658772486\n",
      "Correlation between MISD. CRIMINAL MISCHIEF & RELATED OFFENSES_last_3_years and zestimate_amount: -0.121981919489\n",
      "Correlation between MISD. CRIMINAL MISCHIEF & RELATED OFFENSES_percent_change and zestimate_amount: 0.121183747499\n",
      "Correlation between MISDEMEANOR DANGEROUS DRUGS_last_3_years and zestimate_amount: -0.171147559411\n",
      "Correlation between MISDEMEANOR DANGEROUS DRUGS_percent_change and zestimate_amount: 0.0480298739167\n",
      "Correlation between MISDEMEANOR DANGEROUS WEAPONS_last_3_years and zestimate_amount: -0.142843700076\n",
      "Correlation between MISDEMEANOR DANGEROUS WEAPONS_percent_change and zestimate_amount: -0.0421674007928\n",
      "Correlation between MISDEMEANOR POSSESSION OF STOLEN PROPERTY_last_3_years and zestimate_amount: 0.0391736623227\n",
      "Correlation between MISDEMEANOR POSSESSION OF STOLEN PROPERTY_percent_change and zestimate_amount: 0.0803717504701\n",
      "Correlation between MISDEMEANOR SEX CRIMES_last_3_years and zestimate_amount: 0.0474467741437\n",
      "Correlation between MISDEMEANOR SEX CRIMES_percent_change and zestimate_amount: 0.101557939884\n",
      "Correlation between MURDER & NON NEGL. MANSLAUGHTER_last_3_years and zestimate_amount: -0.161051009865\n",
      "Correlation between MURDER & NON NEGL. MANSLAUGHTER_percent_change and zestimate_amount: 0.0431274578411\n",
      "Correlation between OFFENSES AGAINST PUBLIC ADMINISTRATION_last_3_years and zestimate_amount: -0.155181520644\n",
      "Correlation between OFFENSES AGAINST PUBLIC ADMINISTRATION_percent_change and zestimate_amount: 0.0647716400821\n",
      "Correlation between OFFENSES AGAINST THE PERSON_last_3_years and zestimate_amount: -0.126814987265\n",
      "Correlation between OFFENSES AGAINST THE PERSON_percent_change and zestimate_amount: -0.000687345501808\n",
      "Correlation between OTHER FELONIES_last_3_years and zestimate_amount: -0.166042633909\n",
      "Correlation between OTHER FELONIES_percent_change and zestimate_amount: 0.0657486255593\n",
      "Correlation between OTHER MISDEMEANORS_last_3_years and zestimate_amount: -0.0729648370475\n",
      "Correlation between OTHER MISDEMEANORS_percent_change and zestimate_amount: 0.0865033864183\n",
      "Correlation between PETIT LARCENY_last_3_years and zestimate_amount: 0.121281412615\n",
      "Correlation between PETIT LARCENY_percent_change and zestimate_amount: 0.0966178784963\n",
      "Correlation between RAPE_last_3_years and zestimate_amount: -0.158400713479\n",
      "Correlation between RAPE_percent_change and zestimate_amount: 0.130751366342\n",
      "Correlation between ROBBERY_last_3_years and zestimate_amount: -0.160435019559\n",
      "Correlation between ROBBERY_percent_change and zestimate_amount: 0.09034252875\n",
      "Correlation between TOTAL MISDEMEANOR OFFENSES_last_3_years and zestimate_amount: -0.069836988315\n",
      "Correlation between TOTAL MISDEMEANOR OFFENSES_percent_change and zestimate_amount: 0.024600009276\n",
      "Correlation between TOTAL NON-SEVEN MAJOR FELONY OFFENSES_last_3_years and zestimate_amount: -0.120894129\n",
      "Correlation between TOTAL NON-SEVEN MAJOR FELONY OFFENSES_percent_change and zestimate_amount: -0.0833936015433\n",
      "Correlation between TOTAL SEVEN MAJOR FELONY OFFENSES_last_3_years and zestimate_amount: 0.154559182478\n",
      "Correlation between TOTAL SEVEN MAJOR FELONY OFFENSES_percent_change and zestimate_amount: -0.046992458905\n",
      "Correlation between UNAUTHORIZED USE OF A VEHICLE_last_3_years and zestimate_amount: -0.0891402000913\n",
      "Correlation between UNAUTHORIZED USE OF A VEHICLE_percent_change and zestimate_amount: 0.0112141431253\n",
      "Correlation between VEHICLE AND TRAFFIC LAWS_last_3_years and zestimate_amount: 0.0536898833556\n",
      "Correlation between VEHICLE AND TRAFFIC LAWS_percent_change and zestimate_amount: -0.0551631822155\n",
      "Correlation between dist_to_subway and zestimate_amount: -0.0285204454026\n",
      "Correlation between neighborhood_turnover and zestimate_amount: -0.0186973192764\n",
      "P-value for relationship between home_type_Apartment and zestimate_amount: 9.33002976503e-08\n",
      "P-value for relationship between home_type_Condominium and zestimate_amount: 0.000224444045584\n",
      "P-value for relationship between home_type_Cooperative and zestimate_amount: 2.70134586124e-16\n",
      "P-value for relationship between home_type_Duplex and zestimate_amount: 0.0173691410441\n",
      "P-value for relationship between home_type_Miscellaneous and zestimate_amount: 0.00259579439514\n",
      "P-value for relationship between home_type_Mobile and zestimate_amount: 0.790168713295\n",
      "P-value for relationship between home_type_MultiFamily2To4 and zestimate_amount: 4.29616079476e-270\n",
      "P-value for relationship between home_type_MultiFamily5Plus and zestimate_amount: 0.218170295254\n",
      "P-value for relationship between home_type_Quadruplex and zestimate_amount: 0.000527432270574\n",
      "P-value for relationship between home_type_SingleFamily and zestimate_amount: 1.79343812911e-138\n",
      "P-value for relationship between home_type_Townhouse and zestimate_amount: 6.92485317256e-66\n",
      "P-value for relationship between home_type_Triplex and zestimate_amount: 0.788601317315\n",
      "P-value for relationship between home_type_Unknown and zestimate_amount: 0.00442988893528\n",
      "P-value for relationship between neighborhood_Astoria-Long Island City and zestimate_amount: 0.058599742093\n",
      "P-value for relationship between neighborhood_Battery Park and zestimate_amount: 0.00910057760242\n",
      "P-value for relationship between neighborhood_Bedford-Stuyvesant and zestimate_amount: 0.0332927975518\n",
      "P-value for relationship between neighborhood_Boerum Hill and zestimate_amount: 0.481763729683\n",
      "P-value for relationship between neighborhood_Borough Park and zestimate_amount: 0.00579490388178\n",
      "P-value for relationship between neighborhood_Brownsville and zestimate_amount: 0.227069434041\n",
      "P-value for relationship between neighborhood_Bushwick and zestimate_amount: 0.389527005482\n",
      "P-value for relationship between neighborhood_Carnegie Hill and zestimate_amount: 5.48916138057e-23\n",
      "P-value for relationship between neighborhood_Carroll Gardens and zestimate_amount: 0.325597766478\n",
      "P-value for relationship between neighborhood_Central Park and zestimate_amount: 0.519414915131\n",
      "P-value for relationship between neighborhood_Chelsea and zestimate_amount: 0.0205310030585\n",
      "P-value for relationship between neighborhood_Chinatown and zestimate_amount: 0.0319866289985\n",
      "P-value for relationship between neighborhood_Clifton and zestimate_amount: 0.342306644048\n",
      "P-value for relationship between neighborhood_Clinton and zestimate_amount: 0.000199403239166\n",
      "P-value for relationship between neighborhood_Cobble Hill and zestimate_amount: 0.396336504919\n",
      "P-value for relationship between neighborhood_East Harlem and zestimate_amount: 2.14158138474e-09\n",
      "P-value for relationship between neighborhood_East Village and zestimate_amount: 3.76693018353e-10\n",
      "P-value for relationship between neighborhood_Financial District and zestimate_amount: 0.167649113477\n",
      "P-value for relationship between neighborhood_Fort Green and zestimate_amount: 0.117880721578\n",
      "P-value for relationship between neighborhood_Garment District and zestimate_amount: 0.503024994714\n",
      "P-value for relationship between neighborhood_Gramercy and zestimate_amount: 0.431349308549\n",
      "P-value for relationship between neighborhood_Greenwich Village and zestimate_amount: 1.82988881943e-08\n",
      "P-value for relationship between neighborhood_Hamilton Heights and zestimate_amount: 1.32251569947e-18\n",
      "P-value for relationship between neighborhood_Harlem and zestimate_amount: 1.44371054203e-44\n",
      "P-value for relationship between neighborhood_High Bridge and zestimate_amount: 0.327880424082\n",
      "P-value for relationship between neighborhood_Inwood and zestimate_amount: 4.02252267766e-06\n",
      "P-value for relationship between neighborhood_Jackson Heights and zestimate_amount: 0.186796299199\n",
      "P-value for relationship between neighborhood_Little Italy and zestimate_amount: 0.139530679533\n",
      "P-value for relationship between neighborhood_Lower East Side and zestimate_amount: 2.61323852531e-08\n",
      "P-value for relationship between neighborhood_Midtown and zestimate_amount: 0.939015985427\n",
      "P-value for relationship between neighborhood_Morningside Heights and zestimate_amount: 0.000296317831176\n",
      "P-value for relationship between neighborhood_Murray Hill and zestimate_amount: 0.729465918833\n",
      "P-value for relationship between neighborhood_New Brighton and zestimate_amount: nan\n",
      "P-value for relationship between neighborhood_North Sutton Area and zestimate_amount: 4.44315625047e-06\n",
      "P-value for relationship between neighborhood_Park Slope and zestimate_amount: 0.097090713148\n",
      "P-value for relationship between neighborhood_Soho and zestimate_amount: 7.34860090549e-05\n",
      "P-value for relationship between neighborhood_South Bronx and zestimate_amount: 0.32378380038\n",
      "P-value for relationship between neighborhood_Sunny Side and zestimate_amount: 0.111544471716\n",
      "P-value for relationship between neighborhood_Tremont and zestimate_amount: nan\n",
      "P-value for relationship between neighborhood_Tribeca and zestimate_amount: 7.15098081667e-24\n",
      "P-value for relationship between neighborhood_Upper East Side and zestimate_amount: 9.15319807989e-126\n",
      "P-value for relationship between neighborhood_Upper West Side and zestimate_amount: 2.43821244803e-05\n",
      "P-value for relationship between neighborhood_Washington Heights and zestimate_amount: 6.13234705931e-18\n",
      "P-value for relationship between neighborhood_West Village and zestimate_amount: 1.38903867708e-12\n",
      "P-value for relationship between neighborhood_Williamsburg and zestimate_amount: 0.0110792147248\n",
      "P-value for relationship between neighborhood_Yorkville and zestimate_amount: 0.00105853638288\n"
     ]
    }
   ],
   "source": [
    "for column in data.columns.values:\n",
    "    if len(data[column].unique()) == 2:\n",
    "        new_data = data[np.isfinite(data[column])]\n",
    "        data0 = new_data[new_data[column]==0]['zestimate_amount']\n",
    "        data1 = new_data[new_data[column]==1]['zestimate_amount']\n",
    "        pval = ttest_ind(data0, data1)[1]\n",
    "        print \"P-value for relationship between \" + column + \" and zestimate_amount: \" + str(pval)\n",
    "    else:\n",
    "        new_data = data[np.isfinite(data[column])]\n",
    "        corr = np.corrcoef(new_data[column], new_data['zestimate_amount'])[0,1]\n",
    "        print \"Correlation between \" + column + \" and zestimate_amount: \" + str(corr)"
   ]
  },
  {
   "cell_type": "markdown",
   "metadata": {},
   "source": [
    "#### Getting rid of predictors"
   ]
  },
  {
   "cell_type": "markdown",
   "metadata": {},
   "source": [
    "As most of the correlations were quite low, we decided to keep all predictors with a correlation with \"zestimate_amount\" of 0.1 or higher, or, for indicator variables, a p-value of 0.05 or lower.  "
   ]
  },
  {
   "cell_type": "code",
   "execution_count": 78,
   "metadata": {
    "collapsed": true
   },
   "outputs": [],
   "source": [
    "correlated_predictors = []\n",
    "\n",
    "for column in data.columns.values:\n",
    "    if len(data[column].unique()) == 2:\n",
    "        new_data = data[np.isfinite(data[column])]\n",
    "        data0 = new_data[new_data[column]==0]['zestimate_amount']\n",
    "        data1 = new_data[new_data[column]==1]['zestimate_amount']\n",
    "        pval = ttest_ind(data0, data1)[1]\n",
    "        if pval < 0.05:\n",
    "            correlated_predictors += [column]\n",
    "    else:\n",
    "        new_data = data[np.isfinite(data[column])]\n",
    "        corr = np.corrcoef(new_data[column], new_data['zestimate_amount'])[0,1]\n",
    "        if np.abs(corr) > 0.1:\n",
    "            correlated_predictors += [column]"
   ]
  },
  {
   "cell_type": "markdown",
   "metadata": {},
   "source": [
    "#### All correlated predictors:"
   ]
  },
  {
   "cell_type": "code",
   "execution_count": 79,
   "metadata": {
    "collapsed": false,
    "scrolled": true
   },
   "outputs": [
    {
     "data": {
      "text/plain": [
       "['zestimate_amount',\n",
       " 'bathrooms',\n",
       " 'tax_year',\n",
       " 'latitude',\n",
       " 'bedrooms',\n",
       " 'home_size',\n",
       " 'schools_Number Tested',\n",
       " 'schools_Mean ELA Score',\n",
       " 'schools_Mean Math Score',\n",
       " 'schools_mean score',\n",
       " 'ADMINISTRATIVE CODE_last_3_years',\n",
       " 'ASSAULT 3 AND RELATED OFFENSES_last_3_years',\n",
       " 'BURGLARY_last_3_years',\n",
       " 'CRIMINAL TRESPASS_last_3_years',\n",
       " 'FELONY ASSAULT_last_3_years',\n",
       " 'FELONY DANGEROUS DRUGS_last_3_years',\n",
       " 'FELONY DANGEROUS WEAPONS_last_3_years',\n",
       " 'FORGERY_THEFT-FRAUD_IDENTITY THEFT_last_3_years',\n",
       " 'FRAUDS_percent_change',\n",
       " 'GRAND LARCENY OF MOTOR VEHICLE_last_3_years',\n",
       " 'GRAND LARCENY_last_3_years',\n",
       " 'INTOXICATED & IMPAIRED DRIVING_last_3_years',\n",
       " 'INTOXICATED & IMPAIRED DRIVING_percent_change',\n",
       " 'MISD. CRIMINAL MISCHIEF & RELATED OFFENSES_last_3_years',\n",
       " 'MISD. CRIMINAL MISCHIEF & RELATED OFFENSES_percent_change',\n",
       " 'MISDEMEANOR DANGEROUS DRUGS_last_3_years',\n",
       " 'MISDEMEANOR DANGEROUS WEAPONS_last_3_years',\n",
       " 'MISDEMEANOR SEX CRIMES_percent_change',\n",
       " 'MURDER & NON NEGL. MANSLAUGHTER_last_3_years',\n",
       " 'OFFENSES AGAINST PUBLIC ADMINISTRATION_last_3_years',\n",
       " 'OFFENSES AGAINST THE PERSON_last_3_years',\n",
       " 'OTHER FELONIES_last_3_years',\n",
       " 'PETIT LARCENY_last_3_years',\n",
       " 'RAPE_last_3_years',\n",
       " 'RAPE_percent_change',\n",
       " 'ROBBERY_last_3_years',\n",
       " 'TOTAL NON-SEVEN MAJOR FELONY OFFENSES_last_3_years',\n",
       " 'TOTAL SEVEN MAJOR FELONY OFFENSES_last_3_years',\n",
       " 'home_type_Apartment',\n",
       " 'home_type_Condominium',\n",
       " 'home_type_Cooperative',\n",
       " 'home_type_Duplex',\n",
       " 'home_type_Miscellaneous',\n",
       " 'home_type_MultiFamily2To4',\n",
       " 'home_type_Quadruplex',\n",
       " 'home_type_SingleFamily',\n",
       " 'home_type_Townhouse',\n",
       " 'home_type_Unknown',\n",
       " 'neighborhood_Battery Park',\n",
       " 'neighborhood_Bedford-Stuyvesant',\n",
       " 'neighborhood_Borough Park',\n",
       " 'neighborhood_Carnegie Hill',\n",
       " 'neighborhood_Chelsea',\n",
       " 'neighborhood_Chinatown',\n",
       " 'neighborhood_Clinton',\n",
       " 'neighborhood_East Harlem',\n",
       " 'neighborhood_East Village',\n",
       " 'neighborhood_Greenwich Village',\n",
       " 'neighborhood_Hamilton Heights',\n",
       " 'neighborhood_Harlem',\n",
       " 'neighborhood_Inwood',\n",
       " 'neighborhood_Lower East Side',\n",
       " 'neighborhood_Morningside Heights',\n",
       " 'neighborhood_North Sutton Area',\n",
       " 'neighborhood_Soho',\n",
       " 'neighborhood_Tribeca',\n",
       " 'neighborhood_Upper East Side',\n",
       " 'neighborhood_Upper West Side',\n",
       " 'neighborhood_Washington Heights',\n",
       " 'neighborhood_West Village',\n",
       " 'neighborhood_Williamsburg',\n",
       " 'neighborhood_Yorkville']"
      ]
     },
     "execution_count": 79,
     "metadata": {},
     "output_type": "execute_result"
    }
   ],
   "source": [
    "correlated_predictors"
   ]
  },
  {
   "cell_type": "code",
   "execution_count": 80,
   "metadata": {
    "collapsed": true
   },
   "outputs": [],
   "source": [
    "data_only_correlated_predictors = data[correlated_predictors]"
   ]
  },
  {
   "cell_type": "markdown",
   "metadata": {},
   "source": [
    "Many of our predictors are either crime statistics for the precinct in which the home is located (crime rates and percent changes for a variety of different crimes) or statistics on the school district in which the home is located (different test scores).  We expected that many of these predictors would be very highly correlated with each other, and therefore decided to look at the correlations between each individual pair of predictors."
   ]
  },
  {
   "cell_type": "markdown",
   "metadata": {},
   "source": [
    "#### All pairs of predictors with correlations of 0.8 or higher:"
   ]
  },
  {
   "cell_type": "code",
   "execution_count": 81,
   "metadata": {
    "collapsed": false
   },
   "outputs": [
    {
     "name": "stdout",
     "output_type": "stream",
     "text": [
      "0.8285\tschools_Number Tested, schools_Mean Math Score\n",
      "0.8093\tschools_Number Tested, schools_mean score\n",
      "0.9942\tschools_Mean ELA Score, schools_Mean Math Score\n",
      "0.9983\tschools_Mean ELA Score, schools_mean score\n",
      "0.9988\tschools_Mean Math Score, schools_mean score\n",
      "0.931\tASSAULT 3 AND RELATED OFFENSES_last_3_years, FELONY ASSAULT_last_3_years\n",
      "0.8699\tASSAULT 3 AND RELATED OFFENSES_last_3_years, FELONY DANGEROUS WEAPONS_last_3_years\n",
      "0.8323\tASSAULT 3 AND RELATED OFFENSES_last_3_years, MURDER & NON NEGL. MANSLAUGHTER_last_3_years\n",
      "0.883\tASSAULT 3 AND RELATED OFFENSES_last_3_years, OFFENSES AGAINST PUBLIC ADMINISTRATION_last_3_years\n",
      "0.864\tASSAULT 3 AND RELATED OFFENSES_last_3_years, OTHER FELONIES_last_3_years\n",
      "0.8793\tASSAULT 3 AND RELATED OFFENSES_last_3_years, RAPE_last_3_years\n",
      "0.9137\tASSAULT 3 AND RELATED OFFENSES_last_3_years, ROBBERY_last_3_years\n",
      "0.8245\tASSAULT 3 AND RELATED OFFENSES_last_3_years, TOTAL NON-SEVEN MAJOR FELONY OFFENSES_last_3_years\n",
      "0.8658\tBURGLARY_last_3_years, FORGERY_THEFT-FRAUD_IDENTITY THEFT_last_3_years\n",
      "0.8541\tBURGLARY_last_3_years, GRAND LARCENY_last_3_years\n",
      "0.9283\tBURGLARY_last_3_years, TOTAL SEVEN MAJOR FELONY OFFENSES_last_3_years\n",
      "0.9077\tFELONY ASSAULT_last_3_years, FELONY DANGEROUS WEAPONS_last_3_years\n",
      "0.8494\tFELONY ASSAULT_last_3_years, MISDEMEANOR DANGEROUS DRUGS_last_3_years\n",
      "0.8637\tFELONY ASSAULT_last_3_years, MURDER & NON NEGL. MANSLAUGHTER_last_3_years\n",
      "0.8965\tFELONY ASSAULT_last_3_years, OFFENSES AGAINST PUBLIC ADMINISTRATION_last_3_years\n",
      "0.9024\tFELONY ASSAULT_last_3_years, OTHER FELONIES_last_3_years\n",
      "0.8581\tFELONY ASSAULT_last_3_years, RAPE_last_3_years\n",
      "0.9504\tFELONY ASSAULT_last_3_years, ROBBERY_last_3_years\n",
      "0.8915\tFELONY ASSAULT_last_3_years, TOTAL NON-SEVEN MAJOR FELONY OFFENSES_last_3_years\n",
      "0.8204\tFELONY DANGEROUS DRUGS_last_3_years, FELONY DANGEROUS WEAPONS_last_3_years\n",
      "0.9341\tFELONY DANGEROUS DRUGS_last_3_years, MISDEMEANOR DANGEROUS DRUGS_last_3_years\n",
      "0.9011\tFELONY DANGEROUS DRUGS_last_3_years, TOTAL NON-SEVEN MAJOR FELONY OFFENSES_last_3_years\n",
      "0.8709\tFELONY DANGEROUS WEAPONS_last_3_years, MISDEMEANOR DANGEROUS DRUGS_last_3_years\n",
      "0.8073\tFELONY DANGEROUS WEAPONS_last_3_years, MISDEMEANOR DANGEROUS WEAPONS_last_3_years\n",
      "0.8849\tFELONY DANGEROUS WEAPONS_last_3_years, MURDER & NON NEGL. MANSLAUGHTER_last_3_years\n",
      "0.8537\tFELONY DANGEROUS WEAPONS_last_3_years, OFFENSES AGAINST PUBLIC ADMINISTRATION_last_3_years\n",
      "0.84\tFELONY DANGEROUS WEAPONS_last_3_years, OTHER FELONIES_last_3_years\n",
      "0.8598\tFELONY DANGEROUS WEAPONS_last_3_years, RAPE_last_3_years\n",
      "0.8994\tFELONY DANGEROUS WEAPONS_last_3_years, ROBBERY_last_3_years\n",
      "0.8308\tFELONY DANGEROUS WEAPONS_last_3_years, TOTAL NON-SEVEN MAJOR FELONY OFFENSES_last_3_years\n",
      "0.8319\tFORGERY_THEFT-FRAUD_IDENTITY THEFT_last_3_years, TOTAL SEVEN MAJOR FELONY OFFENSES_last_3_years\n",
      "0.8508\tGRAND LARCENY_last_3_years, PETIT LARCENY_last_3_years\n",
      "0.9596\tGRAND LARCENY_last_3_years, TOTAL SEVEN MAJOR FELONY OFFENSES_last_3_years\n",
      "0.8198\tMISDEMEANOR DANGEROUS DRUGS_last_3_years, ROBBERY_last_3_years\n",
      "0.8721\tMISDEMEANOR DANGEROUS DRUGS_last_3_years, TOTAL NON-SEVEN MAJOR FELONY OFFENSES_last_3_years\n",
      "0.8832\tMURDER & NON NEGL. MANSLAUGHTER_last_3_years, OFFENSES AGAINST PUBLIC ADMINISTRATION_last_3_years\n",
      "0.9198\tMURDER & NON NEGL. MANSLAUGHTER_last_3_years, OTHER FELONIES_last_3_years\n",
      "0.8215\tMURDER & NON NEGL. MANSLAUGHTER_last_3_years, RAPE_last_3_years\n",
      "0.8474\tMURDER & NON NEGL. MANSLAUGHTER_last_3_years, ROBBERY_last_3_years\n",
      "0.8831\tOFFENSES AGAINST PUBLIC ADMINISTRATION_last_3_years, OTHER FELONIES_last_3_years\n",
      "0.8567\tOFFENSES AGAINST PUBLIC ADMINISTRATION_last_3_years, ROBBERY_last_3_years\n",
      "0.814\tOTHER FELONIES_last_3_years, RAPE_last_3_years\n",
      "0.8641\tOTHER FELONIES_last_3_years, ROBBERY_last_3_years\n",
      "0.8438\tPETIT LARCENY_last_3_years, TOTAL SEVEN MAJOR FELONY OFFENSES_last_3_years\n",
      "0.8502\tRAPE_last_3_years, ROBBERY_last_3_years\n",
      "0.8437\tROBBERY_last_3_years, TOTAL NON-SEVEN MAJOR FELONY OFFENSES_last_3_years\n"
     ]
    }
   ],
   "source": [
    "for i in range(len(correlated_predictors)):\n",
    "    if i+1 < len(correlated_predictors) and i != 1:\n",
    "        for j in range(i, len(correlated_predictors)):\n",
    "            if i != j and j !=1:\n",
    "                column1 = correlated_predictors[i]\n",
    "                column2 = correlated_predictors[j]\n",
    "                new_data = data[np.isfinite(data[column1])]\n",
    "                new_data = new_data[np.isfinite(new_data[column2])]\n",
    "\n",
    "                corr = np.corrcoef(new_data[column1], new_data[column2])\n",
    "                if corr[0,1] > .8:\n",
    "                    print str(round(corr[0,1], 4)) + \"\\t\"+column1 + \", \" + column2 "
   ]
  },
  {
   "cell_type": "markdown",
   "metadata": {},
   "source": [
    "#### Heatmap to show the correlations between predictors:"
   ]
  },
  {
   "cell_type": "code",
   "execution_count": 82,
   "metadata": {
    "collapsed": false
   },
   "outputs": [
    {
     "data": {
      "image/png": "[encoded data removed]",
      "text/plain": [
       "<matplotlib.figure.Figure at 0x116227210>"
      ]
     },
     "metadata": {},
     "output_type": "display_data"
    }
   ],
   "source": [
    "# Compute matrix of correlation coefficients\n",
    "corr_matrix = np.corrcoef(data[correlated_predictors].T)\n",
    "# Display heat map \n",
    "plt.subplots(1, 1, figsize=(6, 6))\n",
    "\n",
    "plt.pcolor(corr_matrix)\n",
    "\n",
    "plt.title('Heatmap of correlation matrix')\n",
    "plt.colorbar()\n",
    "\n",
    "plt.show()"
   ]
  },
  {
   "cell_type": "markdown",
   "metadata": {},
   "source": [
    "We can see from the heatmap that many pairs of predictors (represented by the dark red and dark blue squares) are highly correlated with each other.\n",
    "\n",
    "We decided to keep only a small subset of our crimes predictors, including only murder rate, rape rate, robbery rate, and the total number of seven major felony offenses over the last 3 years."
   ]
  },
  {
   "cell_type": "markdown",
   "metadata": {},
   "source": [
    "#### Correlations between the crime predictors that we chose to keep:"
   ]
  },
  {
   "cell_type": "code",
   "execution_count": 83,
   "metadata": {
    "collapsed": true
   },
   "outputs": [],
   "source": [
    "crimes = ['MURDER & NON NEGL. MANSLAUGHTER_last_3_years', 'RAPE_last_3_years',\\\n",
    " 'ROBBERY_last_3_years', 'TOTAL SEVEN MAJOR FELONY OFFENSES_last_3_years']"
   ]
  },
  {
   "cell_type": "code",
   "execution_count": 84,
   "metadata": {
    "collapsed": false
   },
   "outputs": [
    {
     "name": "stdout",
     "output_type": "stream",
     "text": [
      "0.8215\tMURDER & NON NEGL. MANSLAUGHTER_last_3_years, RAPE_last_3_years\n",
      "0.8474\tMURDER & NON NEGL. MANSLAUGHTER_last_3_years, ROBBERY_last_3_years\n",
      "-0.3885\tMURDER & NON NEGL. MANSLAUGHTER_last_3_years, TOTAL SEVEN MAJOR FELONY OFFENSES_last_3_years\n",
      "0.8502\tRAPE_last_3_years, ROBBERY_last_3_years\n",
      "-0.2169\tRAPE_last_3_years, TOTAL SEVEN MAJOR FELONY OFFENSES_last_3_years\n",
      "-0.1957\tROBBERY_last_3_years, TOTAL SEVEN MAJOR FELONY OFFENSES_last_3_years\n"
     ]
    }
   ],
   "source": [
    "for i in range(len(crimes)):\n",
    "    if i+1 < len(crimes):\n",
    "        for j in range(i, len(crimes)):\n",
    "            if i != j:\n",
    "                column1 = crimes[i]\n",
    "                column2 = crimes[j]\n",
    "                new_data = data[np.isfinite(data[column1])]\n",
    "                new_data = new_data[np.isfinite(new_data[column2])]\n",
    "\n",
    "                corr = np.corrcoef(new_data[column1], new_data[column2])\n",
    "                print str(round(corr[0,1], 4)) + \"\\t\"+column1 + \", \" + column2 "
   ]
  },
  {
   "cell_type": "markdown",
   "metadata": {},
   "source": [
    "There is now much less inter-correlation between our crimes predictors.\n",
    "\n",
    "For schools predictors, we decided to keep only the mean scores and the number of schools tested in the district."
   ]
  },
  {
   "cell_type": "code",
   "execution_count": 85,
   "metadata": {
    "collapsed": true
   },
   "outputs": [],
   "source": [
    "final_predictors = ['zestimate_amount','bathrooms', 'latitude', 'bedrooms','home_size',\\\n",
    "                    'MURDER & NON NEGL. MANSLAUGHTER_last_3_years', 'RAPE_last_3_years',\\\n",
    "                    'ROBBERY_last_3_years', 'TOTAL SEVEN MAJOR FELONY OFFENSES_last_3_years',\\\n",
    "                    'schools_Number Tested', 'schools_mean score', 'home_type_Apartment','home_type_Condominium',\\\n",
    "                    'home_type_Cooperative','home_type_Duplex','home_type_Miscellaneous','home_type_MultiFamily2To4',\\\n",
    "                    'home_type_Quadruplex','home_type_SingleFamily','home_type_Townhouse','home_type_Unknown',\\\n",
    "                    'neighborhood_Battery Park', \\\n",
    "                    'neighborhood_Carnegie Hill','neighborhood_Chelsea','neighborhood_Chinatown',\\\n",
    "                    'neighborhood_Clinton','neighborhood_East Harlem','neighborhood_East Village',\\\n",
    "                    'neighborhood_Greenwich Village','neighborhood_Hamilton Heights','neighborhood_Harlem',\\\n",
    "                    'neighborhood_Inwood','neighborhood_Lower East Side','neighborhood_Morningside Heights',\\\n",
    "                    'neighborhood_North Sutton Area','neighborhood_Soho','neighborhood_Tribeca',\\\n",
    "                    'neighborhood_Upper East Side','neighborhood_Upper West Side','neighborhood_Washington Heights',\\\n",
    "                    'neighborhood_West Village','neighborhood_Yorkville']"
   ]
  },
  {
   "cell_type": "markdown",
   "metadata": {},
   "source": [
    "#### Our final predictors:"
   ]
  },
  {
   "cell_type": "code",
   "execution_count": 86,
   "metadata": {
    "collapsed": false,
    "scrolled": true
   },
   "outputs": [
    {
     "name": "stdout",
     "output_type": "stream",
     "text": [
      "['zestimate_amount', 'bathrooms', 'latitude', 'bedrooms', 'home_size', 'MURDER & NON NEGL. MANSLAUGHTER_last_3_years', 'RAPE_last_3_years', 'ROBBERY_last_3_years', 'TOTAL SEVEN MAJOR FELONY OFFENSES_last_3_years', 'schools_Number Tested', 'schools_mean score', 'home_type_Apartment', 'home_type_Condominium', 'home_type_Cooperative', 'home_type_Duplex', 'home_type_Miscellaneous', 'home_type_MultiFamily2To4', 'home_type_Quadruplex', 'home_type_SingleFamily', 'home_type_Townhouse', 'home_type_Unknown', 'neighborhood_Battery Park', 'neighborhood_Carnegie Hill', 'neighborhood_Chelsea', 'neighborhood_Chinatown', 'neighborhood_Clinton', 'neighborhood_East Harlem', 'neighborhood_East Village', 'neighborhood_Greenwich Village', 'neighborhood_Hamilton Heights', 'neighborhood_Harlem', 'neighborhood_Inwood', 'neighborhood_Lower East Side', 'neighborhood_Morningside Heights', 'neighborhood_North Sutton Area', 'neighborhood_Soho', 'neighborhood_Tribeca', 'neighborhood_Upper East Side', 'neighborhood_Upper West Side', 'neighborhood_Washington Heights', 'neighborhood_West Village', 'neighborhood_Yorkville']\n"
     ]
    }
   ],
   "source": [
    "print final_predictors"
   ]
  },
  {
   "cell_type": "code",
   "execution_count": 87,
   "metadata": {
    "collapsed": false
   },
   "outputs": [],
   "source": [
    "data = data[final_predictors]"
   ]
  },
  {
   "cell_type": "markdown",
   "metadata": {},
   "source": [
    "To deal with missing values, we decided to, for this dataset, get rid of all rows with NAs for number of bedrooms and number of bathrooms (since we thought that these were important predictors that we didn't want to impute and most of the NAs for these two predictors were in the same rows).  We then imputed with the median (using sklearn's \"Imputer\" function) for the rest of the missing values.\n",
    "\n",
    "We then split this data into train and test sets, and exported them to separate CSVs."
   ]
  },
  {
   "cell_type": "code",
   "execution_count": 88,
   "metadata": {
    "collapsed": true
   },
   "outputs": [],
   "source": [
    "data = data[np.isfinite(data['bedrooms'])]\n",
    "data = data[np.isfinite(data['bathrooms'])]"
   ]
  },
  {
   "cell_type": "code",
   "execution_count": 89,
   "metadata": {
    "collapsed": true
   },
   "outputs": [],
   "source": [
    "column_names = data.columns.values"
   ]
  },
  {
   "cell_type": "code",
   "execution_count": 90,
   "metadata": {
    "collapsed": true
   },
   "outputs": [],
   "source": [
    "imputer_data = Imputer(strategy = \"median\")\n",
    "imputer_data.fit(data)\n",
    "data = imputer_data.transform(data)"
   ]
  },
  {
   "cell_type": "code",
   "execution_count": 91,
   "metadata": {
    "collapsed": true
   },
   "outputs": [],
   "source": [
    "data = pd.DataFrame(data, columns = column_names)"
   ]
  },
  {
   "cell_type": "code",
   "execution_count": 92,
   "metadata": {
    "collapsed": true
   },
   "outputs": [],
   "source": [
    "test = data.sample(n=2500)\n",
    "train = data.drop(test.index)"
   ]
  },
  {
   "cell_type": "code",
   "execution_count": 93,
   "metadata": {
    "collapsed": true
   },
   "outputs": [],
   "source": [
    "test.to_csv(\"test_best_features.csv\", index = False)\n",
    "train.to_csv(\"train_best_features.csv\", index = False)"
   ]
  }
 ],
 "metadata": {
  "anaconda-cloud": {},
  "kernelspec": {
   "display_name": "Python [conda root]",
   "language": "python",
   "name": "conda-root-py"
  },
  "language_info": {
   "codemirror_mode": {
    "name": "ipython",
    "version": 2
   },
   "file_extension": ".py",
   "mimetype": "text/x-python",
   "name": "python",
   "nbconvert_exporter": "python",
   "pygments_lexer": "ipython2",
   "version": "2.7.12"
  }
 },
 "nbformat": 4,
 "nbformat_minor": 1
}
